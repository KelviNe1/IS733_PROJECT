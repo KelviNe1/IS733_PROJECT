{
  "cells": [
    {
      "cell_type": "code",
      "source": [
        "import pandas as pd\n",
        "import numpy as np\n",
        "%matplotlib inline\n",
        "from matplotlib import pyplot as plt\n",
        "import seaborn as sns\n",
        "from sklearn.preprocessing import StandardScaler\n",
        "from sklearn.pipeline import make_pipeline\n",
        "from sklearn.metrics import mean_squared_error, r2_score, classification_report, confusion_matrix\n",
        "from sklearn.model_selection import cross_val_predict, train_test_split, cross_val_score\n",
        "from sklearn.neighbors import KNeighborsRegressor\n",
        "from sklearn.model_selection import KFold\n",
        "import joblib\n",
        "import sys\n",
        "sys.modules['sklearn.externals.joblib'] = joblib\n",
        "!pip install mlxtend\n",
        "from mlxtend.feature_selection import SequentialFeatureSelector as SFS\n",
        "from sklearn.linear_model import LogisticRegression\n",
        "from math import sqrt\n",
        "from sklearn.ensemble import RandomForestClassifier\n",
        "\n"
      ],
      "metadata": {
        "colab": {
          "base_uri": "https://localhost:8080/"
        },
        "id": "Mm-3wo0SBs_f",
        "outputId": "85df7626-e15b-4d39-f8d5-69a9b5dd8899"
      },
      "execution_count": 12,
      "outputs": [
        {
          "output_type": "stream",
          "name": "stdout",
          "text": [
            "Looking in indexes: https://pypi.org/simple, https://us-python.pkg.dev/colab-wheels/public/simple/\n",
            "Requirement already satisfied: mlxtend in /usr/local/lib/python3.8/dist-packages (0.14.0)\n",
            "Requirement already satisfied: scipy>=0.17 in /usr/local/lib/python3.8/dist-packages (from mlxtend) (1.7.3)\n",
            "Requirement already satisfied: setuptools in /usr/local/lib/python3.8/dist-packages (from mlxtend) (57.4.0)\n",
            "Requirement already satisfied: matplotlib>=1.5.1 in /usr/local/lib/python3.8/dist-packages (from mlxtend) (3.2.2)\n",
            "Requirement already satisfied: pandas>=0.17.1 in /usr/local/lib/python3.8/dist-packages (from mlxtend) (1.3.5)\n",
            "Requirement already satisfied: numpy>=1.10.4 in /usr/local/lib/python3.8/dist-packages (from mlxtend) (1.21.6)\n",
            "Requirement already satisfied: scikit-learn>=0.18 in /usr/local/lib/python3.8/dist-packages (from mlxtend) (1.0.2)\n",
            "Requirement already satisfied: cycler>=0.10 in /usr/local/lib/python3.8/dist-packages (from matplotlib>=1.5.1->mlxtend) (0.11.0)\n",
            "Requirement already satisfied: kiwisolver>=1.0.1 in /usr/local/lib/python3.8/dist-packages (from matplotlib>=1.5.1->mlxtend) (1.4.4)\n",
            "Requirement already satisfied: python-dateutil>=2.1 in /usr/local/lib/python3.8/dist-packages (from matplotlib>=1.5.1->mlxtend) (2.8.2)\n",
            "Requirement already satisfied: pyparsing!=2.0.4,!=2.1.2,!=2.1.6,>=2.0.1 in /usr/local/lib/python3.8/dist-packages (from matplotlib>=1.5.1->mlxtend) (3.0.9)\n",
            "Requirement already satisfied: pytz>=2017.3 in /usr/local/lib/python3.8/dist-packages (from pandas>=0.17.1->mlxtend) (2022.6)\n",
            "Requirement already satisfied: six>=1.5 in /usr/local/lib/python3.8/dist-packages (from python-dateutil>=2.1->matplotlib>=1.5.1->mlxtend) (1.15.0)\n",
            "Requirement already satisfied: joblib>=0.11 in /usr/local/lib/python3.8/dist-packages (from scikit-learn>=0.18->mlxtend) (1.2.0)\n",
            "Requirement already satisfied: threadpoolctl>=2.0.0 in /usr/local/lib/python3.8/dist-packages (from scikit-learn>=0.18->mlxtend) (3.1.0)\n"
          ]
        }
      ]
    },
    {
      "cell_type": "code",
      "source": [
        "from google.colab import drive\n",
        "drive.mount('/content/gdrive/')"
      ],
      "metadata": {
        "colab": {
          "base_uri": "https://localhost:8080/"
        },
        "id": "0rCHbaAy_p6A",
        "outputId": "23a758aa-3e49-4e56-c3b1-785f91468dfd"
      },
      "execution_count": 1,
      "outputs": [
        {
          "output_type": "stream",
          "name": "stdout",
          "text": [
            "Mounted at /content/gdrive/\n"
          ]
        }
      ]
    },
    {
      "cell_type": "code",
      "source": [
        "import os\n",
        "pwd = os.getcwd()\n",
        "file_loc2 = os.path.join(pwd,'gdrive/MyDrive/IS733 Project/insurance_data_clean4viz_12222022.csv')"
      ],
      "metadata": {
        "id": "bm4UZx4yL1gy"
      },
      "execution_count": 2,
      "outputs": []
    },
    {
      "cell_type": "markdown",
      "source": [
        "### Accessing our Cleaned Dataset:"
      ],
      "metadata": {
        "id": "W54ZVk-RkQY-"
      }
    },
    {
      "cell_type": "code",
      "execution_count": 3,
      "metadata": {
        "id": "9vK6Jkeh_RX2"
      },
      "outputs": [],
      "source": [
        "import pandas as pd\n",
        "df = pd.read_csv(file_loc2)"
      ]
    },
    {
      "cell_type": "code",
      "source": [
        "df.head()"
      ],
      "metadata": {
        "colab": {
          "base_uri": "https://localhost:8080/",
          "height": 372
        },
        "id": "ZCKZQlyB09k4",
        "outputId": "1259a488-f709-4c0c-a953-48d93dd3e1ca"
      },
      "execution_count": 4,
      "outputs": [
        {
          "output_type": "execute_result",
          "data": {
            "text/plain": [
              "   Age at Injury Alternative Dispute Resolution Attorney/Representative  \\\n",
              "0             44                              N                       Y   \n",
              "1             34                              N                       N   \n",
              "2             35                              N                       N   \n",
              "3             25                              N                       Y   \n",
              "4             48                              N                       N   \n",
              "\n",
              "   Average Weekly Wage      Carrier Type Claim Injury Type  Closed Count  \\\n",
              "0               546.69  4A. SELF PRIVATE       3. MED ONLY             1   \n",
              "1               656.23       1A. PRIVATE      4. TEMPORARY             1   \n",
              "2              1261.77       1A. PRIVATE      4. TEMPORARY             0   \n",
              "3              1000.00           2A. SIF      4. TEMPORARY             1   \n",
              "4              1126.77   3A. SELF PUBLIC       3. MED ONLY             1   \n",
              "\n",
              "  Current Claim Status District Name Gender  Hearing Count  \\\n",
              "0           MOTION SET           NYC      M              0   \n",
              "1           MOTION SET     ROCHESTER      M              0   \n",
              "2           MOTION SET        ALBANY      M              0   \n",
              "3           MOTION SET           NYC      M              0   \n",
              "4           MOTION SET     HAUPPAUGE      M              0   \n",
              "\n",
              "                   Highest Process Occupational Disease  \\\n",
              "0  2. ADMINISTRATIVE DETERMINATION                    N   \n",
              "1  2. ADMINISTRATIVE DETERMINATION                    N   \n",
              "2  2. ADMINISTRATIVE DETERMINATION                    N   \n",
              "3               1.  NO RESOLUTIONS                    N   \n",
              "4  2. ADMINISTRATIVE DETERMINATION                    N   \n",
              "\n",
              "   Claim Assembly Time Lag  \n",
              "0                     68.0  \n",
              "1                      6.0  \n",
              "2                     24.0  \n",
              "3                     23.0  \n",
              "4                      4.0  "
            ],
            "text/html": [
              "\n",
              "  <div id=\"df-ca47334f-e91f-460e-9ef9-d88f7de7970e\">\n",
              "    <div class=\"colab-df-container\">\n",
              "      <div>\n",
              "<style scoped>\n",
              "    .dataframe tbody tr th:only-of-type {\n",
              "        vertical-align: middle;\n",
              "    }\n",
              "\n",
              "    .dataframe tbody tr th {\n",
              "        vertical-align: top;\n",
              "    }\n",
              "\n",
              "    .dataframe thead th {\n",
              "        text-align: right;\n",
              "    }\n",
              "</style>\n",
              "<table border=\"1\" class=\"dataframe\">\n",
              "  <thead>\n",
              "    <tr style=\"text-align: right;\">\n",
              "      <th></th>\n",
              "      <th>Age at Injury</th>\n",
              "      <th>Alternative Dispute Resolution</th>\n",
              "      <th>Attorney/Representative</th>\n",
              "      <th>Average Weekly Wage</th>\n",
              "      <th>Carrier Type</th>\n",
              "      <th>Claim Injury Type</th>\n",
              "      <th>Closed Count</th>\n",
              "      <th>Current Claim Status</th>\n",
              "      <th>District Name</th>\n",
              "      <th>Gender</th>\n",
              "      <th>Hearing Count</th>\n",
              "      <th>Highest Process</th>\n",
              "      <th>Occupational Disease</th>\n",
              "      <th>Claim Assembly Time Lag</th>\n",
              "    </tr>\n",
              "  </thead>\n",
              "  <tbody>\n",
              "    <tr>\n",
              "      <th>0</th>\n",
              "      <td>44</td>\n",
              "      <td>N</td>\n",
              "      <td>Y</td>\n",
              "      <td>546.69</td>\n",
              "      <td>4A. SELF PRIVATE</td>\n",
              "      <td>3. MED ONLY</td>\n",
              "      <td>1</td>\n",
              "      <td>MOTION SET</td>\n",
              "      <td>NYC</td>\n",
              "      <td>M</td>\n",
              "      <td>0</td>\n",
              "      <td>2. ADMINISTRATIVE DETERMINATION</td>\n",
              "      <td>N</td>\n",
              "      <td>68.0</td>\n",
              "    </tr>\n",
              "    <tr>\n",
              "      <th>1</th>\n",
              "      <td>34</td>\n",
              "      <td>N</td>\n",
              "      <td>N</td>\n",
              "      <td>656.23</td>\n",
              "      <td>1A. PRIVATE</td>\n",
              "      <td>4. TEMPORARY</td>\n",
              "      <td>1</td>\n",
              "      <td>MOTION SET</td>\n",
              "      <td>ROCHESTER</td>\n",
              "      <td>M</td>\n",
              "      <td>0</td>\n",
              "      <td>2. ADMINISTRATIVE DETERMINATION</td>\n",
              "      <td>N</td>\n",
              "      <td>6.0</td>\n",
              "    </tr>\n",
              "    <tr>\n",
              "      <th>2</th>\n",
              "      <td>35</td>\n",
              "      <td>N</td>\n",
              "      <td>N</td>\n",
              "      <td>1261.77</td>\n",
              "      <td>1A. PRIVATE</td>\n",
              "      <td>4. TEMPORARY</td>\n",
              "      <td>0</td>\n",
              "      <td>MOTION SET</td>\n",
              "      <td>ALBANY</td>\n",
              "      <td>M</td>\n",
              "      <td>0</td>\n",
              "      <td>2. ADMINISTRATIVE DETERMINATION</td>\n",
              "      <td>N</td>\n",
              "      <td>24.0</td>\n",
              "    </tr>\n",
              "    <tr>\n",
              "      <th>3</th>\n",
              "      <td>25</td>\n",
              "      <td>N</td>\n",
              "      <td>Y</td>\n",
              "      <td>1000.00</td>\n",
              "      <td>2A. SIF</td>\n",
              "      <td>4. TEMPORARY</td>\n",
              "      <td>1</td>\n",
              "      <td>MOTION SET</td>\n",
              "      <td>NYC</td>\n",
              "      <td>M</td>\n",
              "      <td>0</td>\n",
              "      <td>1.  NO RESOLUTIONS</td>\n",
              "      <td>N</td>\n",
              "      <td>23.0</td>\n",
              "    </tr>\n",
              "    <tr>\n",
              "      <th>4</th>\n",
              "      <td>48</td>\n",
              "      <td>N</td>\n",
              "      <td>N</td>\n",
              "      <td>1126.77</td>\n",
              "      <td>3A. SELF PUBLIC</td>\n",
              "      <td>3. MED ONLY</td>\n",
              "      <td>1</td>\n",
              "      <td>MOTION SET</td>\n",
              "      <td>HAUPPAUGE</td>\n",
              "      <td>M</td>\n",
              "      <td>0</td>\n",
              "      <td>2. ADMINISTRATIVE DETERMINATION</td>\n",
              "      <td>N</td>\n",
              "      <td>4.0</td>\n",
              "    </tr>\n",
              "  </tbody>\n",
              "</table>\n",
              "</div>\n",
              "      <button class=\"colab-df-convert\" onclick=\"convertToInteractive('df-ca47334f-e91f-460e-9ef9-d88f7de7970e')\"\n",
              "              title=\"Convert this dataframe to an interactive table.\"\n",
              "              style=\"display:none;\">\n",
              "        \n",
              "  <svg xmlns=\"http://www.w3.org/2000/svg\" height=\"24px\"viewBox=\"0 0 24 24\"\n",
              "       width=\"24px\">\n",
              "    <path d=\"M0 0h24v24H0V0z\" fill=\"none\"/>\n",
              "    <path d=\"M18.56 5.44l.94 2.06.94-2.06 2.06-.94-2.06-.94-.94-2.06-.94 2.06-2.06.94zm-11 1L8.5 8.5l.94-2.06 2.06-.94-2.06-.94L8.5 2.5l-.94 2.06-2.06.94zm10 10l.94 2.06.94-2.06 2.06-.94-2.06-.94-.94-2.06-.94 2.06-2.06.94z\"/><path d=\"M17.41 7.96l-1.37-1.37c-.4-.4-.92-.59-1.43-.59-.52 0-1.04.2-1.43.59L10.3 9.45l-7.72 7.72c-.78.78-.78 2.05 0 2.83L4 21.41c.39.39.9.59 1.41.59.51 0 1.02-.2 1.41-.59l7.78-7.78 2.81-2.81c.8-.78.8-2.07 0-2.86zM5.41 20L4 18.59l7.72-7.72 1.47 1.35L5.41 20z\"/>\n",
              "  </svg>\n",
              "      </button>\n",
              "      \n",
              "  <style>\n",
              "    .colab-df-container {\n",
              "      display:flex;\n",
              "      flex-wrap:wrap;\n",
              "      gap: 12px;\n",
              "    }\n",
              "\n",
              "    .colab-df-convert {\n",
              "      background-color: #E8F0FE;\n",
              "      border: none;\n",
              "      border-radius: 50%;\n",
              "      cursor: pointer;\n",
              "      display: none;\n",
              "      fill: #1967D2;\n",
              "      height: 32px;\n",
              "      padding: 0 0 0 0;\n",
              "      width: 32px;\n",
              "    }\n",
              "\n",
              "    .colab-df-convert:hover {\n",
              "      background-color: #E2EBFA;\n",
              "      box-shadow: 0px 1px 2px rgba(60, 64, 67, 0.3), 0px 1px 3px 1px rgba(60, 64, 67, 0.15);\n",
              "      fill: #174EA6;\n",
              "    }\n",
              "\n",
              "    [theme=dark] .colab-df-convert {\n",
              "      background-color: #3B4455;\n",
              "      fill: #D2E3FC;\n",
              "    }\n",
              "\n",
              "    [theme=dark] .colab-df-convert:hover {\n",
              "      background-color: #434B5C;\n",
              "      box-shadow: 0px 1px 3px 1px rgba(0, 0, 0, 0.15);\n",
              "      filter: drop-shadow(0px 1px 2px rgba(0, 0, 0, 0.3));\n",
              "      fill: #FFFFFF;\n",
              "    }\n",
              "  </style>\n",
              "\n",
              "      <script>\n",
              "        const buttonEl =\n",
              "          document.querySelector('#df-ca47334f-e91f-460e-9ef9-d88f7de7970e button.colab-df-convert');\n",
              "        buttonEl.style.display =\n",
              "          google.colab.kernel.accessAllowed ? 'block' : 'none';\n",
              "\n",
              "        async function convertToInteractive(key) {\n",
              "          const element = document.querySelector('#df-ca47334f-e91f-460e-9ef9-d88f7de7970e');\n",
              "          const dataTable =\n",
              "            await google.colab.kernel.invokeFunction('convertToInteractive',\n",
              "                                                     [key], {});\n",
              "          if (!dataTable) return;\n",
              "\n",
              "          const docLinkHtml = 'Like what you see? Visit the ' +\n",
              "            '<a target=\"_blank\" href=https://colab.research.google.com/notebooks/data_table.ipynb>data table notebook</a>'\n",
              "            + ' to learn more about interactive tables.';\n",
              "          element.innerHTML = '';\n",
              "          dataTable['output_type'] = 'display_data';\n",
              "          await google.colab.output.renderOutput(dataTable, element);\n",
              "          const docLink = document.createElement('div');\n",
              "          docLink.innerHTML = docLinkHtml;\n",
              "          element.appendChild(docLink);\n",
              "        }\n",
              "      </script>\n",
              "    </div>\n",
              "  </div>\n",
              "  "
            ]
          },
          "metadata": {},
          "execution_count": 4
        }
      ]
    },
    {
      "cell_type": "code",
      "source": [
        "df.shape"
      ],
      "metadata": {
        "colab": {
          "base_uri": "https://localhost:8080/"
        },
        "id": "0uG_SACqgIj0",
        "outputId": "a5efe25c-2833-4a82-8e47-813ceeafe016"
      },
      "execution_count": 5,
      "outputs": [
        {
          "output_type": "execute_result",
          "data": {
            "text/plain": [
              "(1774336, 14)"
            ]
          },
          "metadata": {},
          "execution_count": 5
        }
      ]
    },
    {
      "cell_type": "code",
      "execution_count": 6,
      "metadata": {
        "id": "AizjfMcn_RX2",
        "outputId": "c03dea45-bef5-4046-9e63-05eff37e9f04",
        "colab": {
          "base_uri": "https://localhost:8080/"
        }
      },
      "outputs": [
        {
          "output_type": "execute_result",
          "data": {
            "text/plain": [
              "Index(['Age at Injury', 'Alternative Dispute Resolution',\n",
              "       'Attorney/Representative', 'Average Weekly Wage', 'Carrier Type',\n",
              "       'Claim Injury Type', 'Closed Count', 'Current Claim Status',\n",
              "       'District Name', 'Gender', 'Hearing Count', 'Highest Process',\n",
              "       'Occupational Disease', 'Claim Assembly Time Lag'],\n",
              "      dtype='object')"
            ]
          },
          "metadata": {},
          "execution_count": 6
        }
      ],
      "source": [
        "#df.columns.to_list()\n",
        "#list(df.columns)\n",
        "df.columns"
      ]
    },
    {
      "cell_type": "code",
      "source": [
        "df.describe()"
      ],
      "metadata": {
        "colab": {
          "base_uri": "https://localhost:8080/",
          "height": 300
        },
        "id": "v-5YaEqtYDsX",
        "outputId": "dca3ee0d-b2f0-44f8-ad62-302cf7af705c"
      },
      "execution_count": 28,
      "outputs": [
        {
          "output_type": "execute_result",
          "data": {
            "text/plain": [
              "       Age at Injury  Average Weekly Wage  Closed Count  Hearing Count  \\\n",
              "count   1.774336e+06         1.774336e+06  1.774336e+06   1.774336e+06   \n",
              "mean    4.331390e+01         9.168877e+02  3.133837e+00   2.480628e+00   \n",
              "std     1.214957e+01         6.578750e+03  2.974311e+00   3.754411e+00   \n",
              "min     1.600000e+01         6.440000e+00  0.000000e+00   0.000000e+00   \n",
              "25%     3.400000e+01         4.944175e+02  1.000000e+00   0.000000e+00   \n",
              "50%     4.400000e+01         7.378200e+02  2.000000e+00   1.000000e+00   \n",
              "75%     5.300000e+01         1.131643e+03  4.000000e+00   3.000000e+00   \n",
              "max     7.500000e+01         3.637058e+06  4.500000e+01   7.000000e+01   \n",
              "\n",
              "       Claim Assembly Time Lag  \n",
              "count             1.774336e+06  \n",
              "mean              8.671033e+01  \n",
              "std               2.812406e+02  \n",
              "min               0.000000e+00  \n",
              "25%               1.400000e+01  \n",
              "50%               2.800000e+01  \n",
              "75%               5.600000e+01  \n",
              "max               1.791800e+04  "
            ],
            "text/html": [
              "\n",
              "  <div id=\"df-21cbb89d-a52c-4aab-9779-8491299c6f41\">\n",
              "    <div class=\"colab-df-container\">\n",
              "      <div>\n",
              "<style scoped>\n",
              "    .dataframe tbody tr th:only-of-type {\n",
              "        vertical-align: middle;\n",
              "    }\n",
              "\n",
              "    .dataframe tbody tr th {\n",
              "        vertical-align: top;\n",
              "    }\n",
              "\n",
              "    .dataframe thead th {\n",
              "        text-align: right;\n",
              "    }\n",
              "</style>\n",
              "<table border=\"1\" class=\"dataframe\">\n",
              "  <thead>\n",
              "    <tr style=\"text-align: right;\">\n",
              "      <th></th>\n",
              "      <th>Age at Injury</th>\n",
              "      <th>Average Weekly Wage</th>\n",
              "      <th>Closed Count</th>\n",
              "      <th>Hearing Count</th>\n",
              "      <th>Claim Assembly Time Lag</th>\n",
              "    </tr>\n",
              "  </thead>\n",
              "  <tbody>\n",
              "    <tr>\n",
              "      <th>count</th>\n",
              "      <td>1.774336e+06</td>\n",
              "      <td>1.774336e+06</td>\n",
              "      <td>1.774336e+06</td>\n",
              "      <td>1.774336e+06</td>\n",
              "      <td>1.774336e+06</td>\n",
              "    </tr>\n",
              "    <tr>\n",
              "      <th>mean</th>\n",
              "      <td>4.331390e+01</td>\n",
              "      <td>9.168877e+02</td>\n",
              "      <td>3.133837e+00</td>\n",
              "      <td>2.480628e+00</td>\n",
              "      <td>8.671033e+01</td>\n",
              "    </tr>\n",
              "    <tr>\n",
              "      <th>std</th>\n",
              "      <td>1.214957e+01</td>\n",
              "      <td>6.578750e+03</td>\n",
              "      <td>2.974311e+00</td>\n",
              "      <td>3.754411e+00</td>\n",
              "      <td>2.812406e+02</td>\n",
              "    </tr>\n",
              "    <tr>\n",
              "      <th>min</th>\n",
              "      <td>1.600000e+01</td>\n",
              "      <td>6.440000e+00</td>\n",
              "      <td>0.000000e+00</td>\n",
              "      <td>0.000000e+00</td>\n",
              "      <td>0.000000e+00</td>\n",
              "    </tr>\n",
              "    <tr>\n",
              "      <th>25%</th>\n",
              "      <td>3.400000e+01</td>\n",
              "      <td>4.944175e+02</td>\n",
              "      <td>1.000000e+00</td>\n",
              "      <td>0.000000e+00</td>\n",
              "      <td>1.400000e+01</td>\n",
              "    </tr>\n",
              "    <tr>\n",
              "      <th>50%</th>\n",
              "      <td>4.400000e+01</td>\n",
              "      <td>7.378200e+02</td>\n",
              "      <td>2.000000e+00</td>\n",
              "      <td>1.000000e+00</td>\n",
              "      <td>2.800000e+01</td>\n",
              "    </tr>\n",
              "    <tr>\n",
              "      <th>75%</th>\n",
              "      <td>5.300000e+01</td>\n",
              "      <td>1.131643e+03</td>\n",
              "      <td>4.000000e+00</td>\n",
              "      <td>3.000000e+00</td>\n",
              "      <td>5.600000e+01</td>\n",
              "    </tr>\n",
              "    <tr>\n",
              "      <th>max</th>\n",
              "      <td>7.500000e+01</td>\n",
              "      <td>3.637058e+06</td>\n",
              "      <td>4.500000e+01</td>\n",
              "      <td>7.000000e+01</td>\n",
              "      <td>1.791800e+04</td>\n",
              "    </tr>\n",
              "  </tbody>\n",
              "</table>\n",
              "</div>\n",
              "      <button class=\"colab-df-convert\" onclick=\"convertToInteractive('df-21cbb89d-a52c-4aab-9779-8491299c6f41')\"\n",
              "              title=\"Convert this dataframe to an interactive table.\"\n",
              "              style=\"display:none;\">\n",
              "        \n",
              "  <svg xmlns=\"http://www.w3.org/2000/svg\" height=\"24px\"viewBox=\"0 0 24 24\"\n",
              "       width=\"24px\">\n",
              "    <path d=\"M0 0h24v24H0V0z\" fill=\"none\"/>\n",
              "    <path d=\"M18.56 5.44l.94 2.06.94-2.06 2.06-.94-2.06-.94-.94-2.06-.94 2.06-2.06.94zm-11 1L8.5 8.5l.94-2.06 2.06-.94-2.06-.94L8.5 2.5l-.94 2.06-2.06.94zm10 10l.94 2.06.94-2.06 2.06-.94-2.06-.94-.94-2.06-.94 2.06-2.06.94z\"/><path d=\"M17.41 7.96l-1.37-1.37c-.4-.4-.92-.59-1.43-.59-.52 0-1.04.2-1.43.59L10.3 9.45l-7.72 7.72c-.78.78-.78 2.05 0 2.83L4 21.41c.39.39.9.59 1.41.59.51 0 1.02-.2 1.41-.59l7.78-7.78 2.81-2.81c.8-.78.8-2.07 0-2.86zM5.41 20L4 18.59l7.72-7.72 1.47 1.35L5.41 20z\"/>\n",
              "  </svg>\n",
              "      </button>\n",
              "      \n",
              "  <style>\n",
              "    .colab-df-container {\n",
              "      display:flex;\n",
              "      flex-wrap:wrap;\n",
              "      gap: 12px;\n",
              "    }\n",
              "\n",
              "    .colab-df-convert {\n",
              "      background-color: #E8F0FE;\n",
              "      border: none;\n",
              "      border-radius: 50%;\n",
              "      cursor: pointer;\n",
              "      display: none;\n",
              "      fill: #1967D2;\n",
              "      height: 32px;\n",
              "      padding: 0 0 0 0;\n",
              "      width: 32px;\n",
              "    }\n",
              "\n",
              "    .colab-df-convert:hover {\n",
              "      background-color: #E2EBFA;\n",
              "      box-shadow: 0px 1px 2px rgba(60, 64, 67, 0.3), 0px 1px 3px 1px rgba(60, 64, 67, 0.15);\n",
              "      fill: #174EA6;\n",
              "    }\n",
              "\n",
              "    [theme=dark] .colab-df-convert {\n",
              "      background-color: #3B4455;\n",
              "      fill: #D2E3FC;\n",
              "    }\n",
              "\n",
              "    [theme=dark] .colab-df-convert:hover {\n",
              "      background-color: #434B5C;\n",
              "      box-shadow: 0px 1px 3px 1px rgba(0, 0, 0, 0.15);\n",
              "      filter: drop-shadow(0px 1px 2px rgba(0, 0, 0, 0.3));\n",
              "      fill: #FFFFFF;\n",
              "    }\n",
              "  </style>\n",
              "\n",
              "      <script>\n",
              "        const buttonEl =\n",
              "          document.querySelector('#df-21cbb89d-a52c-4aab-9779-8491299c6f41 button.colab-df-convert');\n",
              "        buttonEl.style.display =\n",
              "          google.colab.kernel.accessAllowed ? 'block' : 'none';\n",
              "\n",
              "        async function convertToInteractive(key) {\n",
              "          const element = document.querySelector('#df-21cbb89d-a52c-4aab-9779-8491299c6f41');\n",
              "          const dataTable =\n",
              "            await google.colab.kernel.invokeFunction('convertToInteractive',\n",
              "                                                     [key], {});\n",
              "          if (!dataTable) return;\n",
              "\n",
              "          const docLinkHtml = 'Like what you see? Visit the ' +\n",
              "            '<a target=\"_blank\" href=https://colab.research.google.com/notebooks/data_table.ipynb>data table notebook</a>'\n",
              "            + ' to learn more about interactive tables.';\n",
              "          element.innerHTML = '';\n",
              "          dataTable['output_type'] = 'display_data';\n",
              "          await google.colab.output.renderOutput(dataTable, element);\n",
              "          const docLink = document.createElement('div');\n",
              "          docLink.innerHTML = docLinkHtml;\n",
              "          element.appendChild(docLink);\n",
              "        }\n",
              "      </script>\n",
              "    </div>\n",
              "  </div>\n",
              "  "
            ]
          },
          "metadata": {},
          "execution_count": 28
        }
      ]
    },
    {
      "cell_type": "markdown",
      "source": [
        "#### We will attempt to build a model to predict the likelihood that a claim will be resolved. This is tantamount to a claim being \"Administratively Closed\" or needing \"No Further Action\".\n",
        "\n",
        "Our target will be the \"Current Claim Status\" feature. The problem will be framed as a binary classification. These are the subcategories of the target feature:  Administratively Closed • Argument Set • Board Restoral • Case Cancelled • Hearing Set • Hearing Unset • Motion Set • Newly Assembled • No Further Action • Re-Opened Administratively • Referee - Reserved Decision • Returned to Examining"
      ],
      "metadata": {
        "id": "LBp3W_UH-mli"
      }
    },
    {
      "cell_type": "code",
      "source": [
        "y = df['Current Claim Status']\n",
        "X = df.drop(columns=['Current Claim Status'], axis=1)\n",
        "y = pd.DataFrame(y)"
      ],
      "metadata": {
        "id": "yHVmzyKB_mNl"
      },
      "execution_count": 127,
      "outputs": []
    },
    {
      "cell_type": "code",
      "source": [
        "y.value_counts()"
      ],
      "metadata": {
        "colab": {
          "base_uri": "https://localhost:8080/"
        },
        "id": "uQY27t6bAtkv",
        "outputId": "032197c6-45ce-4fb6-8738-34d75c9b994a"
      },
      "execution_count": 128,
      "outputs": [
        {
          "output_type": "execute_result",
          "data": {
            "text/plain": [
              "Current Claim Status\n",
              "Resolved                1725511\n",
              "Unresloved                48825\n",
              "dtype: int64"
            ]
          },
          "metadata": {},
          "execution_count": 128
        }
      ]
    },
    {
      "cell_type": "markdown",
      "source": [
        "#### Framing into a binary classification Problem:"
      ],
      "metadata": {
        "id": "pvaJlcUUKB1G"
      }
    },
    {
      "cell_type": "code",
      "source": [
        "df['Current Claim Status'] = df['Current Claim Status'].replace(['MOTION SET', 'HEARING UNSET', 'HEARING SET', 'RE-OPENED ADMINISTRATIVELY', 'RETURNED TO EXAMINING', 'CASE CANCELLED', 'REFEREE - RESERVED DECISION', 'NEWLY ASSEMBLED', 'ARGUMENT SET', 'BOARD RESTORAL'], 'Unresloved')"
      ],
      "metadata": {
        "id": "jqjY1RNvKYaP"
      },
      "execution_count": 129,
      "outputs": []
    },
    {
      "cell_type": "code",
      "source": [
        "print(df['Current Claim Status'].value_counts())"
      ],
      "metadata": {
        "colab": {
          "base_uri": "https://localhost:8080/"
        },
        "id": "kqDnRdCULod6",
        "outputId": "b620d129-5c52-40e0-8111-63b1116e15c3"
      },
      "execution_count": 130,
      "outputs": [
        {
          "output_type": "stream",
          "name": "stdout",
          "text": [
            "Resolved      1725511\n",
            "Unresloved      48825\n",
            "Name: Current Claim Status, dtype: int64\n"
          ]
        }
      ]
    },
    {
      "cell_type": "code",
      "source": [
        "df['Current Claim Status'] = df['Current Claim Status'].replace(['NO FURTHER ACTION', 'ADMINISTRATIVELY CLOSED'], 'Resolved')"
      ],
      "metadata": {
        "id": "TBLiLDQFMlp6"
      },
      "execution_count": 131,
      "outputs": []
    },
    {
      "cell_type": "code",
      "source": [
        "print(df['Current Claim Status'].value_counts())"
      ],
      "metadata": {
        "colab": {
          "base_uri": "https://localhost:8080/"
        },
        "id": "B9pIU3K-M0_C",
        "outputId": "7e3be1f7-f711-42c1-dd6f-5dc46f6d5646"
      },
      "execution_count": 132,
      "outputs": [
        {
          "output_type": "stream",
          "name": "stdout",
          "text": [
            "Resolved      1725511\n",
            "Unresloved      48825\n",
            "Name: Current Claim Status, dtype: int64\n"
          ]
        }
      ]
    },
    {
      "cell_type": "code",
      "source": [
        "y.head()"
      ],
      "metadata": {
        "colab": {
          "base_uri": "https://localhost:8080/",
          "height": 206
        },
        "id": "kCsU_X91NUdo",
        "outputId": "c05cdaf1-4acd-4e02-8db4-0384d2c6a735"
      },
      "execution_count": 133,
      "outputs": [
        {
          "output_type": "execute_result",
          "data": {
            "text/plain": [
              "  Current Claim Status\n",
              "0           Unresloved\n",
              "1           Unresloved\n",
              "2           Unresloved\n",
              "3           Unresloved\n",
              "4           Unresloved"
            ],
            "text/html": [
              "\n",
              "  <div id=\"df-704eef6f-a31a-4856-95b2-4ddbaa90fe3f\">\n",
              "    <div class=\"colab-df-container\">\n",
              "      <div>\n",
              "<style scoped>\n",
              "    .dataframe tbody tr th:only-of-type {\n",
              "        vertical-align: middle;\n",
              "    }\n",
              "\n",
              "    .dataframe tbody tr th {\n",
              "        vertical-align: top;\n",
              "    }\n",
              "\n",
              "    .dataframe thead th {\n",
              "        text-align: right;\n",
              "    }\n",
              "</style>\n",
              "<table border=\"1\" class=\"dataframe\">\n",
              "  <thead>\n",
              "    <tr style=\"text-align: right;\">\n",
              "      <th></th>\n",
              "      <th>Current Claim Status</th>\n",
              "    </tr>\n",
              "  </thead>\n",
              "  <tbody>\n",
              "    <tr>\n",
              "      <th>0</th>\n",
              "      <td>Unresloved</td>\n",
              "    </tr>\n",
              "    <tr>\n",
              "      <th>1</th>\n",
              "      <td>Unresloved</td>\n",
              "    </tr>\n",
              "    <tr>\n",
              "      <th>2</th>\n",
              "      <td>Unresloved</td>\n",
              "    </tr>\n",
              "    <tr>\n",
              "      <th>3</th>\n",
              "      <td>Unresloved</td>\n",
              "    </tr>\n",
              "    <tr>\n",
              "      <th>4</th>\n",
              "      <td>Unresloved</td>\n",
              "    </tr>\n",
              "  </tbody>\n",
              "</table>\n",
              "</div>\n",
              "      <button class=\"colab-df-convert\" onclick=\"convertToInteractive('df-704eef6f-a31a-4856-95b2-4ddbaa90fe3f')\"\n",
              "              title=\"Convert this dataframe to an interactive table.\"\n",
              "              style=\"display:none;\">\n",
              "        \n",
              "  <svg xmlns=\"http://www.w3.org/2000/svg\" height=\"24px\"viewBox=\"0 0 24 24\"\n",
              "       width=\"24px\">\n",
              "    <path d=\"M0 0h24v24H0V0z\" fill=\"none\"/>\n",
              "    <path d=\"M18.56 5.44l.94 2.06.94-2.06 2.06-.94-2.06-.94-.94-2.06-.94 2.06-2.06.94zm-11 1L8.5 8.5l.94-2.06 2.06-.94-2.06-.94L8.5 2.5l-.94 2.06-2.06.94zm10 10l.94 2.06.94-2.06 2.06-.94-2.06-.94-.94-2.06-.94 2.06-2.06.94z\"/><path d=\"M17.41 7.96l-1.37-1.37c-.4-.4-.92-.59-1.43-.59-.52 0-1.04.2-1.43.59L10.3 9.45l-7.72 7.72c-.78.78-.78 2.05 0 2.83L4 21.41c.39.39.9.59 1.41.59.51 0 1.02-.2 1.41-.59l7.78-7.78 2.81-2.81c.8-.78.8-2.07 0-2.86zM5.41 20L4 18.59l7.72-7.72 1.47 1.35L5.41 20z\"/>\n",
              "  </svg>\n",
              "      </button>\n",
              "      \n",
              "  <style>\n",
              "    .colab-df-container {\n",
              "      display:flex;\n",
              "      flex-wrap:wrap;\n",
              "      gap: 12px;\n",
              "    }\n",
              "\n",
              "    .colab-df-convert {\n",
              "      background-color: #E8F0FE;\n",
              "      border: none;\n",
              "      border-radius: 50%;\n",
              "      cursor: pointer;\n",
              "      display: none;\n",
              "      fill: #1967D2;\n",
              "      height: 32px;\n",
              "      padding: 0 0 0 0;\n",
              "      width: 32px;\n",
              "    }\n",
              "\n",
              "    .colab-df-convert:hover {\n",
              "      background-color: #E2EBFA;\n",
              "      box-shadow: 0px 1px 2px rgba(60, 64, 67, 0.3), 0px 1px 3px 1px rgba(60, 64, 67, 0.15);\n",
              "      fill: #174EA6;\n",
              "    }\n",
              "\n",
              "    [theme=dark] .colab-df-convert {\n",
              "      background-color: #3B4455;\n",
              "      fill: #D2E3FC;\n",
              "    }\n",
              "\n",
              "    [theme=dark] .colab-df-convert:hover {\n",
              "      background-color: #434B5C;\n",
              "      box-shadow: 0px 1px 3px 1px rgba(0, 0, 0, 0.15);\n",
              "      filter: drop-shadow(0px 1px 2px rgba(0, 0, 0, 0.3));\n",
              "      fill: #FFFFFF;\n",
              "    }\n",
              "  </style>\n",
              "\n",
              "      <script>\n",
              "        const buttonEl =\n",
              "          document.querySelector('#df-704eef6f-a31a-4856-95b2-4ddbaa90fe3f button.colab-df-convert');\n",
              "        buttonEl.style.display =\n",
              "          google.colab.kernel.accessAllowed ? 'block' : 'none';\n",
              "\n",
              "        async function convertToInteractive(key) {\n",
              "          const element = document.querySelector('#df-704eef6f-a31a-4856-95b2-4ddbaa90fe3f');\n",
              "          const dataTable =\n",
              "            await google.colab.kernel.invokeFunction('convertToInteractive',\n",
              "                                                     [key], {});\n",
              "          if (!dataTable) return;\n",
              "\n",
              "          const docLinkHtml = 'Like what you see? Visit the ' +\n",
              "            '<a target=\"_blank\" href=https://colab.research.google.com/notebooks/data_table.ipynb>data table notebook</a>'\n",
              "            + ' to learn more about interactive tables.';\n",
              "          element.innerHTML = '';\n",
              "          dataTable['output_type'] = 'display_data';\n",
              "          await google.colab.output.renderOutput(dataTable, element);\n",
              "          const docLink = document.createElement('div');\n",
              "          docLink.innerHTML = docLinkHtml;\n",
              "          element.appendChild(docLink);\n",
              "        }\n",
              "      </script>\n",
              "    </div>\n",
              "  </div>\n",
              "  "
            ]
          },
          "metadata": {},
          "execution_count": 133
        }
      ]
    },
    {
      "cell_type": "code",
      "source": [
        "y = pd.DataFrame(df['Current Claim Status'])"
      ],
      "metadata": {
        "id": "PjM3m54FNokY"
      },
      "execution_count": 134,
      "outputs": []
    },
    {
      "cell_type": "code",
      "source": [
        "y.value_counts()"
      ],
      "metadata": {
        "colab": {
          "base_uri": "https://localhost:8080/"
        },
        "id": "SaDjmtmROYzI",
        "outputId": "abfc93f0-61d9-49a8-9ebe-4a51c13d96bc"
      },
      "execution_count": 135,
      "outputs": [
        {
          "output_type": "execute_result",
          "data": {
            "text/plain": [
              "Current Claim Status\n",
              "Resolved                1725511\n",
              "Unresloved                48825\n",
              "dtype: int64"
            ]
          },
          "metadata": {},
          "execution_count": 135
        }
      ]
    },
    {
      "cell_type": "code",
      "source": [
        "X.head()"
      ],
      "metadata": {
        "colab": {
          "base_uri": "https://localhost:8080/",
          "height": 372
        },
        "id": "Qv2qN8GxOc5A",
        "outputId": "f4cc3587-53ce-4789-dd71-93b709c72f9e"
      },
      "execution_count": 109,
      "outputs": [
        {
          "output_type": "execute_result",
          "data": {
            "text/plain": [
              "   Age at Injury Alternative Dispute Resolution Attorney/Representative  \\\n",
              "0             44                              N                       Y   \n",
              "1             34                              N                       N   \n",
              "2             35                              N                       N   \n",
              "3             25                              N                       Y   \n",
              "4             48                              N                       N   \n",
              "\n",
              "   Average Weekly Wage      Carrier Type Claim Injury Type  Closed Count  \\\n",
              "0               546.69  4A. SELF PRIVATE       3. MED ONLY             1   \n",
              "1               656.23       1A. PRIVATE      4. TEMPORARY             1   \n",
              "2              1261.77       1A. PRIVATE      4. TEMPORARY             0   \n",
              "3              1000.00           2A. SIF      4. TEMPORARY             1   \n",
              "4              1126.77   3A. SELF PUBLIC       3. MED ONLY             1   \n",
              "\n",
              "  District Name Gender  Hearing Count                  Highest Process  \\\n",
              "0           NYC      M              0  2. ADMINISTRATIVE DETERMINATION   \n",
              "1     ROCHESTER      M              0  2. ADMINISTRATIVE DETERMINATION   \n",
              "2        ALBANY      M              0  2. ADMINISTRATIVE DETERMINATION   \n",
              "3           NYC      M              0               1.  NO RESOLUTIONS   \n",
              "4     HAUPPAUGE      M              0  2. ADMINISTRATIVE DETERMINATION   \n",
              "\n",
              "  Occupational Disease  Claim Assembly Time Lag           y  \n",
              "0                    N                     68.0  Unresloved  \n",
              "1                    N                      6.0  Unresloved  \n",
              "2                    N                     24.0  Unresloved  \n",
              "3                    N                     23.0  Unresloved  \n",
              "4                    N                      4.0  Unresloved  "
            ],
            "text/html": [
              "\n",
              "  <div id=\"df-84a5a63a-9c47-4e29-bd45-4b7ef3e76b4f\">\n",
              "    <div class=\"colab-df-container\">\n",
              "      <div>\n",
              "<style scoped>\n",
              "    .dataframe tbody tr th:only-of-type {\n",
              "        vertical-align: middle;\n",
              "    }\n",
              "\n",
              "    .dataframe tbody tr th {\n",
              "        vertical-align: top;\n",
              "    }\n",
              "\n",
              "    .dataframe thead th {\n",
              "        text-align: right;\n",
              "    }\n",
              "</style>\n",
              "<table border=\"1\" class=\"dataframe\">\n",
              "  <thead>\n",
              "    <tr style=\"text-align: right;\">\n",
              "      <th></th>\n",
              "      <th>Age at Injury</th>\n",
              "      <th>Alternative Dispute Resolution</th>\n",
              "      <th>Attorney/Representative</th>\n",
              "      <th>Average Weekly Wage</th>\n",
              "      <th>Carrier Type</th>\n",
              "      <th>Claim Injury Type</th>\n",
              "      <th>Closed Count</th>\n",
              "      <th>District Name</th>\n",
              "      <th>Gender</th>\n",
              "      <th>Hearing Count</th>\n",
              "      <th>Highest Process</th>\n",
              "      <th>Occupational Disease</th>\n",
              "      <th>Claim Assembly Time Lag</th>\n",
              "      <th>y</th>\n",
              "    </tr>\n",
              "  </thead>\n",
              "  <tbody>\n",
              "    <tr>\n",
              "      <th>0</th>\n",
              "      <td>44</td>\n",
              "      <td>N</td>\n",
              "      <td>Y</td>\n",
              "      <td>546.69</td>\n",
              "      <td>4A. SELF PRIVATE</td>\n",
              "      <td>3. MED ONLY</td>\n",
              "      <td>1</td>\n",
              "      <td>NYC</td>\n",
              "      <td>M</td>\n",
              "      <td>0</td>\n",
              "      <td>2. ADMINISTRATIVE DETERMINATION</td>\n",
              "      <td>N</td>\n",
              "      <td>68.0</td>\n",
              "      <td>Unresloved</td>\n",
              "    </tr>\n",
              "    <tr>\n",
              "      <th>1</th>\n",
              "      <td>34</td>\n",
              "      <td>N</td>\n",
              "      <td>N</td>\n",
              "      <td>656.23</td>\n",
              "      <td>1A. PRIVATE</td>\n",
              "      <td>4. TEMPORARY</td>\n",
              "      <td>1</td>\n",
              "      <td>ROCHESTER</td>\n",
              "      <td>M</td>\n",
              "      <td>0</td>\n",
              "      <td>2. ADMINISTRATIVE DETERMINATION</td>\n",
              "      <td>N</td>\n",
              "      <td>6.0</td>\n",
              "      <td>Unresloved</td>\n",
              "    </tr>\n",
              "    <tr>\n",
              "      <th>2</th>\n",
              "      <td>35</td>\n",
              "      <td>N</td>\n",
              "      <td>N</td>\n",
              "      <td>1261.77</td>\n",
              "      <td>1A. PRIVATE</td>\n",
              "      <td>4. TEMPORARY</td>\n",
              "      <td>0</td>\n",
              "      <td>ALBANY</td>\n",
              "      <td>M</td>\n",
              "      <td>0</td>\n",
              "      <td>2. ADMINISTRATIVE DETERMINATION</td>\n",
              "      <td>N</td>\n",
              "      <td>24.0</td>\n",
              "      <td>Unresloved</td>\n",
              "    </tr>\n",
              "    <tr>\n",
              "      <th>3</th>\n",
              "      <td>25</td>\n",
              "      <td>N</td>\n",
              "      <td>Y</td>\n",
              "      <td>1000.00</td>\n",
              "      <td>2A. SIF</td>\n",
              "      <td>4. TEMPORARY</td>\n",
              "      <td>1</td>\n",
              "      <td>NYC</td>\n",
              "      <td>M</td>\n",
              "      <td>0</td>\n",
              "      <td>1.  NO RESOLUTIONS</td>\n",
              "      <td>N</td>\n",
              "      <td>23.0</td>\n",
              "      <td>Unresloved</td>\n",
              "    </tr>\n",
              "    <tr>\n",
              "      <th>4</th>\n",
              "      <td>48</td>\n",
              "      <td>N</td>\n",
              "      <td>N</td>\n",
              "      <td>1126.77</td>\n",
              "      <td>3A. SELF PUBLIC</td>\n",
              "      <td>3. MED ONLY</td>\n",
              "      <td>1</td>\n",
              "      <td>HAUPPAUGE</td>\n",
              "      <td>M</td>\n",
              "      <td>0</td>\n",
              "      <td>2. ADMINISTRATIVE DETERMINATION</td>\n",
              "      <td>N</td>\n",
              "      <td>4.0</td>\n",
              "      <td>Unresloved</td>\n",
              "    </tr>\n",
              "  </tbody>\n",
              "</table>\n",
              "</div>\n",
              "      <button class=\"colab-df-convert\" onclick=\"convertToInteractive('df-84a5a63a-9c47-4e29-bd45-4b7ef3e76b4f')\"\n",
              "              title=\"Convert this dataframe to an interactive table.\"\n",
              "              style=\"display:none;\">\n",
              "        \n",
              "  <svg xmlns=\"http://www.w3.org/2000/svg\" height=\"24px\"viewBox=\"0 0 24 24\"\n",
              "       width=\"24px\">\n",
              "    <path d=\"M0 0h24v24H0V0z\" fill=\"none\"/>\n",
              "    <path d=\"M18.56 5.44l.94 2.06.94-2.06 2.06-.94-2.06-.94-.94-2.06-.94 2.06-2.06.94zm-11 1L8.5 8.5l.94-2.06 2.06-.94-2.06-.94L8.5 2.5l-.94 2.06-2.06.94zm10 10l.94 2.06.94-2.06 2.06-.94-2.06-.94-.94-2.06-.94 2.06-2.06.94z\"/><path d=\"M17.41 7.96l-1.37-1.37c-.4-.4-.92-.59-1.43-.59-.52 0-1.04.2-1.43.59L10.3 9.45l-7.72 7.72c-.78.78-.78 2.05 0 2.83L4 21.41c.39.39.9.59 1.41.59.51 0 1.02-.2 1.41-.59l7.78-7.78 2.81-2.81c.8-.78.8-2.07 0-2.86zM5.41 20L4 18.59l7.72-7.72 1.47 1.35L5.41 20z\"/>\n",
              "  </svg>\n",
              "      </button>\n",
              "      \n",
              "  <style>\n",
              "    .colab-df-container {\n",
              "      display:flex;\n",
              "      flex-wrap:wrap;\n",
              "      gap: 12px;\n",
              "    }\n",
              "\n",
              "    .colab-df-convert {\n",
              "      background-color: #E8F0FE;\n",
              "      border: none;\n",
              "      border-radius: 50%;\n",
              "      cursor: pointer;\n",
              "      display: none;\n",
              "      fill: #1967D2;\n",
              "      height: 32px;\n",
              "      padding: 0 0 0 0;\n",
              "      width: 32px;\n",
              "    }\n",
              "\n",
              "    .colab-df-convert:hover {\n",
              "      background-color: #E2EBFA;\n",
              "      box-shadow: 0px 1px 2px rgba(60, 64, 67, 0.3), 0px 1px 3px 1px rgba(60, 64, 67, 0.15);\n",
              "      fill: #174EA6;\n",
              "    }\n",
              "\n",
              "    [theme=dark] .colab-df-convert {\n",
              "      background-color: #3B4455;\n",
              "      fill: #D2E3FC;\n",
              "    }\n",
              "\n",
              "    [theme=dark] .colab-df-convert:hover {\n",
              "      background-color: #434B5C;\n",
              "      box-shadow: 0px 1px 3px 1px rgba(0, 0, 0, 0.15);\n",
              "      filter: drop-shadow(0px 1px 2px rgba(0, 0, 0, 0.3));\n",
              "      fill: #FFFFFF;\n",
              "    }\n",
              "  </style>\n",
              "\n",
              "      <script>\n",
              "        const buttonEl =\n",
              "          document.querySelector('#df-84a5a63a-9c47-4e29-bd45-4b7ef3e76b4f button.colab-df-convert');\n",
              "        buttonEl.style.display =\n",
              "          google.colab.kernel.accessAllowed ? 'block' : 'none';\n",
              "\n",
              "        async function convertToInteractive(key) {\n",
              "          const element = document.querySelector('#df-84a5a63a-9c47-4e29-bd45-4b7ef3e76b4f');\n",
              "          const dataTable =\n",
              "            await google.colab.kernel.invokeFunction('convertToInteractive',\n",
              "                                                     [key], {});\n",
              "          if (!dataTable) return;\n",
              "\n",
              "          const docLinkHtml = 'Like what you see? Visit the ' +\n",
              "            '<a target=\"_blank\" href=https://colab.research.google.com/notebooks/data_table.ipynb>data table notebook</a>'\n",
              "            + ' to learn more about interactive tables.';\n",
              "          element.innerHTML = '';\n",
              "          dataTable['output_type'] = 'display_data';\n",
              "          await google.colab.output.renderOutput(dataTable, element);\n",
              "          const docLink = document.createElement('div');\n",
              "          docLink.innerHTML = docLinkHtml;\n",
              "          element.appendChild(docLink);\n",
              "        }\n",
              "      </script>\n",
              "    </div>\n",
              "  </div>\n",
              "  "
            ]
          },
          "metadata": {},
          "execution_count": 109
        }
      ]
    },
    {
      "cell_type": "code",
      "source": [
        "from sklearn.preprocessing import LabelEncoder\n",
        "\n",
        "# Create a LabelEncoder object\n",
        "le = LabelEncoder()\n",
        "\n",
        "# Fit the LabelEncoder to the 'Current Claim Status' column\n",
        "le.fit(y['Current Claim Status'])\n",
        "\n",
        "# Transform the 'Current Claim Status' column and store the result in a new column 'y_encoded'\n",
        "y['y_encoded'] = le.transform(y['Current Claim Status'])"
      ],
      "metadata": {
        "id": "gqfC5RY2PdnP"
      },
      "execution_count": 136,
      "outputs": []
    },
    {
      "cell_type": "code",
      "source": [
        "y.value_counts()"
      ],
      "metadata": {
        "colab": {
          "base_uri": "https://localhost:8080/"
        },
        "id": "VoRmmyeoPljR",
        "outputId": "5ecf97f7-222f-40e8-cee5-3cd42ea3dc71"
      },
      "execution_count": 137,
      "outputs": [
        {
          "output_type": "execute_result",
          "data": {
            "text/plain": [
              "Current Claim Status  y_encoded\n",
              "Resolved              0            1725511\n",
              "Unresloved            1              48825\n",
              "dtype: int64"
            ]
          },
          "metadata": {},
          "execution_count": 137
        }
      ]
    },
    {
      "cell_type": "code",
      "source": [
        "y_enc = y.drop(columns=['Current Claim Status'])\n",
        "y_enc.rename(columns={'y_encoded':'Current Claim Status'}, inplace=True)\n",
        "y_enc.value_counts()"
      ],
      "metadata": {
        "colab": {
          "base_uri": "https://localhost:8080/"
        },
        "id": "UzjlkV2AQWBV",
        "outputId": "25596350-3c59-4066-fd42-42187e2544ef"
      },
      "execution_count": 138,
      "outputs": [
        {
          "output_type": "execute_result",
          "data": {
            "text/plain": [
              "Current Claim Status\n",
              "0                       1725511\n",
              "1                         48825\n",
              "dtype: int64"
            ]
          },
          "metadata": {},
          "execution_count": 138
        }
      ]
    },
    {
      "cell_type": "code",
      "source": [
        "y.head()"
      ],
      "metadata": {
        "colab": {
          "base_uri": "https://localhost:8080/",
          "height": 206
        },
        "id": "aM8iqRe4PsSy",
        "outputId": "06f10830-88b9-4064-fa35-b7faf798617c"
      },
      "execution_count": 43,
      "outputs": [
        {
          "output_type": "execute_result",
          "data": {
            "text/plain": [
              "  Current Claim Status  y_encoded\n",
              "0           Unresloved          1\n",
              "1           Unresloved          1\n",
              "2           Unresloved          1\n",
              "3           Unresloved          1\n",
              "4           Unresloved          1"
            ],
            "text/html": [
              "\n",
              "  <div id=\"df-5414169a-ee92-4fea-afc3-43a8211b3aef\">\n",
              "    <div class=\"colab-df-container\">\n",
              "      <div>\n",
              "<style scoped>\n",
              "    .dataframe tbody tr th:only-of-type {\n",
              "        vertical-align: middle;\n",
              "    }\n",
              "\n",
              "    .dataframe tbody tr th {\n",
              "        vertical-align: top;\n",
              "    }\n",
              "\n",
              "    .dataframe thead th {\n",
              "        text-align: right;\n",
              "    }\n",
              "</style>\n",
              "<table border=\"1\" class=\"dataframe\">\n",
              "  <thead>\n",
              "    <tr style=\"text-align: right;\">\n",
              "      <th></th>\n",
              "      <th>Current Claim Status</th>\n",
              "      <th>y_encoded</th>\n",
              "    </tr>\n",
              "  </thead>\n",
              "  <tbody>\n",
              "    <tr>\n",
              "      <th>0</th>\n",
              "      <td>Unresloved</td>\n",
              "      <td>1</td>\n",
              "    </tr>\n",
              "    <tr>\n",
              "      <th>1</th>\n",
              "      <td>Unresloved</td>\n",
              "      <td>1</td>\n",
              "    </tr>\n",
              "    <tr>\n",
              "      <th>2</th>\n",
              "      <td>Unresloved</td>\n",
              "      <td>1</td>\n",
              "    </tr>\n",
              "    <tr>\n",
              "      <th>3</th>\n",
              "      <td>Unresloved</td>\n",
              "      <td>1</td>\n",
              "    </tr>\n",
              "    <tr>\n",
              "      <th>4</th>\n",
              "      <td>Unresloved</td>\n",
              "      <td>1</td>\n",
              "    </tr>\n",
              "  </tbody>\n",
              "</table>\n",
              "</div>\n",
              "      <button class=\"colab-df-convert\" onclick=\"convertToInteractive('df-5414169a-ee92-4fea-afc3-43a8211b3aef')\"\n",
              "              title=\"Convert this dataframe to an interactive table.\"\n",
              "              style=\"display:none;\">\n",
              "        \n",
              "  <svg xmlns=\"http://www.w3.org/2000/svg\" height=\"24px\"viewBox=\"0 0 24 24\"\n",
              "       width=\"24px\">\n",
              "    <path d=\"M0 0h24v24H0V0z\" fill=\"none\"/>\n",
              "    <path d=\"M18.56 5.44l.94 2.06.94-2.06 2.06-.94-2.06-.94-.94-2.06-.94 2.06-2.06.94zm-11 1L8.5 8.5l.94-2.06 2.06-.94-2.06-.94L8.5 2.5l-.94 2.06-2.06.94zm10 10l.94 2.06.94-2.06 2.06-.94-2.06-.94-.94-2.06-.94 2.06-2.06.94z\"/><path d=\"M17.41 7.96l-1.37-1.37c-.4-.4-.92-.59-1.43-.59-.52 0-1.04.2-1.43.59L10.3 9.45l-7.72 7.72c-.78.78-.78 2.05 0 2.83L4 21.41c.39.39.9.59 1.41.59.51 0 1.02-.2 1.41-.59l7.78-7.78 2.81-2.81c.8-.78.8-2.07 0-2.86zM5.41 20L4 18.59l7.72-7.72 1.47 1.35L5.41 20z\"/>\n",
              "  </svg>\n",
              "      </button>\n",
              "      \n",
              "  <style>\n",
              "    .colab-df-container {\n",
              "      display:flex;\n",
              "      flex-wrap:wrap;\n",
              "      gap: 12px;\n",
              "    }\n",
              "\n",
              "    .colab-df-convert {\n",
              "      background-color: #E8F0FE;\n",
              "      border: none;\n",
              "      border-radius: 50%;\n",
              "      cursor: pointer;\n",
              "      display: none;\n",
              "      fill: #1967D2;\n",
              "      height: 32px;\n",
              "      padding: 0 0 0 0;\n",
              "      width: 32px;\n",
              "    }\n",
              "\n",
              "    .colab-df-convert:hover {\n",
              "      background-color: #E2EBFA;\n",
              "      box-shadow: 0px 1px 2px rgba(60, 64, 67, 0.3), 0px 1px 3px 1px rgba(60, 64, 67, 0.15);\n",
              "      fill: #174EA6;\n",
              "    }\n",
              "\n",
              "    [theme=dark] .colab-df-convert {\n",
              "      background-color: #3B4455;\n",
              "      fill: #D2E3FC;\n",
              "    }\n",
              "\n",
              "    [theme=dark] .colab-df-convert:hover {\n",
              "      background-color: #434B5C;\n",
              "      box-shadow: 0px 1px 3px 1px rgba(0, 0, 0, 0.15);\n",
              "      filter: drop-shadow(0px 1px 2px rgba(0, 0, 0, 0.3));\n",
              "      fill: #FFFFFF;\n",
              "    }\n",
              "  </style>\n",
              "\n",
              "      <script>\n",
              "        const buttonEl =\n",
              "          document.querySelector('#df-5414169a-ee92-4fea-afc3-43a8211b3aef button.colab-df-convert');\n",
              "        buttonEl.style.display =\n",
              "          google.colab.kernel.accessAllowed ? 'block' : 'none';\n",
              "\n",
              "        async function convertToInteractive(key) {\n",
              "          const element = document.querySelector('#df-5414169a-ee92-4fea-afc3-43a8211b3aef');\n",
              "          const dataTable =\n",
              "            await google.colab.kernel.invokeFunction('convertToInteractive',\n",
              "                                                     [key], {});\n",
              "          if (!dataTable) return;\n",
              "\n",
              "          const docLinkHtml = 'Like what you see? Visit the ' +\n",
              "            '<a target=\"_blank\" href=https://colab.research.google.com/notebooks/data_table.ipynb>data table notebook</a>'\n",
              "            + ' to learn more about interactive tables.';\n",
              "          element.innerHTML = '';\n",
              "          dataTable['output_type'] = 'display_data';\n",
              "          await google.colab.output.renderOutput(dataTable, element);\n",
              "          const docLink = document.createElement('div');\n",
              "          docLink.innerHTML = docLinkHtml;\n",
              "          element.appendChild(docLink);\n",
              "        }\n",
              "      </script>\n",
              "    </div>\n",
              "  </div>\n",
              "  "
            ]
          },
          "metadata": {},
          "execution_count": 43
        }
      ]
    },
    {
      "cell_type": "code",
      "source": [
        "from sklearn.feature_selection import SelectKBest\n",
        "from sklearn.model_selection import train_test_split\n",
        "\n",
        "\n",
        "# separate the numerical and categorical columns\n",
        "numeric_cols = X.select_dtypes(include=['float', 'int']).columns\n",
        "categorical_cols = X.select_dtypes(include=['object']).columns\n",
        "\n",
        "\n",
        "\n"
      ],
      "metadata": {
        "id": "E6ospb5IkiBX"
      },
      "execution_count": 139,
      "outputs": []
    },
    {
      "cell_type": "code",
      "source": [
        "#X = X[numeric_cols + categorical_cols]\n",
        "X = X[list(numeric_cols) + list(categorical_cols)]\n",
        "#yf = df['Highest Process']\n",
        "\n",
        "# create dummy variables for the categorical columns\n",
        "X_dummies = pd.get_dummies(X[categorical_cols])\n",
        "\n",
        "# concatenate the dummy variables with the numerical columns\n",
        "X_processed = pd.concat([X[numeric_cols], X_dummies], axis=1)\n",
        "\n",
        "# split the data into a train and test set, stratifying on the target variable\n",
        "X_train, X_test, y_train, y_test = train_test_split(X_processed, y_enc, stratify = y_enc, test_size=0.2, random_state=42)\n",
        "\n"
      ],
      "metadata": {
        "id": "_Pb3sxB2nIGj"
      },
      "execution_count": 140,
      "outputs": []
    },
    {
      "cell_type": "code",
      "source": [
        "from sklearn.preprocessing import StandardScaler\n",
        "scaler = StandardScaler()\n",
        "X_train_scaled = scaler.fit_transform(X_train)\n",
        "X_test_scaled = scaler.transform(X_test)"
      ],
      "metadata": {
        "id": "lEUnlvvYJTqR"
      },
      "execution_count": 141,
      "outputs": []
    },
    {
      "cell_type": "code",
      "source": [
        "from sklearn.feature_selection import SelectKBest, f_classif\n",
        "# Flatten the y_train array into a 1d array\n",
        "\n",
        "y_train = y_train.values\n",
        "y_train = y_train.ravel()\n",
        "\n",
        "# set K to equal the desired 15 features\n",
        "selector = SelectKBest(f_classif, k=14)\n",
        "selector.fit(X_train_scaled, y_train)\n",
        "\n",
        "# Replace zeros in the pvalues_ array with a small non-zero value\n",
        "selector.pvalues_[selector.pvalues_ == 0] = 1e-10\n",
        "\n",
        "scores = -np.log10(selector.pvalues_)\n",
        "scores /= scores.max()"
      ],
      "metadata": {
        "id": "4k5TvzMoMq66"
      },
      "execution_count": 142,
      "outputs": []
    },
    {
      "cell_type": "code",
      "source": [
        "import matplotlib.pyplot as plt\n",
        "\n",
        "# Create the X_indices array using the shape of the scores array\n",
        "X_indices = np.arange(scores.shape[0])\n",
        "\n",
        "# Create a new figure\n",
        "plt.figure(1)\n",
        "plt.clf()\n",
        "\n",
        "# Plot the scores as a bar chart\n",
        "plt.bar(X_indices, scores)\n",
        "\n",
        "# Add a title, x-label, and y-label\n",
        "plt.title(\"Feature univariate score\")\n",
        "plt.xlabel(\"Feature number\")\n",
        "plt.ylabel(r\"Univariate score ($-Log(p_{value})$)\")\n",
        "\n",
        "# Show the plot\n",
        "plt.show()\n"
      ],
      "metadata": {
        "colab": {
          "base_uri": "https://localhost:8080/",
          "height": 295
        },
        "id": "PKoLchkBQg7Y",
        "outputId": "4d2e1510-19d8-48ec-a533-7615e1ffb161"
      },
      "execution_count": 143,
      "outputs": [
        {
          "output_type": "display_data",
          "data": {
            "text/plain": [
              "<Figure size 432x288 with 1 Axes>"
            ],
            "image/png": "[encoded data removed]"
          },
          "metadata": {
            "needs_background": "light"
          }
        }
      ]
    },
    {
      "cell_type": "code",
      "source": [
        "print(scores)"
      ],
      "metadata": {
        "colab": {
          "base_uri": "https://localhost:8080/"
        },
        "id": "vxZun-b8RQ75",
        "outputId": "40b6b3bc-9d35-4945-c9a1-275ad372d6f8"
      },
      "execution_count": 60,
      "outputs": [
        {
          "output_type": "stream",
          "name": "stdout",
          "text": [
            "[1.00000000e+00 1.87317254e-02 3.32367554e-02 3.32367554e-02\n",
            " 4.70079209e-01 3.75807459e-04 3.75807459e-04 3.32367554e-02\n",
            " 3.32367554e-02 2.63484435e-03 7.93885076e-02 5.00860935e-04\n",
            " 1.47365948e-02 8.54835137e-02 3.23730342e-02 5.00860935e-04\n",
            " 1.32152448e-03 7.59477521e-02 2.18349202e-02 3.32367554e-02\n",
            " 8.21346843e-04 8.03111007e-03 3.32367554e-02 3.32367554e-02\n",
            " 4.72746015e-02 4.99826575e-02 1.52941236e-02 2.55026537e-01\n",
            " 3.05626517e-01 4.98486145e-01 6.03446941e-02 3.32367554e-02\n",
            " 8.07464921e-01 6.30652313e-01 4.09403142e-01 1.87950295e-02\n",
            " 1.87950295e-02 5.30955151e-02 3.32367554e-02 3.32367554e-02\n",
            " 3.32367554e-02 3.32367554e-02 3.32367554e-02 9.07080976e-02\n",
            " 9.07080976e-02]\n"
          ]
        }
      ]
    },
    {
      "cell_type": "code",
      "source": [
        "selector2 = SelectKBest(f_classif, k=5)\n",
        "selector2.fit(X_train_scaled, y_train)\n",
        "\n",
        "# Replace zeros in the pvalues_ array with a small non-zero value\n",
        "selector2.pvalues_[selector2.pvalues_ == 0] = 1e-10\n",
        "\n",
        "scores2 = -np.log10(selector2.pvalues_)\n",
        "scores2 /= scores2.max()\n",
        "\n",
        "# Get the boolean array indicating which features were selected\n",
        "selected_top5 = selector2.get_support()\n",
        "\n",
        "# Convert the X_train_scaled array into a DataFrame\n",
        "X_train_scaled_df = pd.DataFrame(X_train)\n",
        "\n",
        "# Get the column names of the X_train_scaled_df DataFrame\n",
        "feature_names2 = X_train_scaled_df.columns.tolist()\n",
        "\n",
        "# Print the names of the selected features\n",
        "print(\"Top 5 Selected features predicting likelihood of claim approval:\")\n",
        "for i, feature in enumerate(selected_top5):\n",
        "    if feature:\n",
        "        print(f\"{i}: {feature_names2[i]}\")"
      ],
      "metadata": {
        "colab": {
          "base_uri": "https://localhost:8080/"
        },
        "id": "8F9bpSl2IDSQ",
        "outputId": "91004665-ef76-452f-f784-80293fc316ed"
      },
      "execution_count": 121,
      "outputs": [
        {
          "output_type": "stream",
          "name": "stdout",
          "text": [
            "Top 5 Selected features predicting likelihood of claim approval:\n",
            "2: Closed Count\n",
            "8: Attorney/Representative_Y\n",
            "19: Claim Injury Type_1. CANCELLED\n",
            "46: y_NO FURTHER ACTION\n",
            "47: y_Unresloved\n"
          ]
        }
      ]
    },
    {
      "cell_type": "code",
      "source": [
        "# Get the boolean array indicating which features were selected\n",
        "selected = selector.get_support()\n",
        "\n",
        "# Convert the X_train_scaled array into a DataFrame\n",
        "X_train_scaled_df = pd.DataFrame(X_train)\n",
        "\n",
        "# Get the column names of the X_train_scaled_df DataFrame\n",
        "feature_names = X_train_scaled_df.columns.tolist()\n",
        "\n",
        "# Print the names of the selected features\n",
        "print(\"Selected features:\")\n",
        "for i, feature in enumerate(selected):\n",
        "    if feature:\n",
        "        print(f\"{i}: {feature_names[i]}\")\n"
      ],
      "metadata": {
        "colab": {
          "base_uri": "https://localhost:8080/"
        },
        "id": "XDtR9lVnT6sp",
        "outputId": "6a42a62a-a69a-4e62-ee78-5dc335ce61f0"
      },
      "execution_count": 144,
      "outputs": [
        {
          "output_type": "stream",
          "name": "stdout",
          "text": [
            "Selected features:\n",
            "2: Closed Count\n",
            "3: Hearing Count\n",
            "7: Attorney/Representative_N\n",
            "8: Attorney/Representative_Y\n",
            "19: Claim Injury Type_1. CANCELLED\n",
            "22: Claim Injury Type_4. TEMPORARY\n",
            "23: Claim Injury Type_5. PPD SCH LOSS\n",
            "31: District Name_NYC\n",
            "38: Highest Process_2. ADMINISTRATIVE DETERMINATION\n",
            "40: Highest Process_4A. HEARING - JUDGE\n",
            "41: Highest Process_4B. HEARING - APPEAL\n",
            "42: Highest Process_4C. HEARING - SETTLEMENT\n",
            "46: y_NO FURTHER ACTION\n",
            "47: y_Unresloved\n"
          ]
        }
      ]
    },
    {
      "cell_type": "code",
      "source": [
        "selected"
      ],
      "metadata": {
        "colab": {
          "base_uri": "https://localhost:8080/"
        },
        "id": "yEspCcbIgGBe",
        "outputId": "31ca0d27-be99-4147-c529-cf372f98406d"
      },
      "execution_count": 62,
      "outputs": [
        {
          "output_type": "execute_result",
          "data": {
            "text/plain": [
              "array([ True, False,  True,  True, False, False, False,  True,  True,\n",
              "       False, False, False, False, False, False, False, False, False,\n",
              "       False,  True, False, False,  True,  True, False, False, False,\n",
              "       False, False, False, False,  True, False, False, False, False,\n",
              "       False, False,  True,  True,  True,  True,  True, False, False])"
            ]
          },
          "metadata": {},
          "execution_count": 62
        }
      ]
    },
    {
      "cell_type": "markdown",
      "source": [
        "#### Selecting the top 14 features for modelling:"
      ],
      "metadata": {
        "id": "wVYiNaGFU53Q"
      }
    },
    {
      "cell_type": "code",
      "source": [
        "# Select the top k features from the training and test datasets using the selector object\n",
        "X_train_selected = selector.transform(X_train_scaled)\n",
        "X_test_selected = selector.transform(X_test_scaled)"
      ],
      "metadata": {
        "id": "wpSK_DzV64Mk"
      },
      "execution_count": 145,
      "outputs": []
    },
    {
      "cell_type": "markdown",
      "source": [
        "##### Starting with the Decision Tree Model:"
      ],
      "metadata": {
        "id": "o_VNVNxFWkHl"
      }
    },
    {
      "cell_type": "code",
      "source": [
        "from sklearn.tree import DecisionTreeClassifier\n",
        "\n",
        "# Create a DecisionTreeClassifier object\n",
        "clf_dt1 = DecisionTreeClassifier()\n",
        "\n",
        "# Train the classifier on the training data\n",
        "clf_dt1.fit(X_train_selected, y_train)\n",
        "\n",
        "# Predict the labels for the test data\n",
        "y_pred_df = clf_dt1.predict(X_test_selected)"
      ],
      "metadata": {
        "id": "YDCbH2L-WiHF"
      },
      "execution_count": 146,
      "outputs": []
    },
    {
      "cell_type": "code",
      "source": [
        "from sklearn.metrics import accuracy_score, precision_score, recall_score\n",
        "\n",
        "# Compute the accuracy of the predictions\n",
        "accuracy = accuracy_score(y_test, y_pred_df)\n",
        "\n",
        "# Compute the precision of the predictions\n",
        "precision = precision_score(y_test, y_pred_df)\n",
        "\n",
        "# Compute the recall of the predictions\n",
        "recall = recall_score(y_test, y_pred_df)\n",
        "\n",
        "\n",
        "# Print the results\n",
        "print(f\"Decision Tree1 Accuracy: {accuracy: .4f}\")\n",
        "print(f\"Decision Tree1 Precision: {precision: .4f}\")\n",
        "print(f\"Decision Tree1 Recall: {recall: .4f}\")"
      ],
      "metadata": {
        "colab": {
          "base_uri": "https://localhost:8080/"
        },
        "id": "XbN8siXTXJTr",
        "outputId": "114ac67c-8095-4e78-a6e0-fa915e1bf274"
      },
      "execution_count": 149,
      "outputs": [
        {
          "output_type": "stream",
          "name": "stdout",
          "text": [
            "Decision Tree1 Accuracy:  1.0000\n",
            "Decision Tree1 Precision:  1.0000\n",
            "Decision Tree1 Recall:  1.0000\n"
          ]
        }
      ]
    },
    {
      "cell_type": "markdown",
      "source": [
        "Precision and Recall tell the model needs improvement, regardless of the shown accuracy. We will try the Stochastic Gradient now:\n"
      ],
      "metadata": {
        "id": "bNRycXI8lGTz"
      }
    },
    {
      "cell_type": "code",
      "source": [
        "from sklearn.linear_model import SGDClassifier\n",
        "from sklearn.model_selection import StratifiedKFold, cross_val_score\n",
        "\n",
        "# Create an SGDClassifier object\n",
        "clf_sgd = SGDClassifier(random_state=42)\n",
        "\n",
        "# Create a StratifiedKFold object with 5 folds\n",
        "skf = StratifiedKFold(n_splits=5)\n",
        "\n",
        "# Use cross-validation to evaluate the classifier's performance\n",
        "scores = cross_val_score(clf_sgd, X_train_selected, y_train, cv=skf)\n",
        "\n",
        "# Print the mean and standard deviation of the scores\n",
        "print(f\"Mean score:, {scores.mean(): .4f}\")\n",
        "print(f\"Standard deviation:, {scores.std(): .4f}\")\n"
      ],
      "metadata": {
        "colab": {
          "base_uri": "https://localhost:8080/"
        },
        "id": "rLOIOoNyXZ6H",
        "outputId": "c077f32c-c997-4bad-8401-9e549b0151c3"
      },
      "execution_count": 72,
      "outputs": [
        {
          "output_type": "stream",
          "name": "stdout",
          "text": [
            "Mean score:,  0.9732\n",
            "Standard deviation:,  0.0000\n"
          ]
        }
      ]
    },
    {
      "cell_type": "code",
      "source": [
        "from sklearn.model_selection import StratifiedKFold, cross_val_predict\n",
        "from sklearn.metrics import precision_score, recall_score, f1_score, accuracy_score\n",
        "\n",
        "# Create an SGDClassifier object\n",
        "clf_sgd = SGDClassifier(random_state = 42, loss = \"log\")\n",
        "\n",
        "# Create a StratifiedKFold object with 5 folds\n",
        "skf = StratifiedKFold(n_splits=5)\n",
        "\n",
        "# Use cross-validation to make predictions on the training data\n",
        "y_pred = cross_val_predict(clf_sgd, X_train_selected, y_train, cv=skf)\n",
        "\n",
        "# Compute the precision of the predictions\n",
        "precision = precision_score(y_train, y_pred)\n",
        "\n",
        "# Compute the recall of the predictions\n",
        "recall = recall_score(y_train, y_pred)\n",
        "\n",
        "# Compute the F1 score of the predictions\n",
        "accuracy_sgd = accuracy_score(y_train, y_pred)\n",
        "\n",
        "# Compute the F1 score of the predictions\n",
        "f1 = f1_score(y_train, y_pred)\n",
        "\n",
        "# Print the results\n",
        "print(f\"Precision: {precision: .4f}\")\n",
        "print(f\"Accuracy: {accuracy_sgd: .4f}\")\n",
        "print(f\"Recall: {recall: .4f}\")\n",
        "print(f\"F1 score: {f1: .4f}\")"
      ],
      "metadata": {
        "colab": {
          "base_uri": "https://localhost:8080/"
        },
        "id": "Q4RiM_y_mXRe",
        "outputId": "32bf838d-ccf5-4841-d187-b14a7dddbc7d"
      },
      "execution_count": 124,
      "outputs": [
        {
          "output_type": "stream",
          "name": "stdout",
          "text": [
            "Precision:  0.8833\n",
            "Accuracy:  0.9732\n",
            "Recall:  0.0296\n",
            "F1 score:  0.0574\n"
          ]
        }
      ]
    },
    {
      "cell_type": "markdown",
      "source": [
        "##### This low F1 score suggests that the SGD classifier is performing poorly in terms of both precision and recall."
      ],
      "metadata": {
        "id": "YftvKqLCqbdW"
      }
    },
    {
      "cell_type": "markdown",
      "source": [
        "Visualizing the ROC Curve:"
      ],
      "metadata": {
        "id": "5UTVeJzhrD2m"
      }
    },
    {
      "cell_type": "code",
      "source": [
        "from sklearn.metrics import roc_curve, roc_auc_score\n",
        "\n",
        "y_pred_proba_sgd = cross_val_predict(clf_sgd, X_train_selected, y_train, cv=skf, method=\"predict_proba\")\n",
        "\n",
        "# Extract the predicted probabilities of the positive class\n",
        "y_pred_proba_sgd = y_pred_proba_sgd[:, 1]\n",
        "\n",
        "# Compute the false positive rate and true positive rate\n",
        "fpr, tpr, thresholds = roc_curve(y_train, y_pred_proba_sgd)\n",
        "\n",
        "# Compute the AUC score\n",
        "auc = roc_auc_score(y_train, y_pred_proba_sgd)\n",
        "\n",
        "# Plot the ROC curve\n",
        "plt.plot(fpr, tpr, label=\"ROC curve (area = %0.2f)\" % auc)\n",
        "plt.plot([0, 1], [0, 1], \"k--\")  # random predictions curve\n",
        "plt.xlim([0.0, 1.0])\n",
        "plt.ylim([0.0, 1.0])\n",
        "plt.xlabel(\"False Positive Rate\")\n",
        "plt.ylabel(\"True Positive Rate\")\n",
        "plt.title(\"ROC Curve\")\n",
        "plt.legend(loc=\"lower right\")\n",
        "plt.show()"
      ],
      "metadata": {
        "colab": {
          "base_uri": "https://localhost:8080/",
          "height": 295
        },
        "id": "jPT-CwtYrKXD",
        "outputId": "8f7db5e8-d4ce-4fb4-d9d9-5e2b17129539"
      },
      "execution_count": 80,
      "outputs": [
        {
          "output_type": "display_data",
          "data": {
            "text/plain": [
              "<Figure size 432x288 with 1 Axes>"
            ],
            "image/png": "[encoded data removed]"
          },
          "metadata": {
            "needs_background": "light"
          }
        }
      ]
    },
    {
      "cell_type": "markdown",
      "source": [
        "#### Confusion Matrix"
      ],
      "metadata": {
        "id": "B6ZBiwxAy5qj"
      }
    },
    {
      "cell_type": "code",
      "source": [
        "import seaborn as sns\n",
        "\n",
        "conf_matrix = confusion_matrix(y_train, y_pred)\n",
        "\n",
        "# Visualize the confusion matrix using Seaborn's heatmap() function\n",
        "sns.heatmap(conf_matrix, annot=True, fmt=\"d\", cmap=\"Blues\")\n",
        "plt.title(\"Confusion Matrix\")\n",
        "plt.xlabel(\"Predicted Class\")\n",
        "plt.ylabel(\"True Class\")\n",
        "plt.show()"
      ],
      "metadata": {
        "colab": {
          "base_uri": "https://localhost:8080/",
          "height": 295
        },
        "id": "93vNOk8Qy9ro",
        "outputId": "30c60588-67e0-4a22-f005-344015461a79"
      },
      "execution_count": 81,
      "outputs": [
        {
          "output_type": "display_data",
          "data": {
            "text/plain": [
              "<Figure size 432x288 with 2 Axes>"
            ],
            "image/png": "[encoded data removed]"
          },
          "metadata": {
            "needs_background": "light"
          }
        }
      ]
    },
    {
      "cell_type": "markdown",
      "source": [
        "### Using a Random Forest Classifier:"
      ],
      "metadata": {
        "id": "2jgD8Hh80b4l"
      }
    },
    {
      "cell_type": "code",
      "source": [
        "from sklearn.ensemble import RandomForestClassifier\n",
        "from sklearn.metrics import accuracy_score, precision_score, recall_score, f1_score\n",
        "\n",
        "# Create a RandomForestClassifier object\n",
        "clf_rf = RandomForestClassifier(n_estimators=100)\n",
        "\n",
        "# Train the classifier on the training data\n",
        "clf_rf.fit(X_train_selected, y_train)\n",
        "\n",
        "# Make predictions on the test data\n",
        "y_pred_rf = clf_rf.predict(X_test_selected)\n",
        "\n",
        "# Compute the accuracy of the predictions\n",
        "accuracy_rf = accuracy_score(y_test, y_pred_rf)\n",
        "\n",
        "# Compute the precision of the predictions\n",
        "precision_rf = precision_score(y_test, y_pred_rf)\n",
        "\n",
        "# Compute the recall of the predictions\n",
        "recall_rf = recall_score(y_test, y_pred_rf)\n",
        "\n",
        "# Compute the F1 score of the predictions\n",
        "f1_rf = f1_score(y_test, y_pred_rf)\n",
        "\n",
        "\n",
        "# Print the results\n",
        "print(\"Accuracy: {:.4f}\".format(accuracy_rf))\n",
        "print(\"Precision: {:.4f}\".format(precision_rf))\n",
        "print(\"Recall: {:.4f}\".format(recall_rf))\n",
        "print(\"F1 score: {:.4f}\".format(f1_rf))"
      ],
      "metadata": {
        "colab": {
          "base_uri": "https://localhost:8080/"
        },
        "id": "7JQHmSEE0mel",
        "outputId": "92e326f3-ee55-4e42-e252-64d9cb1e6317"
      },
      "execution_count": 91,
      "outputs": [
        {
          "output_type": "stream",
          "name": "stdout",
          "text": [
            "Accuracy: 0.9721\n",
            "Precision: 0.4658\n",
            "Recall: 0.1011\n",
            "F1 score: 0.1661\n"
          ]
        }
      ]
    },
    {
      "cell_type": "code",
      "source": [
        "y_pred_rf2 = cross_val_predict(clf_sgd, X_train_selected, y_train, cv=skf, method=\"predict_proba\")\n",
        "\n",
        "# Extract the predicted probabilities of the positive class\n",
        "y_pred_rf2 = y_pred_rf2[:, 1]\n",
        "\n",
        "# Compute the false positive rate and true positive rate\n",
        "fpr, tpr, thresholds = roc_curve(y_train, y_pred_rf2)\n",
        "\n",
        "# Compute the AUC score\n",
        "auc = roc_auc_score(y_train, y_pred_rf2)\n",
        "\n",
        "# Plot the ROC curve\n",
        "plt.plot(fpr, tpr, label=\"ROC curve (area = %0.2f)\" % auc)\n",
        "plt.plot([0, 1], [0, 1], \"k--\")  # random predictions curve\n",
        "plt.xlim([0.0, 1.0])\n",
        "plt.ylim([0.0, 1.0])\n",
        "plt.xlabel(\"False Positive Rate\")\n",
        "plt.ylabel(\"True Positive Rate\")\n",
        "plt.title(\"ROC Curve\")\n",
        "plt.legend(loc=\"lower right\")\n",
        "plt.show()"
      ],
      "metadata": {
        "colab": {
          "base_uri": "https://localhost:8080/",
          "height": 295
        },
        "id": "pXZ3hO9F-npF",
        "outputId": "6aa96c92-c392-4bc8-8f77-9b79ba8fbae6"
      },
      "execution_count": 92,
      "outputs": [
        {
          "output_type": "display_data",
          "data": {
            "text/plain": [
              "<Figure size 432x288 with 1 Axes>"
            ],
            "image/png": "[encoded data removed]"
          },
          "metadata": {
            "needs_background": "light"
          }
        }
      ]
    }
  ],
  "metadata": {
    "kernelspec": {
      "display_name": "Python 3.9.13 64-bit",
      "language": "python",
      "name": "python3"
    },
    "language_info": {
      "codemirror_mode": {
        "name": "ipython",
        "version": 3
      },
      "file_extension": ".py",
      "mimetype": "text/x-python",
      "name": "python",
      "nbconvert_exporter": "python",
      "pygments_lexer": "ipython3",
      "version": "3.9.13"
    },
    "orig_nbformat": 4,
    "vscode": {
      "interpreter": {
        "hash": "aee8b7b246df8f9039afb4144a1f6fd8d2ca17a180786b69acc140d282b71a49"
      }
    },
    "colab": {
      "provenance": []
    }
  },
  "nbformat": 4,
  "nbformat_minor": 0
}