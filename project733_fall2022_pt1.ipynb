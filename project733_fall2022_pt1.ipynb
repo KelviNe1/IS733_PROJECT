{
  "cells": [
    {
      "cell_type": "code",
      "execution_count": 2,
      "metadata": {
        "id": "Za3HP3EU_RX0",
        "colab": {
          "base_uri": "https://localhost:8080/"
        },
        "outputId": "9da62e48-9b7b-4ee2-97a6-25ee7c1d2a9e"
      },
      "outputs": [
        {
          "output_type": "stream",
          "name": "stdout",
          "text": [
            "Looking in indexes: https://pypi.org/simple, https://us-python.pkg.dev/colab-wheels/public/simple/\n",
            "Requirement already satisfied: mlxtend in /usr/local/lib/python3.8/dist-packages (0.14.0)\n",
            "Requirement already satisfied: matplotlib>=1.5.1 in /usr/local/lib/python3.8/dist-packages (from mlxtend) (3.2.2)\n",
            "Requirement already satisfied: setuptools in /usr/local/lib/python3.8/dist-packages (from mlxtend) (57.4.0)\n",
            "Requirement already satisfied: numpy>=1.10.4 in /usr/local/lib/python3.8/dist-packages (from mlxtend) (1.21.6)\n",
            "Requirement already satisfied: pandas>=0.17.1 in /usr/local/lib/python3.8/dist-packages (from mlxtend) (1.3.5)\n",
            "Requirement already satisfied: scikit-learn>=0.18 in /usr/local/lib/python3.8/dist-packages (from mlxtend) (1.0.2)\n",
            "Requirement already satisfied: scipy>=0.17 in /usr/local/lib/python3.8/dist-packages (from mlxtend) (1.7.3)\n",
            "Requirement already satisfied: cycler>=0.10 in /usr/local/lib/python3.8/dist-packages (from matplotlib>=1.5.1->mlxtend) (0.11.0)\n",
            "Requirement already satisfied: kiwisolver>=1.0.1 in /usr/local/lib/python3.8/dist-packages (from matplotlib>=1.5.1->mlxtend) (1.4.4)\n",
            "Requirement already satisfied: pyparsing!=2.0.4,!=2.1.2,!=2.1.6,>=2.0.1 in /usr/local/lib/python3.8/dist-packages (from matplotlib>=1.5.1->mlxtend) (3.0.9)\n",
            "Requirement already satisfied: python-dateutil>=2.1 in /usr/local/lib/python3.8/dist-packages (from matplotlib>=1.5.1->mlxtend) (2.8.2)\n",
            "Requirement already satisfied: pytz>=2017.3 in /usr/local/lib/python3.8/dist-packages (from pandas>=0.17.1->mlxtend) (2022.6)\n",
            "Requirement already satisfied: six>=1.5 in /usr/local/lib/python3.8/dist-packages (from python-dateutil>=2.1->matplotlib>=1.5.1->mlxtend) (1.15.0)\n",
            "Requirement already satisfied: joblib>=0.11 in /usr/local/lib/python3.8/dist-packages (from scikit-learn>=0.18->mlxtend) (1.2.0)\n",
            "Requirement already satisfied: threadpoolctl>=2.0.0 in /usr/local/lib/python3.8/dist-packages (from scikit-learn>=0.18->mlxtend) (3.1.0)\n"
          ]
        }
      ],
      "source": [
        "import pandas as pd\n",
        "import numpy as np\n",
        "%matplotlib inline\n",
        "from matplotlib import pyplot as plt\n",
        "import seaborn as sns\n",
        "from sklearn.preprocessing import StandardScaler\n",
        "from sklearn.pipeline import make_pipeline\n",
        "from sklearn.metrics import mean_squared_error, r2_score, classification_report, confusion_matrix\n",
        "from sklearn.model_selection import cross_val_predict, train_test_split, cross_val_score\n",
        "from sklearn.neighbors import KNeighborsRegressor\n",
        "from sklearn.model_selection import KFold\n",
        "import joblib\n",
        "import sys\n",
        "sys.modules['sklearn.externals.joblib'] = joblib\n",
        "!pip install mlxtend\n",
        "from mlxtend.feature_selection import SequentialFeatureSelector as SFS\n",
        "from sklearn.linear_model import LogisticRegression\n",
        "from math import sqrt\n",
        "from sklearn.ensemble import RandomForestClassifier\n",
        "\n"
      ]
    },
    {
      "cell_type": "code",
      "source": [
        "from google.colab import drive\n",
        "drive.mount('/content/gdrive/')"
      ],
      "metadata": {
        "colab": {
          "base_uri": "https://localhost:8080/"
        },
        "id": "0rCHbaAy_p6A",
        "outputId": "6481fb73-5fd9-4dc0-fc1a-610ced2587a4"
      },
      "execution_count": 3,
      "outputs": [
        {
          "output_type": "stream",
          "name": "stdout",
          "text": [
            "Drive already mounted at /content/gdrive/; to attempt to forcibly remount, call drive.mount(\"/content/gdrive/\", force_remount=True).\n"
          ]
        }
      ]
    },
    {
      "cell_type": "markdown",
      "source": [
        "##### Accessing the New York WCB Insurance dataset:"
      ],
      "metadata": {
        "id": "5uNmFAnuFs1A"
      }
    },
    {
      "cell_type": "code",
      "source": [
        "import os\n",
        "pwd = os.getcwd()\n",
        "file_loc = os.path.join(pwd, 'gdrive/MyDrive/IS733 Project/insurance_dataset.csv')"
      ],
      "metadata": {
        "id": "bm4UZx4yL1gy"
      },
      "execution_count": 4,
      "outputs": []
    },
    {
      "cell_type": "markdown",
      "source": [
        "link = 'https://drive.google.com/file/d/1rz2GtkcmUFLfXwbPh9bWQ3BWV15X5fIp/view?usp=share_link'"
      ],
      "metadata": {
        "id": "lo3cc4H4Ik5a"
      }
    },
    {
      "cell_type": "code",
      "source": [
        "! gdown 1rz2GtkcmUFLfXwbPh9bWQ3BWV15X5fIp"
      ],
      "metadata": {
        "colab": {
          "base_uri": "https://localhost:8080/"
        },
        "id": "vFaDx-DJGyek",
        "outputId": "a56b5790-1b4b-48d5-c491-59cd09b9a193"
      },
      "execution_count": 5,
      "outputs": [
        {
          "output_type": "stream",
          "name": "stdout",
          "text": [
            "Access denied with the following error:\n",
            "\n",
            " \tCannot retrieve the public link of the file. You may need to change\n",
            "\tthe permission to 'Anyone with the link', or have had many accesses. \n",
            "\n",
            "You may still be able to access the file from the browser:\n",
            "\n",
            "\t https://drive.google.com/uc?id=1rz2GtkcmUFLfXwbPh9bWQ3BWV15X5fIp \n",
            "\n"
          ]
        }
      ]
    },
    {
      "cell_type": "code",
      "execution_count": 6,
      "metadata": {
        "id": "9vK6Jkeh_RX2",
        "outputId": "d2fcca7f-a403-437f-daeb-0b10fc628a34",
        "colab": {
          "base_uri": "https://localhost:8080/"
        }
      },
      "outputs": [
        {
          "output_type": "stream",
          "name": "stderr",
          "text": [
            "/usr/local/lib/python3.8/dist-packages/IPython/core/interactiveshell.py:3326: DtypeWarning: Columns (22,23,33,34,35,36,37,38,39,40,41,42,43,44,45,46) have mixed types.Specify dtype option on import or set low_memory=False.\n",
            "  exec(code_obj, self.user_global_ns, self.user_ns)\n"
          ]
        }
      ],
      "source": [
        "df = pd.read_csv(file_loc)"
      ]
    },
    {
      "cell_type": "markdown",
      "source": [
        "##### Checking structure of dataset:"
      ],
      "metadata": {
        "id": "zdmekBzpF3Vg"
      }
    },
    {
      "cell_type": "code",
      "source": [
        "df.shape"
      ],
      "metadata": {
        "colab": {
          "base_uri": "https://localhost:8080/"
        },
        "id": "0uG_SACqgIj0",
        "outputId": "e2a97c1c-f825-431b-83d5-88c4e435dd14"
      },
      "execution_count": 7,
      "outputs": [
        {
          "output_type": "execute_result",
          "data": {
            "text/plain": [
              "(4570786, 54)"
            ]
          },
          "metadata": {},
          "execution_count": 7
        }
      ]
    },
    {
      "cell_type": "markdown",
      "source": [
        "##### Viewing at the attributes of the Dataset:"
      ],
      "metadata": {
        "id": "QPACd__EGrSO"
      }
    },
    {
      "cell_type": "code",
      "execution_count": 8,
      "metadata": {
        "id": "AizjfMcn_RX2",
        "outputId": "2c3f4c24-8235-44da-a2db-a520004e65e3",
        "colab": {
          "base_uri": "https://localhost:8080/"
        }
      },
      "outputs": [
        {
          "output_type": "execute_result",
          "data": {
            "text/plain": [
              "['Accident',\n",
              " 'Accident Date',\n",
              " 'Age at Injury',\n",
              " 'Alternative Dispute Resolution',\n",
              " 'ANCR Date',\n",
              " 'Assembly Date',\n",
              " 'Attorney/Representative',\n",
              " 'Average Weekly Wage',\n",
              " 'Birth Year',\n",
              " 'C-2 Date',\n",
              " 'C-3 Date',\n",
              " 'Carrier Name',\n",
              " 'Carrier Type',\n",
              " 'Claim Identifier',\n",
              " 'Claim Injury Type',\n",
              " 'Claim Type',\n",
              " 'Closed Count',\n",
              " 'Controverted Date',\n",
              " 'County of Injury',\n",
              " 'COVID-19 Indicator',\n",
              " 'Current Claim Status',\n",
              " 'District Name',\n",
              " 'First Appeal Date',\n",
              " 'First Hearing Date',\n",
              " 'Gender',\n",
              " 'Hearing Count',\n",
              " 'Highest Process',\n",
              " 'IME-4 Count',\n",
              " 'Industry Code',\n",
              " 'Industry Code Description',\n",
              " 'Interval Assembled to ANCR',\n",
              " 'Medical Fee Region',\n",
              " 'Occupational Disease',\n",
              " 'OIICS Event Exposure Code',\n",
              " 'OIICS Event Exposure Description',\n",
              " 'OIICS Injury Source Code',\n",
              " 'OIICS Injury Source Description',\n",
              " 'OIICS Nature of Injury Code',\n",
              " 'OIICS Nature of Injury Description',\n",
              " 'OIICS Part Of Body Code',\n",
              " 'OIICS Part Of Body Description',\n",
              " 'OIICS Secondary Source Code',\n",
              " 'OIICS Secondary Source Description',\n",
              " 'PPD Non-Scheduled Loss Date',\n",
              " 'PPD Scheduled Loss Date',\n",
              " 'PTD Date',\n",
              " 'Section 32 Date',\n",
              " 'WCIO Cause of Injury Code',\n",
              " 'WCIO Cause of Injury Description',\n",
              " 'WCIO Nature of Injury Code',\n",
              " 'WCIO Nature of Injury Description',\n",
              " 'WCIO Part Of Body Code',\n",
              " 'WCIO Part Of Body Description',\n",
              " 'Zip Code']"
            ]
          },
          "metadata": {},
          "execution_count": 8
        }
      ],
      "source": [
        "df.columns.to_list()\n",
        "# list(df.columns)\n",
        "# initial_list = list(df.columns)\n",
        "# initial_list"
      ]
    },
    {
      "cell_type": "markdown",
      "source": [
        "##### Calculating the level of missingness and presenting as a DataFrame in descending order:"
      ],
      "metadata": {
        "id": "YEUEKHTWH6_N"
      }
    },
    {
      "cell_type": "code",
      "execution_count": 9,
      "metadata": {
        "id": "JVRuvD_m_RX3",
        "outputId": "7370eea2-e07c-4caf-a792-d9c74bc5c890",
        "colab": {
          "base_uri": "https://localhost:8080/",
          "height": 1000
        }
      },
      "outputs": [
        {
          "output_type": "execute_result",
          "data": {
            "text/plain": [
              "                                    Level of Missingness(%)\n",
              "PTD Date                                          99.886890\n",
              "PPD Non-Scheduled Loss Date                       97.690944\n",
              "First Appeal Date                                 96.443850\n",
              "Section 32 Date                                   94.516304\n",
              "Controverted Date                                 90.403926\n",
              "PPD Scheduled Loss Date                           88.260137\n",
              "OIICS Secondary Source Description                75.014669\n",
              "OIICS Secondary Source Code                       75.014669\n",
              "OIICS Injury Source Code                          75.013947\n",
              "OIICS Injury Source Description                   75.013947\n",
              "OIICS Event Exposure Code                         75.013882\n",
              "OIICS Event Exposure Description                  75.013882\n",
              "OIICS Nature of Injury Description                75.013685\n",
              "OIICS Part Of Body Description                    75.013685\n",
              "OIICS Part Of Body Code                           75.013685\n",
              "OIICS Nature of Injury Code                       75.013685\n",
              "IME-4 Count                                       74.596076\n",
              "First Hearing Date                                66.829906\n",
              "C-3 Date                                          62.742491\n",
              "Interval Assembled to ANCR                        46.562911\n",
              "ANCR Date                                         46.561576\n",
              "WCIO Nature of Injury Code                        44.305706\n",
              "WCIO Nature of Injury Description                 44.305706\n",
              "WCIO Cause of Injury Description                  44.298705\n",
              "WCIO Cause of Injury Code                         44.298705\n",
              "WCIO Part Of Body Code                            44.175575\n",
              "WCIO Part Of Body Description                     44.175575\n",
              "Industry Code Description                         38.581526\n",
              "Industry Code                                     38.581526\n",
              "C-2 Date                                           9.592792\n",
              "Accident Date                                      0.894398"
            ],
            "text/html": [
              "\n",
              "  <div id=\"df-8baace99-09c7-49fd-a7ea-b1572c03d0e0\">\n",
              "    <div class=\"colab-df-container\">\n",
              "      <div>\n",
              "<style scoped>\n",
              "    .dataframe tbody tr th:only-of-type {\n",
              "        vertical-align: middle;\n",
              "    }\n",
              "\n",
              "    .dataframe tbody tr th {\n",
              "        vertical-align: top;\n",
              "    }\n",
              "\n",
              "    .dataframe thead th {\n",
              "        text-align: right;\n",
              "    }\n",
              "</style>\n",
              "<table border=\"1\" class=\"dataframe\">\n",
              "  <thead>\n",
              "    <tr style=\"text-align: right;\">\n",
              "      <th></th>\n",
              "      <th>Level of Missingness(%)</th>\n",
              "    </tr>\n",
              "  </thead>\n",
              "  <tbody>\n",
              "    <tr>\n",
              "      <th>PTD Date</th>\n",
              "      <td>99.886890</td>\n",
              "    </tr>\n",
              "    <tr>\n",
              "      <th>PPD Non-Scheduled Loss Date</th>\n",
              "      <td>97.690944</td>\n",
              "    </tr>\n",
              "    <tr>\n",
              "      <th>First Appeal Date</th>\n",
              "      <td>96.443850</td>\n",
              "    </tr>\n",
              "    <tr>\n",
              "      <th>Section 32 Date</th>\n",
              "      <td>94.516304</td>\n",
              "    </tr>\n",
              "    <tr>\n",
              "      <th>Controverted Date</th>\n",
              "      <td>90.403926</td>\n",
              "    </tr>\n",
              "    <tr>\n",
              "      <th>PPD Scheduled Loss Date</th>\n",
              "      <td>88.260137</td>\n",
              "    </tr>\n",
              "    <tr>\n",
              "      <th>OIICS Secondary Source Description</th>\n",
              "      <td>75.014669</td>\n",
              "    </tr>\n",
              "    <tr>\n",
              "      <th>OIICS Secondary Source Code</th>\n",
              "      <td>75.014669</td>\n",
              "    </tr>\n",
              "    <tr>\n",
              "      <th>OIICS Injury Source Code</th>\n",
              "      <td>75.013947</td>\n",
              "    </tr>\n",
              "    <tr>\n",
              "      <th>OIICS Injury Source Description</th>\n",
              "      <td>75.013947</td>\n",
              "    </tr>\n",
              "    <tr>\n",
              "      <th>OIICS Event Exposure Code</th>\n",
              "      <td>75.013882</td>\n",
              "    </tr>\n",
              "    <tr>\n",
              "      <th>OIICS Event Exposure Description</th>\n",
              "      <td>75.013882</td>\n",
              "    </tr>\n",
              "    <tr>\n",
              "      <th>OIICS Nature of Injury Description</th>\n",
              "      <td>75.013685</td>\n",
              "    </tr>\n",
              "    <tr>\n",
              "      <th>OIICS Part Of Body Description</th>\n",
              "      <td>75.013685</td>\n",
              "    </tr>\n",
              "    <tr>\n",
              "      <th>OIICS Part Of Body Code</th>\n",
              "      <td>75.013685</td>\n",
              "    </tr>\n",
              "    <tr>\n",
              "      <th>OIICS Nature of Injury Code</th>\n",
              "      <td>75.013685</td>\n",
              "    </tr>\n",
              "    <tr>\n",
              "      <th>IME-4 Count</th>\n",
              "      <td>74.596076</td>\n",
              "    </tr>\n",
              "    <tr>\n",
              "      <th>First Hearing Date</th>\n",
              "      <td>66.829906</td>\n",
              "    </tr>\n",
              "    <tr>\n",
              "      <th>C-3 Date</th>\n",
              "      <td>62.742491</td>\n",
              "    </tr>\n",
              "    <tr>\n",
              "      <th>Interval Assembled to ANCR</th>\n",
              "      <td>46.562911</td>\n",
              "    </tr>\n",
              "    <tr>\n",
              "      <th>ANCR Date</th>\n",
              "      <td>46.561576</td>\n",
              "    </tr>\n",
              "    <tr>\n",
              "      <th>WCIO Nature of Injury Code</th>\n",
              "      <td>44.305706</td>\n",
              "    </tr>\n",
              "    <tr>\n",
              "      <th>WCIO Nature of Injury Description</th>\n",
              "      <td>44.305706</td>\n",
              "    </tr>\n",
              "    <tr>\n",
              "      <th>WCIO Cause of Injury Description</th>\n",
              "      <td>44.298705</td>\n",
              "    </tr>\n",
              "    <tr>\n",
              "      <th>WCIO Cause of Injury Code</th>\n",
              "      <td>44.298705</td>\n",
              "    </tr>\n",
              "    <tr>\n",
              "      <th>WCIO Part Of Body Code</th>\n",
              "      <td>44.175575</td>\n",
              "    </tr>\n",
              "    <tr>\n",
              "      <th>WCIO Part Of Body Description</th>\n",
              "      <td>44.175575</td>\n",
              "    </tr>\n",
              "    <tr>\n",
              "      <th>Industry Code Description</th>\n",
              "      <td>38.581526</td>\n",
              "    </tr>\n",
              "    <tr>\n",
              "      <th>Industry Code</th>\n",
              "      <td>38.581526</td>\n",
              "    </tr>\n",
              "    <tr>\n",
              "      <th>C-2 Date</th>\n",
              "      <td>9.592792</td>\n",
              "    </tr>\n",
              "    <tr>\n",
              "      <th>Accident Date</th>\n",
              "      <td>0.894398</td>\n",
              "    </tr>\n",
              "  </tbody>\n",
              "</table>\n",
              "</div>\n",
              "      <button class=\"colab-df-convert\" onclick=\"convertToInteractive('df-8baace99-09c7-49fd-a7ea-b1572c03d0e0')\"\n",
              "              title=\"Convert this dataframe to an interactive table.\"\n",
              "              style=\"display:none;\">\n",
              "        \n",
              "  <svg xmlns=\"http://www.w3.org/2000/svg\" height=\"24px\"viewBox=\"0 0 24 24\"\n",
              "       width=\"24px\">\n",
              "    <path d=\"M0 0h24v24H0V0z\" fill=\"none\"/>\n",
              "    <path d=\"M18.56 5.44l.94 2.06.94-2.06 2.06-.94-2.06-.94-.94-2.06-.94 2.06-2.06.94zm-11 1L8.5 8.5l.94-2.06 2.06-.94-2.06-.94L8.5 2.5l-.94 2.06-2.06.94zm10 10l.94 2.06.94-2.06 2.06-.94-2.06-.94-.94-2.06-.94 2.06-2.06.94z\"/><path d=\"M17.41 7.96l-1.37-1.37c-.4-.4-.92-.59-1.43-.59-.52 0-1.04.2-1.43.59L10.3 9.45l-7.72 7.72c-.78.78-.78 2.05 0 2.83L4 21.41c.39.39.9.59 1.41.59.51 0 1.02-.2 1.41-.59l7.78-7.78 2.81-2.81c.8-.78.8-2.07 0-2.86zM5.41 20L4 18.59l7.72-7.72 1.47 1.35L5.41 20z\"/>\n",
              "  </svg>\n",
              "      </button>\n",
              "      \n",
              "  <style>\n",
              "    .colab-df-container {\n",
              "      display:flex;\n",
              "      flex-wrap:wrap;\n",
              "      gap: 12px;\n",
              "    }\n",
              "\n",
              "    .colab-df-convert {\n",
              "      background-color: #E8F0FE;\n",
              "      border: none;\n",
              "      border-radius: 50%;\n",
              "      cursor: pointer;\n",
              "      display: none;\n",
              "      fill: #1967D2;\n",
              "      height: 32px;\n",
              "      padding: 0 0 0 0;\n",
              "      width: 32px;\n",
              "    }\n",
              "\n",
              "    .colab-df-convert:hover {\n",
              "      background-color: #E2EBFA;\n",
              "      box-shadow: 0px 1px 2px rgba(60, 64, 67, 0.3), 0px 1px 3px 1px rgba(60, 64, 67, 0.15);\n",
              "      fill: #174EA6;\n",
              "    }\n",
              "\n",
              "    [theme=dark] .colab-df-convert {\n",
              "      background-color: #3B4455;\n",
              "      fill: #D2E3FC;\n",
              "    }\n",
              "\n",
              "    [theme=dark] .colab-df-convert:hover {\n",
              "      background-color: #434B5C;\n",
              "      box-shadow: 0px 1px 3px 1px rgba(0, 0, 0, 0.15);\n",
              "      filter: drop-shadow(0px 1px 2px rgba(0, 0, 0, 0.3));\n",
              "      fill: #FFFFFF;\n",
              "    }\n",
              "  </style>\n",
              "\n",
              "      <script>\n",
              "        const buttonEl =\n",
              "          document.querySelector('#df-8baace99-09c7-49fd-a7ea-b1572c03d0e0 button.colab-df-convert');\n",
              "        buttonEl.style.display =\n",
              "          google.colab.kernel.accessAllowed ? 'block' : 'none';\n",
              "\n",
              "        async function convertToInteractive(key) {\n",
              "          const element = document.querySelector('#df-8baace99-09c7-49fd-a7ea-b1572c03d0e0');\n",
              "          const dataTable =\n",
              "            await google.colab.kernel.invokeFunction('convertToInteractive',\n",
              "                                                     [key], {});\n",
              "          if (!dataTable) return;\n",
              "\n",
              "          const docLinkHtml = 'Like what you see? Visit the ' +\n",
              "            '<a target=\"_blank\" href=https://colab.research.google.com/notebooks/data_table.ipynb>data table notebook</a>'\n",
              "            + ' to learn more about interactive tables.';\n",
              "          element.innerHTML = '';\n",
              "          dataTable['output_type'] = 'display_data';\n",
              "          await google.colab.output.renderOutput(dataTable, element);\n",
              "          const docLink = document.createElement('div');\n",
              "          docLink.innerHTML = docLinkHtml;\n",
              "          element.appendChild(docLink);\n",
              "        }\n",
              "      </script>\n",
              "    </div>\n",
              "  </div>\n",
              "  "
            ]
          },
          "metadata": {},
          "execution_count": 9
        }
      ],
      "source": [
        "missing_data_num = (df.isnull().sum()/len(df))*100\n",
        "missing_data_num = missing_data_num.drop(missing_data_num[missing_data_num == 0].index).sort_values(ascending=False)\n",
        "missing_data = pd.DataFrame({'Level of Missingness(%)' : missing_data_num})\n",
        "missing_data"
      ]
    },
    {
      "cell_type": "markdown",
      "source": [
        "Now checking the Birth year distribution of captured workers:"
      ],
      "metadata": {
        "id": "Q9TqWNO3KP2d"
      }
    },
    {
      "cell_type": "code",
      "source": [
        "df[df['Birth Year'] > 1920]['Birth Year'].plot.hist()"
      ],
      "metadata": {
        "colab": {
          "base_uri": "https://localhost:8080/",
          "height": 293
        },
        "id": "VDDktbpsDnmM",
        "outputId": "ef30e973-8813-42a2-f459-9d00bdb526c4"
      },
      "execution_count": 10,
      "outputs": [
        {
          "output_type": "execute_result",
          "data": {
            "text/plain": [
              "<matplotlib.axes._subplots.AxesSubplot at 0x7fbf9345f6a0>"
            ]
          },
          "metadata": {},
          "execution_count": 10
        },
        {
          "output_type": "display_data",
          "data": {
            "text/plain": [
              "<Figure size 432x288 with 1 Axes>"
            ],
            "image/png": "[encoded data removed]"
          },
          "metadata": {
            "needs_background": "light"
          }
        }
      ]
    },
    {
      "cell_type": "markdown",
      "source": [
        "The above distribution is a Gaussian distribution and truly representative."
      ],
      "metadata": {
        "id": "JxjUJPjRhLSQ"
      }
    },
    {
      "cell_type": "markdown",
      "source": [
        "##### From the accident data, we see that the level of missingness (40881) is relatively small. As a result, we would drop the corresponding rows"
      ],
      "metadata": {
        "id": "l-J4ql3PzDHC"
      }
    },
    {
      "cell_type": "code",
      "source": [
        "df['Accident Date'].value_counts()"
      ],
      "metadata": {
        "colab": {
          "base_uri": "https://localhost:8080/"
        },
        "id": "ezofW43crkwN",
        "outputId": "36daf6cd-e93c-432c-8835-a269b6e56cc1"
      },
      "execution_count": 11,
      "outputs": [
        {
          "output_type": "execute_result",
          "data": {
            "text/plain": [
              "09/11/2001    12530\n",
              "03/01/2020     1761\n",
              "03/15/2017     1552\n",
              "03/09/2015     1524\n",
              "12/03/2019     1375\n",
              "              ...  \n",
              "08/20/1976        1\n",
              "04/30/1980        1\n",
              "02/16/1955        1\n",
              "09/06/1992        1\n",
              "06/15/1991        1\n",
              "Name: Accident Date, Length: 13645, dtype: int64"
            ]
          },
          "metadata": {},
          "execution_count": 11
        }
      ]
    },
    {
      "cell_type": "markdown",
      "source": [
        "###** NOTABLE EVENTS GOING BY THE ABOVE ACCIDENT DATE COUNTS:**\n",
        "1. 09/11/2001: Following the tragic incident at the World Trade Center\n",
        "2. 03/01/2020: Gov. Cuomo (the then governor of NewYork State) announced the first cases of COVID-19 "
      ],
      "metadata": {
        "id": "8wjne-dkhyda"
      }
    },
    {
      "cell_type": "code",
      "source": [
        "df['Accident Date'].isna().sum()"
      ],
      "metadata": {
        "colab": {
          "base_uri": "https://localhost:8080/"
        },
        "id": "lQ-18ZKAryUO",
        "outputId": "80d12bb8-e6ed-4ff7-e4b8-271f0fde05cf"
      },
      "execution_count": 12,
      "outputs": [
        {
          "output_type": "execute_result",
          "data": {
            "text/plain": [
              "40881"
            ]
          },
          "metadata": {},
          "execution_count": 12
        }
      ]
    },
    {
      "cell_type": "code",
      "source": [
        "df = df.dropna(subset=['Accident Date'])"
      ],
      "metadata": {
        "id": "oo5hU9smr-M1"
      },
      "execution_count": 13,
      "outputs": []
    },
    {
      "cell_type": "code",
      "source": [
        "(df['Accident Date'] == 0).sum()"
      ],
      "metadata": {
        "colab": {
          "base_uri": "https://localhost:8080/"
        },
        "id": "uZsx5xZxhrnk",
        "outputId": "d5353409-91cd-472e-d0b6-ce128cb6ae1e"
      },
      "execution_count": 14,
      "outputs": [
        {
          "output_type": "execute_result",
          "data": {
            "text/plain": [
              "0"
            ]
          },
          "metadata": {},
          "execution_count": 14
        }
      ]
    },
    {
      "cell_type": "markdown",
      "source": [
        "Since we are exploring Worker's compensation-related data, workers will definitely be on paid jobs. Therefore, we will consider zero Average Weekly Wages as not valid for this analysis. We will proceed to drop the associated rows:"
      ],
      "metadata": {
        "id": "IkYMRmws1lIC"
      }
    },
    {
      "cell_type": "code",
      "source": [
        "df['Average Weekly Wage'].isna().sum()"
      ],
      "metadata": {
        "colab": {
          "base_uri": "https://localhost:8080/"
        },
        "id": "yaRMYz-ni-xs",
        "outputId": "8a18d527-e6cc-4ae3-829b-80bc3409aba3"
      },
      "execution_count": 15,
      "outputs": [
        {
          "output_type": "execute_result",
          "data": {
            "text/plain": [
              "0"
            ]
          },
          "metadata": {},
          "execution_count": 15
        }
      ]
    },
    {
      "cell_type": "code",
      "source": [
        "df.drop(df[df['Average Weekly Wage'] == 0].index, inplace = True)"
      ],
      "metadata": {
        "id": "cmxis9T51i8v"
      },
      "execution_count": 16,
      "outputs": []
    },
    {
      "cell_type": "code",
      "source": [
        "df['Average Weekly Wage'].isna().sum()"
      ],
      "metadata": {
        "colab": {
          "base_uri": "https://localhost:8080/"
        },
        "id": "TI661yTE3CuM",
        "outputId": "2a7754cd-8046-4900-a1bb-aebeb201e997"
      },
      "execution_count": 17,
      "outputs": [
        {
          "output_type": "execute_result",
          "data": {
            "text/plain": [
              "0"
            ]
          },
          "metadata": {},
          "execution_count": 17
        }
      ]
    },
    {
      "cell_type": "code",
      "source": [
        "df[(df['Age at Injury'] >= 0) & (df['Age at Injury'] <= 175)]['Age at Injury'].value_counts().sort_index().plot.bar(figsize=(15,5))"
      ],
      "metadata": {
        "colab": {
          "base_uri": "https://localhost:8080/",
          "height": 346
        },
        "id": "q9vu_7H1_LBw",
        "outputId": "d6ffcc95-75d8-49a0-fbca-ab40919d090d"
      },
      "execution_count": 18,
      "outputs": [
        {
          "output_type": "execute_result",
          "data": {
            "text/plain": [
              "<matplotlib.axes._subplots.AxesSubplot at 0x7fbfd4f412e0>"
            ]
          },
          "metadata": {},
          "execution_count": 18
        },
        {
          "output_type": "display_data",
          "data": {
            "text/plain": [
              "<Figure size 1080x360 with 1 Axes>"
            ],
            "image/png": "[encoded data removed]"
          },
          "metadata": {
            "needs_background": "light"
          }
        }
      ]
    },
    {
      "cell_type": "markdown",
      "source": [
        "The 0 value ages are obviously missing values. Moving on to Age of Injury, ideal ages to be explored include Ages between 16 and 75. Trimming to this Age of Injury window:"
      ],
      "metadata": {
        "id": "4_oaQbHk2QDb"
      }
    },
    {
      "cell_type": "code",
      "source": [
        "df.drop(df[df['Age at Injury'] < 16].index, inplace=True)\n",
        "df.drop(df[df['Age at Injury'] > 75].index, inplace=True)\n"
      ],
      "metadata": {
        "id": "L_xRcCZxhthV"
      },
      "execution_count": 19,
      "outputs": []
    },
    {
      "cell_type": "code",
      "source": [
        "df[(df['Age at Injury'] >= 0) & (df['Age at Injury'] <= 175)]['Age at Injury'].value_counts().sort_index().plot.bar(figsize=(15,5))"
      ],
      "metadata": {
        "colab": {
          "base_uri": "https://localhost:8080/",
          "height": 339
        },
        "id": "EWjJ05MT_GKq",
        "outputId": "50ce7105-615a-47df-c59f-f973977ab94b"
      },
      "execution_count": 20,
      "outputs": [
        {
          "output_type": "execute_result",
          "data": {
            "text/plain": [
              "<matplotlib.axes._subplots.AxesSubplot at 0x7fbfa7a15d30>"
            ]
          },
          "metadata": {},
          "execution_count": 20
        },
        {
          "output_type": "display_data",
          "data": {
            "text/plain": [
              "<Figure size 1080x360 with 1 Axes>"
            ],
            "image/png": "[encoded data removed]"
          },
          "metadata": {
            "needs_background": "light"
          }
        }
      ]
    },
    {
      "cell_type": "code",
      "source": [
        "df['Average Weekly Wage'].isna().sum()"
      ],
      "metadata": {
        "colab": {
          "base_uri": "https://localhost:8080/"
        },
        "outputId": "9f1e055b-5c71-4b43-863e-2b7f4895e572",
        "id": "jv5ZX9X4hsQH"
      },
      "execution_count": 21,
      "outputs": [
        {
          "output_type": "execute_result",
          "data": {
            "text/plain": [
              "0"
            ]
          },
          "metadata": {},
          "execution_count": 21
        }
      ]
    },
    {
      "cell_type": "code",
      "source": [
        "(df['Average Weekly Wage'] == 0).sum()"
      ],
      "metadata": {
        "colab": {
          "base_uri": "https://localhost:8080/"
        },
        "id": "y1aR00vNsJV4",
        "outputId": "aa6e830f-0cdf-4403-af4c-67df625ac33b"
      },
      "execution_count": 22,
      "outputs": [
        {
          "output_type": "execute_result",
          "data": {
            "text/plain": [
              "0"
            ]
          },
          "metadata": {},
          "execution_count": 22
        }
      ]
    },
    {
      "cell_type": "markdown",
      "source": [
        "Using Domain Knowledge and Level of missingness, the original dataset will now be trimmed to 15 features by dropping the columns outrightly:"
      ],
      "metadata": {
        "id": "SyVADo5j4sM1"
      }
    },
    {
      "cell_type": "code",
      "source": [
        "df = df.drop(columns = ['WCIO Cause of Injury Description', 'C-2 Date', 'C-3 Date', 'Interval Assembled to ANCR','Industry Code Description', 'First Hearing Date', 'Accident', 'Birth Year', 'Carrier Name', 'Claim Identifier', 'Claim Type', 'ANCR Date', 'Controverted Date', 'County of Injury', 'COVID-19 Indicator', 'First Appeal Date', 'IME-4 Count', 'Industry Code', 'Medical Fee Region', 'OIICS Event Exposure Code', 'OIICS Event Exposure Description', 'OIICS Injury Source Code', 'OIICS Injury Source Description', 'OIICS Nature of Injury Code', 'OIICS Nature of Injury Description', 'OIICS Part Of Body Code', 'OIICS Part Of Body Description', 'OIICS Secondary Source Code', 'OIICS Secondary Source Description', 'PPD Non-Scheduled Loss Date', 'PPD Scheduled Loss Date', 'PTD Date', 'Section 32 Date', 'WCIO Cause of Injury Code', 'WCIO Nature of Injury Description', 'WCIO Nature of Injury Code', 'WCIO Part Of Body Description', 'WCIO Part Of Body Code', 'Zip Code'], axis = 1 )"
      ],
      "metadata": {
        "id": "4DAewUttaLYa"
      },
      "execution_count": 23,
      "outputs": []
    },
    {
      "cell_type": "markdown",
      "source": [
        "###### to check missing values in claim_df dataframe"
      ],
      "metadata": {
        "id": "xXyTK4EX5HpS"
      }
    },
    {
      "cell_type": "code",
      "source": [
        "df.isna().sum().reset_index(name=\"n\").plot.bar(x='index', y='n', rot=45, figsize=(20,5))"
      ],
      "metadata": {
        "colab": {
          "base_uri": "https://localhost:8080/",
          "height": 455
        },
        "id": "lpoA7lLt5OMA",
        "outputId": "310fb9bd-a90b-4bf4-84d2-e92d424d856f"
      },
      "execution_count": 24,
      "outputs": [
        {
          "output_type": "execute_result",
          "data": {
            "text/plain": [
              "<matplotlib.axes._subplots.AxesSubplot at 0x7fbfa0249af0>"
            ]
          },
          "metadata": {},
          "execution_count": 24
        },
        {
          "output_type": "display_data",
          "data": {
            "text/plain": [
              "<Figure size 1440x360 with 1 Axes>"
            ],
            "image/png": "[encoded data removed]"
          },
          "metadata": {
            "needs_background": "light"
          }
        }
      ]
    },
    {
      "cell_type": "code",
      "source": [
        "# df.to_csv(\"insurance_data_clean4viz2.csv\", index=False)"
      ],
      "metadata": {
        "id": "t3eLx9Ty6A5f"
      },
      "execution_count": 25,
      "outputs": []
    },
    {
      "cell_type": "markdown",
      "source": [
        "##### Accident Date precedes Assembly Date (the date the claim was first assembled. The WCB “assembles” a claim in which an injured worker has lost more than one week of work, has a serious injury that may result in a permanent disability, is disputed by the carrier or employer, or receives a claim form from the injured worker). We will proceed to extract a new feature which will be termed \"Claim Assembly Time Lag\", a positive difference between the two dates:"
      ],
      "metadata": {
        "id": "2IklbGsz8C-g"
      }
    },
    {
      "cell_type": "code",
      "source": [
        "import datetime\n",
        "df['Accident Date Transformed'] = pd.to_datetime(df['Accident Date'])\n",
        "df['Assembly Date Transformed'] = pd.to_datetime(df['Assembly Date'])\n",
        "df['Claim Assembly Time Lag'] =  df['Assembly Date Transformed'] - df['Accident Date Transformed']\n"
      ],
      "metadata": {
        "id": "ZSEtlSu3RLj5"
      },
      "execution_count": 26,
      "outputs": []
    },
    {
      "cell_type": "markdown",
      "source": [
        "##### Dropping the former columns: "
      ],
      "metadata": {
        "id": "B9rueswB8P4B"
      }
    },
    {
      "cell_type": "code",
      "source": [
        "df.drop(columns = [ 'Accident Date Transformed', 'Accident Date', 'Assembly Date', 'Assembly Date Transformed'], inplace=True, axis = 1 )"
      ],
      "metadata": {
        "id": "IJJIUT-CReZ1"
      },
      "execution_count": 27,
      "outputs": []
    },
    {
      "cell_type": "code",
      "source": [
        "df['Gender'].value_counts().plot.barh()"
      ],
      "metadata": {
        "colab": {
          "base_uri": "https://localhost:8080/",
          "height": 295
        },
        "id": "Y7fS1avHAdIr",
        "outputId": "66998970-e61f-4717-9b5e-5a6d5e08a87c"
      },
      "execution_count": 28,
      "outputs": [
        {
          "output_type": "execute_result",
          "data": {
            "text/plain": [
              "<matplotlib.axes._subplots.AxesSubplot at 0x7fbfbabe7820>"
            ]
          },
          "metadata": {},
          "execution_count": 28
        },
        {
          "output_type": "display_data",
          "data": {
            "text/plain": [
              "<Figure size 432x288 with 1 Axes>"
            ],
            "image/png": "[encoded data removed]"
          },
          "metadata": {
            "needs_background": "light"
          }
        }
      ]
    },
    {
      "cell_type": "markdown",
      "source": [
        "##### For a better and more acute analysis, the 'Undefined' Gender will be dropped:"
      ],
      "metadata": {
        "id": "PeJ6U07pAp1l"
      }
    },
    {
      "cell_type": "code",
      "source": [
        "df.drop(df[df['Gender'] == 'U'].index, inplace=True)"
      ],
      "metadata": {
        "id": "TDdDa0cwAjOp"
      },
      "execution_count": 29,
      "outputs": []
    },
    {
      "cell_type": "code",
      "source": [
        "df['Claim Assembly Time Lag']"
      ],
      "metadata": {
        "colab": {
          "base_uri": "https://localhost:8080/"
        },
        "id": "AR5qWWVb8own",
        "outputId": "561ccf8b-9f5d-4f57-c2a7-211b5734250e"
      },
      "execution_count": 30,
      "outputs": [
        {
          "output_type": "execute_result",
          "data": {
            "text/plain": [
              "9909         68 days\n",
              "16493         6 days\n",
              "19838        24 days\n",
              "20487        23 days\n",
              "20972         4 days\n",
              "             ...    \n",
              "4570762     140 days\n",
              "4570769     204 days\n",
              "4570774   -2974 days\n",
              "4570775    -317 days\n",
              "4570776    -353 days\n",
              "Name: Claim Assembly Time Lag, Length: 1781313, dtype: timedelta64[ns]"
            ]
          },
          "metadata": {},
          "execution_count": 30
        }
      ]
    },
    {
      "cell_type": "markdown",
      "source": [
        "We notice two things. First, the 'days\" suffix is not needed. Second, there are negative values which is not right. The difference ought to be positive on every account. We will deal with these two cases"
      ],
      "metadata": {
        "id": "lupQocxz8syq"
      }
    },
    {
      "cell_type": "code",
      "source": [
        "# First issue fix\n",
        "df['Claim Assembly Time Lag'] = df['Claim Assembly Time Lag'].astype('timedelta64[D]')"
      ],
      "metadata": {
        "id": "nGk7i7sTBM_X"
      },
      "execution_count": 31,
      "outputs": []
    },
    {
      "cell_type": "markdown",
      "source": [
        "##### The number of wrong imputations of Assembly date in the dataset are:"
      ],
      "metadata": {
        "id": "-y_rc2DVBsp1"
      }
    },
    {
      "cell_type": "code",
      "source": [
        "(df['Claim Assembly Time Lag'] < 0).sum()"
      ],
      "metadata": {
        "colab": {
          "base_uri": "https://localhost:8080/"
        },
        "id": "mt03vsfSBhJb",
        "outputId": "28af902b-4b98-41bc-a0e8-86c7c130565b"
      },
      "execution_count": 32,
      "outputs": [
        {
          "output_type": "execute_result",
          "data": {
            "text/plain": [
              "6967"
            ]
          },
          "metadata": {},
          "execution_count": 32
        }
      ]
    },
    {
      "cell_type": "code",
      "source": [
        "# Second issue fix\n",
        "df = df[~(df['Claim Assembly Time Lag'] < 0)]"
      ],
      "metadata": {
        "id": "3mrFD4HTBWZb"
      },
      "execution_count": 33,
      "outputs": []
    },
    {
      "cell_type": "code",
      "source": [
        "df['Claim Assembly Time Lag']"
      ],
      "metadata": {
        "colab": {
          "base_uri": "https://localhost:8080/"
        },
        "id": "3fBW6GKrCEn2",
        "outputId": "032e9c6a-a2e8-4934-85e6-5f691bf94983"
      },
      "execution_count": 34,
      "outputs": [
        {
          "output_type": "execute_result",
          "data": {
            "text/plain": [
              "9909        68.0\n",
              "16493        6.0\n",
              "19838       24.0\n",
              "20487       23.0\n",
              "20972        4.0\n",
              "           ...  \n",
              "4570759     56.0\n",
              "4570760    214.0\n",
              "4570761     27.0\n",
              "4570762    140.0\n",
              "4570769    204.0\n",
              "Name: Claim Assembly Time Lag, Length: 1774346, dtype: float64"
            ]
          },
          "metadata": {},
          "execution_count": 34
        }
      ]
    },
    {
      "cell_type": "code",
      "source": [
        "(df['Alternative Dispute Resolution'] == \"U\").sum()"
      ],
      "metadata": {
        "colab": {
          "base_uri": "https://localhost:8080/"
        },
        "id": "YX2LBVQHDxA4",
        "outputId": "69812321-ef21-44a0-c992-526b3816ec69"
      },
      "execution_count": 35,
      "outputs": [
        {
          "output_type": "execute_result",
          "data": {
            "text/plain": [
              "3"
            ]
          },
          "metadata": {},
          "execution_count": 35
        }
      ]
    },
    {
      "cell_type": "markdown",
      "source": [
        "Dropping the above 3 outliers:"
      ],
      "metadata": {
        "id": "8eeX-o0xD8VC"
      }
    },
    {
      "cell_type": "code",
      "source": [
        "df.drop(df[df['Alternative Dispute Resolution'] == 'U'].index, inplace=True)"
      ],
      "metadata": {
        "id": "Vg3kZjC5D17T"
      },
      "execution_count": 36,
      "outputs": []
    },
    {
      "cell_type": "code",
      "source": [
        "(df['Average Weekly Wage'] < 6).value_counts()"
      ],
      "metadata": {
        "colab": {
          "base_uri": "https://localhost:8080/"
        },
        "id": "0xc5Ago5JKxu",
        "outputId": "8105e286-c2d9-4855-b31b-7e1c0cc532e9"
      },
      "execution_count": 37,
      "outputs": [
        {
          "output_type": "execute_result",
          "data": {
            "text/plain": [
              "False    1774336\n",
              "True           7\n",
              "Name: Average Weekly Wage, dtype: int64"
            ]
          },
          "metadata": {},
          "execution_count": 37
        }
      ]
    },
    {
      "cell_type": "markdown",
      "source": [
        "Assuming $1 per day earnings, we will proceed to drop all weekly wages less than 6 dollars:"
      ],
      "metadata": {
        "id": "8Q8SB_oxKif6"
      }
    },
    {
      "cell_type": "code",
      "source": [
        "df.drop(df[df['Average Weekly Wage'] < 6].index, inplace=True)"
      ],
      "metadata": {
        "id": "z22lvnznKNMC"
      },
      "execution_count": 38,
      "outputs": []
    },
    {
      "cell_type": "code",
      "source": [
        "# df.to_csv(\"insurance_data_clean4viz3.csv\", index=False)"
      ],
      "metadata": {
        "id": "oNWYPammO9TL"
      },
      "execution_count": 39,
      "outputs": []
    },
    {
      "cell_type": "code",
      "source": [
        "#create copy of current dataset\n",
        "#feat_df = claim_df.copy()\n",
        "#claim_df.to_csv('clean1_insurance_data.csv')\n",
        "\n",
        "\n"
      ],
      "metadata": {
        "id": "Cmkhxghz4V3i"
      },
      "execution_count": 40,
      "outputs": []
    },
    {
      "cell_type": "code",
      "source": [
        "#Importing the needed Libraries for this feature selection process (using Chisquare, treating all features as categorical)\n",
        "from sklearn.model_selection import train_test_split\n",
        "from sklearn.preprocessing import LabelEncoder\n",
        "from sklearn.preprocessing import OrdinalEncoder\n",
        "from sklearn.feature_selection import SelectKBest\n",
        "from sklearn.feature_selection import chi2\n"
      ],
      "metadata": {
        "id": "-EI-4ABv4u6p"
      },
      "execution_count": 41,
      "outputs": []
    },
    {
      "cell_type": "code",
      "source": [
        "df.isnull().any().any()"
      ],
      "metadata": {
        "id": "OZqKWUn7Zy1-",
        "colab": {
          "base_uri": "https://localhost:8080/"
        },
        "outputId": "26f84560-d718-4f18-c848-d113f89c624e"
      },
      "execution_count": 42,
      "outputs": [
        {
          "output_type": "execute_result",
          "data": {
            "text/plain": [
              "False"
            ]
          },
          "metadata": {},
          "execution_count": 42
        }
      ]
    },
    {
      "cell_type": "code",
      "source": [
        "df['Claim Injury Type'].hist(bins=10, figsize=(10,5))"
      ],
      "metadata": {
        "colab": {
          "base_uri": "https://localhost:8080/",
          "height": 337
        },
        "id": "UXhoKbwwbJiF",
        "outputId": "4de3b87f-874b-4271-9da9-84c777f755a3"
      },
      "execution_count": 43,
      "outputs": [
        {
          "output_type": "execute_result",
          "data": {
            "text/plain": [
              "<matplotlib.axes._subplots.AxesSubplot at 0x7fbfbb06d730>"
            ]
          },
          "metadata": {},
          "execution_count": 43
        },
        {
          "output_type": "display_data",
          "data": {
            "text/plain": [
              "<Figure size 720x360 with 1 Axes>"
            ],
            "image/png": "[encoded data removed]"
          },
          "metadata": {
            "needs_background": "light"
          }
        }
      ]
    },
    {
      "cell_type": "code",
      "source": [
        "df['Claim Injury Type'].value_counts()"
      ],
      "metadata": {
        "colab": {
          "base_uri": "https://localhost:8080/"
        },
        "id": "uCSRBXINeJtK",
        "outputId": "5c53f797-1dcd-4756-8a5b-ef9402cac567"
      },
      "execution_count": 44,
      "outputs": [
        {
          "output_type": "execute_result",
          "data": {
            "text/plain": [
              "4. TEMPORARY       946358\n",
              "5. PPD SCH LOSS    488235\n",
              "3. MED ONLY        224869\n",
              "6. PPD NSL          98717\n",
              "2. NON-COMP          6118\n",
              "7. PTD               4938\n",
              "8. DEATH             3755\n",
              "1. CANCELLED         1346\n",
              "Name: Claim Injury Type, dtype: int64"
            ]
          },
          "metadata": {},
          "execution_count": 44
        }
      ]
    },
    {
      "cell_type": "code",
      "source": [
        "df['Carrier Type'].hist(bins=10, figsize=(25,10))"
      ],
      "metadata": {
        "colab": {
          "base_uri": "https://localhost:8080/",
          "height": 573
        },
        "id": "jpnlKy5bb_bS",
        "outputId": "95f4cb13-d730-46b0-f292-279ea4000de5"
      },
      "execution_count": 45,
      "outputs": [
        {
          "output_type": "execute_result",
          "data": {
            "text/plain": [
              "<matplotlib.axes._subplots.AxesSubplot at 0x7fbfbad696d0>"
            ]
          },
          "metadata": {},
          "execution_count": 45
        },
        {
          "output_type": "display_data",
          "data": {
            "text/plain": [
              "<Figure size 1800x720 with 1 Axes>"
            ],
            "image/png": "[encoded data removed]"
          },
          "metadata": {
            "needs_background": "light"
          }
        }
      ]
    },
    {
      "cell_type": "code",
      "source": [
        "df['Carrier Type'].value_counts()"
      ],
      "metadata": {
        "colab": {
          "base_uri": "https://localhost:8080/"
        },
        "id": "8JGlhUIwcsws",
        "outputId": "287ae3a8-e510-460c-d67a-da8f6acfed4c"
      },
      "execution_count": 46,
      "outputs": [
        {
          "output_type": "execute_result",
          "data": {
            "text/plain": [
              "1A. PRIVATE                                     777137\n",
              "2A. SIF                                         467895\n",
              "3A. SELF PUBLIC                                 319209\n",
              "4A. SELF PRIVATE                                181782\n",
              "5A. SPECIAL FUND - CONS. COMM. (SECT. 25-A)      19985\n",
              "5D. SPECIAL FUND - UNKNOWN                        4705\n",
              "UNKNOWN                                           3580\n",
              "5C. SPECIAL FUND - POI CARRIER WCB MENANDS          30\n",
              "5B. SPECIAL FUND - CONS. COMM. (SECT. 15-8))         7\n",
              "2B. ATF                                              6\n",
              "Name: Carrier Type, dtype: int64"
            ]
          },
          "metadata": {},
          "execution_count": 46
        }
      ]
    },
    {
      "cell_type": "code",
      "source": [
        "df['District Name'].hist(figsize=(10,5))"
      ],
      "metadata": {
        "colab": {
          "base_uri": "https://localhost:8080/",
          "height": 337
        },
        "id": "lMWNCuyyfvpI",
        "outputId": "23e51504-cffe-40be-e2d0-442e21294fae"
      },
      "execution_count": 47,
      "outputs": [
        {
          "output_type": "execute_result",
          "data": {
            "text/plain": [
              "<matplotlib.axes._subplots.AxesSubplot at 0x7fbfbb957250>"
            ]
          },
          "metadata": {},
          "execution_count": 47
        },
        {
          "output_type": "display_data",
          "data": {
            "text/plain": [
              "<Figure size 720x360 with 1 Axes>"
            ],
            "image/png": "[encoded data removed]"
          },
          "metadata": {
            "needs_background": "light"
          }
        }
      ]
    },
    {
      "cell_type": "code",
      "source": [
        "df['District Name'].value_counts()"
      ],
      "metadata": {
        "colab": {
          "base_uri": "https://localhost:8080/"
        },
        "id": "vz1THr7Mf6ta",
        "outputId": "dc06eb2b-8d3b-4983-8780-88a8310b9134"
      },
      "execution_count": 48,
      "outputs": [
        {
          "output_type": "execute_result",
          "data": {
            "text/plain": [
              "NYC           744245\n",
              "ALBANY        236628\n",
              "HAUPPAUGE     193735\n",
              "BUFFALO       193087\n",
              "ROCHESTER     159551\n",
              "SYRACUSE      156594\n",
              "BINGHAMTON     79549\n",
              "STATEWIDE      10947\n",
              "Name: District Name, dtype: int64"
            ]
          },
          "metadata": {},
          "execution_count": 48
        }
      ]
    },
    {
      "cell_type": "code",
      "source": [
        "df['Current Claim Status'].value_counts()"
      ],
      "metadata": {
        "colab": {
          "base_uri": "https://localhost:8080/"
        },
        "id": "AsUnz3eDjRPj",
        "outputId": "60a59434-0ec5-45f5-dd49-27dc779cc7f2"
      },
      "execution_count": 49,
      "outputs": [
        {
          "output_type": "execute_result",
          "data": {
            "text/plain": [
              "NO FURTHER ACTION              1711074\n",
              "MOTION SET                       15975\n",
              "ADMINISTRATIVELY CLOSED          14437\n",
              "HEARING UNSET                    11886\n",
              "HEARING SET                      10671\n",
              "RE-OPENED ADMINISTRATIVELY        6163\n",
              "RETURNED TO EXAMINING             2689\n",
              "CASE CANCELLED                    1346\n",
              "REFEREE - RESERVED DECISION         89\n",
              "NEWLY ASSEMBLED                      4\n",
              "BOARD RESTORAL                       1\n",
              "ARGUMENT SET                         1\n",
              "Name: Current Claim Status, dtype: int64"
            ]
          },
          "metadata": {},
          "execution_count": 49
        }
      ]
    },
    {
      "cell_type": "code",
      "source": [
        "df['Current Claim Status'].value_counts().plot.barh(figsize=(30,5))"
      ],
      "metadata": {
        "colab": {
          "base_uri": "https://localhost:8080/",
          "height": 276
        },
        "id": "NgZF1DDviNGG",
        "outputId": "850d35c7-5572-46b2-98de-6be9f74000d3"
      },
      "execution_count": 50,
      "outputs": [
        {
          "output_type": "execute_result",
          "data": {
            "text/plain": [
              "<matplotlib.axes._subplots.AxesSubplot at 0x7fbfa0242460>"
            ]
          },
          "metadata": {},
          "execution_count": 50
        },
        {
          "output_type": "display_data",
          "data": {
            "text/plain": [
              "<Figure size 2160x360 with 1 Axes>"
            ],
            "image/png": "[encoded data removed]"
          },
          "metadata": {
            "needs_background": "light"
          }
        }
      ]
    },
    {
      "cell_type": "code",
      "source": [
        "median =df['Age at Injury'].median()\n",
        "median"
      ],
      "metadata": {
        "colab": {
          "base_uri": "https://localhost:8080/"
        },
        "id": "hq6ufyGNnPgr",
        "outputId": "2236bfbf-0996-4d46-b7d7-3059b62d26c3"
      },
      "execution_count": 51,
      "outputs": [
        {
          "output_type": "execute_result",
          "data": {
            "text/plain": [
              "44.0"
            ]
          },
          "metadata": {},
          "execution_count": 51
        }
      ]
    },
    {
      "cell_type": "code",
      "source": [
        "df['Current Claim Status'].value_counts().plot.barh(figsize=(25,5))"
      ],
      "metadata": {
        "colab": {
          "base_uri": "https://localhost:8080/",
          "height": 318
        },
        "id": "ClDutfw4mHpf",
        "outputId": "1dbf4ef6-8712-46c4-ce10-d09eaebc5ac4"
      },
      "execution_count": 52,
      "outputs": [
        {
          "output_type": "execute_result",
          "data": {
            "text/plain": [
              "<matplotlib.axes._subplots.AxesSubplot at 0x7fbfbb1df820>"
            ]
          },
          "metadata": {},
          "execution_count": 52
        },
        {
          "output_type": "display_data",
          "data": {
            "text/plain": [
              "<Figure size 1800x360 with 1 Axes>"
            ],
            "image/png": "[encoded data removed]"
          },
          "metadata": {
            "needs_background": "light"
          }
        }
      ]
    },
    {
      "cell_type": "code",
      "source": [
        "df['District Name'].value_counts().plot.barh()"
      ],
      "metadata": {
        "colab": {
          "base_uri": "https://localhost:8080/",
          "height": 282
        },
        "id": "JA0-zF-fmaPs",
        "outputId": "7b30faf5-89f7-4a1a-cc82-0972a603edc5"
      },
      "execution_count": 53,
      "outputs": [
        {
          "output_type": "execute_result",
          "data": {
            "text/plain": [
              "<matplotlib.axes._subplots.AxesSubplot at 0x7fbf935217f0>"
            ]
          },
          "metadata": {},
          "execution_count": 53
        },
        {
          "output_type": "display_data",
          "data": {
            "text/plain": [
              "<Figure size 432x288 with 1 Axes>"
            ],
            "image/png": "[encoded data removed]"
          },
          "metadata": {
            "needs_background": "light"
          }
        }
      ]
    },
    {
      "cell_type": "code",
      "source": [
        "df['Closed Count'].value_counts().plot.barh(figsize=(25,10))"
      ],
      "metadata": {
        "colab": {
          "base_uri": "https://localhost:8080/",
          "height": 603
        },
        "id": "Sr5GpNTWHdU0",
        "outputId": "0e5ecdff-6fc3-4e49-de5a-019ecff0ab8d"
      },
      "execution_count": 54,
      "outputs": [
        {
          "output_type": "execute_result",
          "data": {
            "text/plain": [
              "<matplotlib.axes._subplots.AxesSubplot at 0x7fbfbc61c970>"
            ]
          },
          "metadata": {},
          "execution_count": 54
        },
        {
          "output_type": "display_data",
          "data": {
            "text/plain": [
              "<Figure size 1800x720 with 1 Axes>"
            ],
            "image/png": "[encoded data removed]"
          },
          "metadata": {
            "needs_background": "light"
          }
        }
      ]
    },
    {
      "cell_type": "code",
      "source": [
        "df['Claim Injury Type'].value_counts().plot.barh(figsize=(25,5))"
      ],
      "metadata": {
        "colab": {
          "base_uri": "https://localhost:8080/",
          "height": 320
        },
        "id": "zdOEsf6mxw2J",
        "outputId": "ff2a7906-6f62-48d7-a60d-8a94441943c2"
      },
      "execution_count": 55,
      "outputs": [
        {
          "output_type": "execute_result",
          "data": {
            "text/plain": [
              "<matplotlib.axes._subplots.AxesSubplot at 0x7fbfbbc81b50>"
            ]
          },
          "metadata": {},
          "execution_count": 55
        },
        {
          "output_type": "display_data",
          "data": {
            "text/plain": [
              "<Figure size 1800x360 with 1 Axes>"
            ],
            "image/png": "[encoded data removed]"
          },
          "metadata": {
            "needs_background": "light"
          }
        }
      ]
    },
    {
      "cell_type": "code",
      "source": [
        "df['Carrier Type'].value_counts()"
      ],
      "metadata": {
        "colab": {
          "base_uri": "https://localhost:8080/"
        },
        "id": "QkP0X_LgnY-s",
        "outputId": "a1d28c96-c2c9-423e-d393-002eea7476c9"
      },
      "execution_count": 56,
      "outputs": [
        {
          "output_type": "execute_result",
          "data": {
            "text/plain": [
              "1A. PRIVATE                                     777137\n",
              "2A. SIF                                         467895\n",
              "3A. SELF PUBLIC                                 319209\n",
              "4A. SELF PRIVATE                                181782\n",
              "5A. SPECIAL FUND - CONS. COMM. (SECT. 25-A)      19985\n",
              "5D. SPECIAL FUND - UNKNOWN                        4705\n",
              "UNKNOWN                                           3580\n",
              "5C. SPECIAL FUND - POI CARRIER WCB MENANDS          30\n",
              "5B. SPECIAL FUND - CONS. COMM. (SECT. 15-8))         7\n",
              "2B. ATF                                              6\n",
              "Name: Carrier Type, dtype: int64"
            ]
          },
          "metadata": {},
          "execution_count": 56
        }
      ]
    },
    {
      "cell_type": "markdown",
      "source": [
        "##### Viewing the first 20 rows of the cleaned dataset:"
      ],
      "metadata": {
        "id": "3Iw7UGY6nScJ"
      }
    },
    {
      "cell_type": "code",
      "source": [
        "df.iloc[0:20, :]"
      ],
      "metadata": {
        "colab": {
          "base_uri": "https://localhost:8080/",
          "height": 1000
        },
        "id": "NLjwJ1xEDI1k",
        "outputId": "38783c1b-8a8b-498f-c099-43de70fd0c76"
      },
      "execution_count": 57,
      "outputs": [
        {
          "output_type": "execute_result",
          "data": {
            "text/plain": [
              "       Age at Injury Alternative Dispute Resolution Attorney/Representative  \\\n",
              "9909              44                              N                       Y   \n",
              "16493             34                              N                       N   \n",
              "19838             35                              N                       N   \n",
              "20487             25                              N                       Y   \n",
              "20972             48                              N                       N   \n",
              "22145             29                              N                       Y   \n",
              "22320             33                              N                       N   \n",
              "22896             33                              N                       N   \n",
              "22951             25                              N                       N   \n",
              "24199             21                              N                       N   \n",
              "24339             31                              N                       N   \n",
              "25736             59                              N                       N   \n",
              "26101             32                              N                       N   \n",
              "26158             68                              N                       Y   \n",
              "27360             56                              N                       N   \n",
              "28340             31                              N                       Y   \n",
              "29136             64                              N                       Y   \n",
              "29894             58                              N                       Y   \n",
              "30242             50                              N                       Y   \n",
              "30811             42                              N                       Y   \n",
              "\n",
              "       Average Weekly Wage      Carrier Type Claim Injury Type  Closed Count  \\\n",
              "9909                546.69  4A. SELF PRIVATE       3. MED ONLY             1   \n",
              "16493               656.23       1A. PRIVATE      4. TEMPORARY             1   \n",
              "19838              1261.77       1A. PRIVATE      4. TEMPORARY             0   \n",
              "20487              1000.00           2A. SIF      4. TEMPORARY             1   \n",
              "20972              1126.77   3A. SELF PUBLIC       3. MED ONLY             1   \n",
              "22145              1310.52           2A. SIF      4. TEMPORARY             1   \n",
              "22320               762.25       1A. PRIVATE      4. TEMPORARY             1   \n",
              "22896               975.00   3A. SELF PUBLIC       3. MED ONLY             1   \n",
              "22951               880.90       1A. PRIVATE       3. MED ONLY             1   \n",
              "24199               741.29       1A. PRIVATE      4. TEMPORARY             1   \n",
              "24339              1250.00   3A. SELF PUBLIC      4. TEMPORARY             0   \n",
              "25736              2113.28       1A. PRIVATE      4. TEMPORARY             1   \n",
              "26101               837.69       1A. PRIVATE      4. TEMPORARY             1   \n",
              "26158               325.00  4A. SELF PRIVATE      4. TEMPORARY             1   \n",
              "27360              1369.42       1A. PRIVATE      4. TEMPORARY             1   \n",
              "28340               953.00   3A. SELF PUBLIC       3. MED ONLY             2   \n",
              "29136              1800.00       1A. PRIVATE      4. TEMPORARY             2   \n",
              "29894              1511.00   3A. SELF PUBLIC      4. TEMPORARY             1   \n",
              "30242              2212.14   3A. SELF PUBLIC      4. TEMPORARY             0   \n",
              "30811              1459.02   3A. SELF PUBLIC      4. TEMPORARY             1   \n",
              "\n",
              "      Current Claim Status District Name Gender  Hearing Count  \\\n",
              "9909            MOTION SET           NYC      M              0   \n",
              "16493           MOTION SET     ROCHESTER      M              0   \n",
              "19838           MOTION SET        ALBANY      M              0   \n",
              "20487           MOTION SET           NYC      M              0   \n",
              "20972           MOTION SET     HAUPPAUGE      M              0   \n",
              "22145           MOTION SET           NYC      M              0   \n",
              "22320           MOTION SET       BUFFALO      M              0   \n",
              "22896           MOTION SET     HAUPPAUGE      M              0   \n",
              "22951           MOTION SET       BUFFALO      M              0   \n",
              "24199           MOTION SET     HAUPPAUGE      F              0   \n",
              "24339           MOTION SET           NYC      F              0   \n",
              "25736           MOTION SET           NYC      M              0   \n",
              "26101           MOTION SET           NYC      M              0   \n",
              "26158           MOTION SET           NYC      M              0   \n",
              "27360           MOTION SET           NYC      M              0   \n",
              "28340    NO FURTHER ACTION           NYC      F              1   \n",
              "29136    NO FURTHER ACTION     HAUPPAUGE      M              1   \n",
              "29894           MOTION SET           NYC      F              0   \n",
              "30242           MOTION SET           NYC      M              0   \n",
              "30811           MOTION SET     HAUPPAUGE      M              0   \n",
              "\n",
              "                       Highest Process Occupational Disease  \\\n",
              "9909   2. ADMINISTRATIVE DETERMINATION                    N   \n",
              "16493  2. ADMINISTRATIVE DETERMINATION                    N   \n",
              "19838  2. ADMINISTRATIVE DETERMINATION                    N   \n",
              "20487               1.  NO RESOLUTIONS                    N   \n",
              "20972  2. ADMINISTRATIVE DETERMINATION                    N   \n",
              "22145               1.  NO RESOLUTIONS                    N   \n",
              "22320  2. ADMINISTRATIVE DETERMINATION                    N   \n",
              "22896  2. ADMINISTRATIVE DETERMINATION                    N   \n",
              "22951  2. ADMINISTRATIVE DETERMINATION                    N   \n",
              "24199  2. ADMINISTRATIVE DETERMINATION                    N   \n",
              "24339  2. ADMINISTRATIVE DETERMINATION                    N   \n",
              "25736  2. ADMINISTRATIVE DETERMINATION                    N   \n",
              "26101  2. ADMINISTRATIVE DETERMINATION                    N   \n",
              "26158  2. ADMINISTRATIVE DETERMINATION                    N   \n",
              "27360  2. ADMINISTRATIVE DETERMINATION                    N   \n",
              "28340              4A. HEARING - JUDGE                    N   \n",
              "29136              4A. HEARING - JUDGE                    N   \n",
              "29894               1.  NO RESOLUTIONS                    N   \n",
              "30242               1.  NO RESOLUTIONS                    N   \n",
              "30811  2. ADMINISTRATIVE DETERMINATION                    N   \n",
              "\n",
              "       Claim Assembly Time Lag  \n",
              "9909                      68.0  \n",
              "16493                      6.0  \n",
              "19838                     24.0  \n",
              "20487                     23.0  \n",
              "20972                      4.0  \n",
              "22145                      5.0  \n",
              "22320                     11.0  \n",
              "22896                      8.0  \n",
              "22951                      1.0  \n",
              "24199                      7.0  \n",
              "24339                     12.0  \n",
              "25736                      7.0  \n",
              "26101                     53.0  \n",
              "26158                     19.0  \n",
              "27360                      5.0  \n",
              "28340                     21.0  \n",
              "29136                     14.0  \n",
              "29894                     27.0  \n",
              "30242                     12.0  \n",
              "30811                      5.0  "
            ],
            "text/html": [
              "\n",
              "  <div id=\"df-3e52969b-6d3a-41ce-838a-b9fd8cda66fa\">\n",
              "    <div class=\"colab-df-container\">\n",
              "      <div>\n",
              "<style scoped>\n",
              "    .dataframe tbody tr th:only-of-type {\n",
              "        vertical-align: middle;\n",
              "    }\n",
              "\n",
              "    .dataframe tbody tr th {\n",
              "        vertical-align: top;\n",
              "    }\n",
              "\n",
              "    .dataframe thead th {\n",
              "        text-align: right;\n",
              "    }\n",
              "</style>\n",
              "<table border=\"1\" class=\"dataframe\">\n",
              "  <thead>\n",
              "    <tr style=\"text-align: right;\">\n",
              "      <th></th>\n",
              "      <th>Age at Injury</th>\n",
              "      <th>Alternative Dispute Resolution</th>\n",
              "      <th>Attorney/Representative</th>\n",
              "      <th>Average Weekly Wage</th>\n",
              "      <th>Carrier Type</th>\n",
              "      <th>Claim Injury Type</th>\n",
              "      <th>Closed Count</th>\n",
              "      <th>Current Claim Status</th>\n",
              "      <th>District Name</th>\n",
              "      <th>Gender</th>\n",
              "      <th>Hearing Count</th>\n",
              "      <th>Highest Process</th>\n",
              "      <th>Occupational Disease</th>\n",
              "      <th>Claim Assembly Time Lag</th>\n",
              "    </tr>\n",
              "  </thead>\n",
              "  <tbody>\n",
              "    <tr>\n",
              "      <th>9909</th>\n",
              "      <td>44</td>\n",
              "      <td>N</td>\n",
              "      <td>Y</td>\n",
              "      <td>546.69</td>\n",
              "      <td>4A. SELF PRIVATE</td>\n",
              "      <td>3. MED ONLY</td>\n",
              "      <td>1</td>\n",
              "      <td>MOTION SET</td>\n",
              "      <td>NYC</td>\n",
              "      <td>M</td>\n",
              "      <td>0</td>\n",
              "      <td>2. ADMINISTRATIVE DETERMINATION</td>\n",
              "      <td>N</td>\n",
              "      <td>68.0</td>\n",
              "    </tr>\n",
              "    <tr>\n",
              "      <th>16493</th>\n",
              "      <td>34</td>\n",
              "      <td>N</td>\n",
              "      <td>N</td>\n",
              "      <td>656.23</td>\n",
              "      <td>1A. PRIVATE</td>\n",
              "      <td>4. TEMPORARY</td>\n",
              "      <td>1</td>\n",
              "      <td>MOTION SET</td>\n",
              "      <td>ROCHESTER</td>\n",
              "      <td>M</td>\n",
              "      <td>0</td>\n",
              "      <td>2. ADMINISTRATIVE DETERMINATION</td>\n",
              "      <td>N</td>\n",
              "      <td>6.0</td>\n",
              "    </tr>\n",
              "    <tr>\n",
              "      <th>19838</th>\n",
              "      <td>35</td>\n",
              "      <td>N</td>\n",
              "      <td>N</td>\n",
              "      <td>1261.77</td>\n",
              "      <td>1A. PRIVATE</td>\n",
              "      <td>4. TEMPORARY</td>\n",
              "      <td>0</td>\n",
              "      <td>MOTION SET</td>\n",
              "      <td>ALBANY</td>\n",
              "      <td>M</td>\n",
              "      <td>0</td>\n",
              "      <td>2. ADMINISTRATIVE DETERMINATION</td>\n",
              "      <td>N</td>\n",
              "      <td>24.0</td>\n",
              "    </tr>\n",
              "    <tr>\n",
              "      <th>20487</th>\n",
              "      <td>25</td>\n",
              "      <td>N</td>\n",
              "      <td>Y</td>\n",
              "      <td>1000.00</td>\n",
              "      <td>2A. SIF</td>\n",
              "      <td>4. TEMPORARY</td>\n",
              "      <td>1</td>\n",
              "      <td>MOTION SET</td>\n",
              "      <td>NYC</td>\n",
              "      <td>M</td>\n",
              "      <td>0</td>\n",
              "      <td>1.  NO RESOLUTIONS</td>\n",
              "      <td>N</td>\n",
              "      <td>23.0</td>\n",
              "    </tr>\n",
              "    <tr>\n",
              "      <th>20972</th>\n",
              "      <td>48</td>\n",
              "      <td>N</td>\n",
              "      <td>N</td>\n",
              "      <td>1126.77</td>\n",
              "      <td>3A. SELF PUBLIC</td>\n",
              "      <td>3. MED ONLY</td>\n",
              "      <td>1</td>\n",
              "      <td>MOTION SET</td>\n",
              "      <td>HAUPPAUGE</td>\n",
              "      <td>M</td>\n",
              "      <td>0</td>\n",
              "      <td>2. ADMINISTRATIVE DETERMINATION</td>\n",
              "      <td>N</td>\n",
              "      <td>4.0</td>\n",
              "    </tr>\n",
              "    <tr>\n",
              "      <th>22145</th>\n",
              "      <td>29</td>\n",
              "      <td>N</td>\n",
              "      <td>Y</td>\n",
              "      <td>1310.52</td>\n",
              "      <td>2A. SIF</td>\n",
              "      <td>4. TEMPORARY</td>\n",
              "      <td>1</td>\n",
              "      <td>MOTION SET</td>\n",
              "      <td>NYC</td>\n",
              "      <td>M</td>\n",
              "      <td>0</td>\n",
              "      <td>1.  NO RESOLUTIONS</td>\n",
              "      <td>N</td>\n",
              "      <td>5.0</td>\n",
              "    </tr>\n",
              "    <tr>\n",
              "      <th>22320</th>\n",
              "      <td>33</td>\n",
              "      <td>N</td>\n",
              "      <td>N</td>\n",
              "      <td>762.25</td>\n",
              "      <td>1A. PRIVATE</td>\n",
              "      <td>4. TEMPORARY</td>\n",
              "      <td>1</td>\n",
              "      <td>MOTION SET</td>\n",
              "      <td>BUFFALO</td>\n",
              "      <td>M</td>\n",
              "      <td>0</td>\n",
              "      <td>2. ADMINISTRATIVE DETERMINATION</td>\n",
              "      <td>N</td>\n",
              "      <td>11.0</td>\n",
              "    </tr>\n",
              "    <tr>\n",
              "      <th>22896</th>\n",
              "      <td>33</td>\n",
              "      <td>N</td>\n",
              "      <td>N</td>\n",
              "      <td>975.00</td>\n",
              "      <td>3A. SELF PUBLIC</td>\n",
              "      <td>3. MED ONLY</td>\n",
              "      <td>1</td>\n",
              "      <td>MOTION SET</td>\n",
              "      <td>HAUPPAUGE</td>\n",
              "      <td>M</td>\n",
              "      <td>0</td>\n",
              "      <td>2. ADMINISTRATIVE DETERMINATION</td>\n",
              "      <td>N</td>\n",
              "      <td>8.0</td>\n",
              "    </tr>\n",
              "    <tr>\n",
              "      <th>22951</th>\n",
              "      <td>25</td>\n",
              "      <td>N</td>\n",
              "      <td>N</td>\n",
              "      <td>880.90</td>\n",
              "      <td>1A. PRIVATE</td>\n",
              "      <td>3. MED ONLY</td>\n",
              "      <td>1</td>\n",
              "      <td>MOTION SET</td>\n",
              "      <td>BUFFALO</td>\n",
              "      <td>M</td>\n",
              "      <td>0</td>\n",
              "      <td>2. ADMINISTRATIVE DETERMINATION</td>\n",
              "      <td>N</td>\n",
              "      <td>1.0</td>\n",
              "    </tr>\n",
              "    <tr>\n",
              "      <th>24199</th>\n",
              "      <td>21</td>\n",
              "      <td>N</td>\n",
              "      <td>N</td>\n",
              "      <td>741.29</td>\n",
              "      <td>1A. PRIVATE</td>\n",
              "      <td>4. TEMPORARY</td>\n",
              "      <td>1</td>\n",
              "      <td>MOTION SET</td>\n",
              "      <td>HAUPPAUGE</td>\n",
              "      <td>F</td>\n",
              "      <td>0</td>\n",
              "      <td>2. ADMINISTRATIVE DETERMINATION</td>\n",
              "      <td>N</td>\n",
              "      <td>7.0</td>\n",
              "    </tr>\n",
              "    <tr>\n",
              "      <th>24339</th>\n",
              "      <td>31</td>\n",
              "      <td>N</td>\n",
              "      <td>N</td>\n",
              "      <td>1250.00</td>\n",
              "      <td>3A. SELF PUBLIC</td>\n",
              "      <td>4. TEMPORARY</td>\n",
              "      <td>0</td>\n",
              "      <td>MOTION SET</td>\n",
              "      <td>NYC</td>\n",
              "      <td>F</td>\n",
              "      <td>0</td>\n",
              "      <td>2. ADMINISTRATIVE DETERMINATION</td>\n",
              "      <td>N</td>\n",
              "      <td>12.0</td>\n",
              "    </tr>\n",
              "    <tr>\n",
              "      <th>25736</th>\n",
              "      <td>59</td>\n",
              "      <td>N</td>\n",
              "      <td>N</td>\n",
              "      <td>2113.28</td>\n",
              "      <td>1A. PRIVATE</td>\n",
              "      <td>4. TEMPORARY</td>\n",
              "      <td>1</td>\n",
              "      <td>MOTION SET</td>\n",
              "      <td>NYC</td>\n",
              "      <td>M</td>\n",
              "      <td>0</td>\n",
              "      <td>2. ADMINISTRATIVE DETERMINATION</td>\n",
              "      <td>N</td>\n",
              "      <td>7.0</td>\n",
              "    </tr>\n",
              "    <tr>\n",
              "      <th>26101</th>\n",
              "      <td>32</td>\n",
              "      <td>N</td>\n",
              "      <td>N</td>\n",
              "      <td>837.69</td>\n",
              "      <td>1A. PRIVATE</td>\n",
              "      <td>4. TEMPORARY</td>\n",
              "      <td>1</td>\n",
              "      <td>MOTION SET</td>\n",
              "      <td>NYC</td>\n",
              "      <td>M</td>\n",
              "      <td>0</td>\n",
              "      <td>2. ADMINISTRATIVE DETERMINATION</td>\n",
              "      <td>N</td>\n",
              "      <td>53.0</td>\n",
              "    </tr>\n",
              "    <tr>\n",
              "      <th>26158</th>\n",
              "      <td>68</td>\n",
              "      <td>N</td>\n",
              "      <td>Y</td>\n",
              "      <td>325.00</td>\n",
              "      <td>4A. SELF PRIVATE</td>\n",
              "      <td>4. TEMPORARY</td>\n",
              "      <td>1</td>\n",
              "      <td>MOTION SET</td>\n",
              "      <td>NYC</td>\n",
              "      <td>M</td>\n",
              "      <td>0</td>\n",
              "      <td>2. ADMINISTRATIVE DETERMINATION</td>\n",
              "      <td>N</td>\n",
              "      <td>19.0</td>\n",
              "    </tr>\n",
              "    <tr>\n",
              "      <th>27360</th>\n",
              "      <td>56</td>\n",
              "      <td>N</td>\n",
              "      <td>N</td>\n",
              "      <td>1369.42</td>\n",
              "      <td>1A. PRIVATE</td>\n",
              "      <td>4. TEMPORARY</td>\n",
              "      <td>1</td>\n",
              "      <td>MOTION SET</td>\n",
              "      <td>NYC</td>\n",
              "      <td>M</td>\n",
              "      <td>0</td>\n",
              "      <td>2. ADMINISTRATIVE DETERMINATION</td>\n",
              "      <td>N</td>\n",
              "      <td>5.0</td>\n",
              "    </tr>\n",
              "    <tr>\n",
              "      <th>28340</th>\n",
              "      <td>31</td>\n",
              "      <td>N</td>\n",
              "      <td>Y</td>\n",
              "      <td>953.00</td>\n",
              "      <td>3A. SELF PUBLIC</td>\n",
              "      <td>3. MED ONLY</td>\n",
              "      <td>2</td>\n",
              "      <td>NO FURTHER ACTION</td>\n",
              "      <td>NYC</td>\n",
              "      <td>F</td>\n",
              "      <td>1</td>\n",
              "      <td>4A. HEARING - JUDGE</td>\n",
              "      <td>N</td>\n",
              "      <td>21.0</td>\n",
              "    </tr>\n",
              "    <tr>\n",
              "      <th>29136</th>\n",
              "      <td>64</td>\n",
              "      <td>N</td>\n",
              "      <td>Y</td>\n",
              "      <td>1800.00</td>\n",
              "      <td>1A. PRIVATE</td>\n",
              "      <td>4. TEMPORARY</td>\n",
              "      <td>2</td>\n",
              "      <td>NO FURTHER ACTION</td>\n",
              "      <td>HAUPPAUGE</td>\n",
              "      <td>M</td>\n",
              "      <td>1</td>\n",
              "      <td>4A. HEARING - JUDGE</td>\n",
              "      <td>N</td>\n",
              "      <td>14.0</td>\n",
              "    </tr>\n",
              "    <tr>\n",
              "      <th>29894</th>\n",
              "      <td>58</td>\n",
              "      <td>N</td>\n",
              "      <td>Y</td>\n",
              "      <td>1511.00</td>\n",
              "      <td>3A. SELF PUBLIC</td>\n",
              "      <td>4. TEMPORARY</td>\n",
              "      <td>1</td>\n",
              "      <td>MOTION SET</td>\n",
              "      <td>NYC</td>\n",
              "      <td>F</td>\n",
              "      <td>0</td>\n",
              "      <td>1.  NO RESOLUTIONS</td>\n",
              "      <td>N</td>\n",
              "      <td>27.0</td>\n",
              "    </tr>\n",
              "    <tr>\n",
              "      <th>30242</th>\n",
              "      <td>50</td>\n",
              "      <td>N</td>\n",
              "      <td>Y</td>\n",
              "      <td>2212.14</td>\n",
              "      <td>3A. SELF PUBLIC</td>\n",
              "      <td>4. TEMPORARY</td>\n",
              "      <td>0</td>\n",
              "      <td>MOTION SET</td>\n",
              "      <td>NYC</td>\n",
              "      <td>M</td>\n",
              "      <td>0</td>\n",
              "      <td>1.  NO RESOLUTIONS</td>\n",
              "      <td>N</td>\n",
              "      <td>12.0</td>\n",
              "    </tr>\n",
              "    <tr>\n",
              "      <th>30811</th>\n",
              "      <td>42</td>\n",
              "      <td>N</td>\n",
              "      <td>Y</td>\n",
              "      <td>1459.02</td>\n",
              "      <td>3A. SELF PUBLIC</td>\n",
              "      <td>4. TEMPORARY</td>\n",
              "      <td>1</td>\n",
              "      <td>MOTION SET</td>\n",
              "      <td>HAUPPAUGE</td>\n",
              "      <td>M</td>\n",
              "      <td>0</td>\n",
              "      <td>2. ADMINISTRATIVE DETERMINATION</td>\n",
              "      <td>N</td>\n",
              "      <td>5.0</td>\n",
              "    </tr>\n",
              "  </tbody>\n",
              "</table>\n",
              "</div>\n",
              "      <button class=\"colab-df-convert\" onclick=\"convertToInteractive('df-3e52969b-6d3a-41ce-838a-b9fd8cda66fa')\"\n",
              "              title=\"Convert this dataframe to an interactive table.\"\n",
              "              style=\"display:none;\">\n",
              "        \n",
              "  <svg xmlns=\"http://www.w3.org/2000/svg\" height=\"24px\"viewBox=\"0 0 24 24\"\n",
              "       width=\"24px\">\n",
              "    <path d=\"M0 0h24v24H0V0z\" fill=\"none\"/>\n",
              "    <path d=\"M18.56 5.44l.94 2.06.94-2.06 2.06-.94-2.06-.94-.94-2.06-.94 2.06-2.06.94zm-11 1L8.5 8.5l.94-2.06 2.06-.94-2.06-.94L8.5 2.5l-.94 2.06-2.06.94zm10 10l.94 2.06.94-2.06 2.06-.94-2.06-.94-.94-2.06-.94 2.06-2.06.94z\"/><path d=\"M17.41 7.96l-1.37-1.37c-.4-.4-.92-.59-1.43-.59-.52 0-1.04.2-1.43.59L10.3 9.45l-7.72 7.72c-.78.78-.78 2.05 0 2.83L4 21.41c.39.39.9.59 1.41.59.51 0 1.02-.2 1.41-.59l7.78-7.78 2.81-2.81c.8-.78.8-2.07 0-2.86zM5.41 20L4 18.59l7.72-7.72 1.47 1.35L5.41 20z\"/>\n",
              "  </svg>\n",
              "      </button>\n",
              "      \n",
              "  <style>\n",
              "    .colab-df-container {\n",
              "      display:flex;\n",
              "      flex-wrap:wrap;\n",
              "      gap: 12px;\n",
              "    }\n",
              "\n",
              "    .colab-df-convert {\n",
              "      background-color: #E8F0FE;\n",
              "      border: none;\n",
              "      border-radius: 50%;\n",
              "      cursor: pointer;\n",
              "      display: none;\n",
              "      fill: #1967D2;\n",
              "      height: 32px;\n",
              "      padding: 0 0 0 0;\n",
              "      width: 32px;\n",
              "    }\n",
              "\n",
              "    .colab-df-convert:hover {\n",
              "      background-color: #E2EBFA;\n",
              "      box-shadow: 0px 1px 2px rgba(60, 64, 67, 0.3), 0px 1px 3px 1px rgba(60, 64, 67, 0.15);\n",
              "      fill: #174EA6;\n",
              "    }\n",
              "\n",
              "    [theme=dark] .colab-df-convert {\n",
              "      background-color: #3B4455;\n",
              "      fill: #D2E3FC;\n",
              "    }\n",
              "\n",
              "    [theme=dark] .colab-df-convert:hover {\n",
              "      background-color: #434B5C;\n",
              "      box-shadow: 0px 1px 3px 1px rgba(0, 0, 0, 0.15);\n",
              "      filter: drop-shadow(0px 1px 2px rgba(0, 0, 0, 0.3));\n",
              "      fill: #FFFFFF;\n",
              "    }\n",
              "  </style>\n",
              "\n",
              "      <script>\n",
              "        const buttonEl =\n",
              "          document.querySelector('#df-3e52969b-6d3a-41ce-838a-b9fd8cda66fa button.colab-df-convert');\n",
              "        buttonEl.style.display =\n",
              "          google.colab.kernel.accessAllowed ? 'block' : 'none';\n",
              "\n",
              "        async function convertToInteractive(key) {\n",
              "          const element = document.querySelector('#df-3e52969b-6d3a-41ce-838a-b9fd8cda66fa');\n",
              "          const dataTable =\n",
              "            await google.colab.kernel.invokeFunction('convertToInteractive',\n",
              "                                                     [key], {});\n",
              "          if (!dataTable) return;\n",
              "\n",
              "          const docLinkHtml = 'Like what you see? Visit the ' +\n",
              "            '<a target=\"_blank\" href=https://colab.research.google.com/notebooks/data_table.ipynb>data table notebook</a>'\n",
              "            + ' to learn more about interactive tables.';\n",
              "          element.innerHTML = '';\n",
              "          dataTable['output_type'] = 'display_data';\n",
              "          await google.colab.output.renderOutput(dataTable, element);\n",
              "          const docLink = document.createElement('div');\n",
              "          docLink.innerHTML = docLinkHtml;\n",
              "          element.appendChild(docLink);\n",
              "        }\n",
              "      </script>\n",
              "    </div>\n",
              "  </div>\n",
              "  "
            ]
          },
          "metadata": {},
          "execution_count": 57
        }
      ]
    },
    {
      "cell_type": "code",
      "source": [
        "df['Average Weekly Wage'].describe()"
      ],
      "metadata": {
        "colab": {
          "base_uri": "https://localhost:8080/"
        },
        "id": "l9tiWfXDFYxm",
        "outputId": "79478dc0-a8ae-40c8-f52a-2671c6bf7d6f"
      },
      "execution_count": 58,
      "outputs": [
        {
          "output_type": "execute_result",
          "data": {
            "text/plain": [
              "count    1.774336e+06\n",
              "mean     9.168877e+02\n",
              "std      6.578750e+03\n",
              "min      6.440000e+00\n",
              "25%      4.944175e+02\n",
              "50%      7.378200e+02\n",
              "75%      1.131643e+03\n",
              "max      3.637058e+06\n",
              "Name: Average Weekly Wage, dtype: float64"
            ]
          },
          "metadata": {},
          "execution_count": 58
        }
      ]
    },
    {
      "cell_type": "code",
      "source": [
        "df['Claim Injury Type'].unique()"
      ],
      "metadata": {
        "colab": {
          "base_uri": "https://localhost:8080/"
        },
        "id": "28wUJ1A_O0uw",
        "outputId": "1376800d-04b7-4da6-b08c-ce0de4564d70"
      },
      "execution_count": 59,
      "outputs": [
        {
          "output_type": "execute_result",
          "data": {
            "text/plain": [
              "array(['3. MED ONLY', '4. TEMPORARY', '2. NON-COMP', '5. PPD SCH LOSS',\n",
              "       '8. DEATH', '1. CANCELLED', '6. PPD NSL', '7. PTD'], dtype=object)"
            ]
          },
          "metadata": {},
          "execution_count": 59
        }
      ]
    },
    {
      "cell_type": "code",
      "source": [
        "df['Claim Injury Type'].nunique()"
      ],
      "metadata": {
        "colab": {
          "base_uri": "https://localhost:8080/"
        },
        "id": "CkU5dLvUPQTN",
        "outputId": "891cbf44-7294-4e5a-a419-c1d29dc6f58d"
      },
      "execution_count": 60,
      "outputs": [
        {
          "output_type": "execute_result",
          "data": {
            "text/plain": [
              "8"
            ]
          },
          "metadata": {},
          "execution_count": 60
        }
      ]
    },
    {
      "cell_type": "code",
      "source": [
        "df['Current Claim Status'].unique()"
      ],
      "metadata": {
        "colab": {
          "base_uri": "https://localhost:8080/"
        },
        "id": "isZjiIl7UPxX",
        "outputId": "8c82513a-3a03-49f5-8217-b26c841d402a"
      },
      "execution_count": 61,
      "outputs": [
        {
          "output_type": "execute_result",
          "data": {
            "text/plain": [
              "array(['MOTION SET', 'NO FURTHER ACTION', 'RETURNED TO EXAMINING',\n",
              "       'HEARING SET', 'HEARING UNSET', 'RE-OPENED ADMINISTRATIVELY',\n",
              "       'ADMINISTRATIVELY CLOSED', 'NEWLY ASSEMBLED',\n",
              "       'REFEREE - RESERVED DECISION', 'CASE CANCELLED', 'BOARD RESTORAL',\n",
              "       'ARGUMENT SET'], dtype=object)"
            ]
          },
          "metadata": {},
          "execution_count": 61
        }
      ]
    },
    {
      "cell_type": "code",
      "source": [
        "df['Highest Process'].unique()"
      ],
      "metadata": {
        "colab": {
          "base_uri": "https://localhost:8080/"
        },
        "id": "uKpzSZKLYYu6",
        "outputId": "6d6ba244-0fb1-47fd-b8d7-f9adefe6a7af"
      },
      "execution_count": 62,
      "outputs": [
        {
          "output_type": "execute_result",
          "data": {
            "text/plain": [
              "array(['2. ADMINISTRATIVE DETERMINATION', '1.  NO RESOLUTIONS',\n",
              "       '4A. HEARING - JUDGE', '3B. CONCILIATION - MEETING',\n",
              "       '4C. HEARING - SETTLEMENT', '4B. HEARING - APPEAL'], dtype=object)"
            ]
          },
          "metadata": {},
          "execution_count": 62
        }
      ]
    },
    {
      "cell_type": "code",
      "source": [
        "cor_mat = df.corr()"
      ],
      "metadata": {
        "id": "pO1MoRqIZ0U6"
      },
      "execution_count": 63,
      "outputs": []
    },
    {
      "cell_type": "code",
      "source": [
        "cor_mat['Age at Injury'].sort_values(ascending=False)"
      ],
      "metadata": {
        "colab": {
          "base_uri": "https://localhost:8080/"
        },
        "id": "7E7GObdSZrTM",
        "outputId": "edbaa590-2cc2-4d63-81a6-27643c3ee72f"
      },
      "execution_count": 64,
      "outputs": [
        {
          "output_type": "execute_result",
          "data": {
            "text/plain": [
              "Age at Injury              1.000000\n",
              "Closed Count               0.091919\n",
              "Hearing Count              0.073428\n",
              "Average Weekly Wage        0.015436\n",
              "Claim Assembly Time Lag    0.008992\n",
              "Name: Age at Injury, dtype: float64"
            ]
          },
          "metadata": {},
          "execution_count": 64
        }
      ]
    },
    {
      "cell_type": "markdown",
      "source": [
        "No significant correlation observed with Age of Injury amongst the other numerical features"
      ],
      "metadata": {
        "id": "JrHAUCMNoGco"
      }
    },
    {
      "cell_type": "code",
      "source": [
        "cor_mat"
      ],
      "metadata": {
        "colab": {
          "base_uri": "https://localhost:8080/",
          "height": 206
        },
        "id": "68TmgIR4G6ek",
        "outputId": "fcce9d41-f32b-44f2-9c8e-8a26a6e4a798"
      },
      "execution_count": 65,
      "outputs": [
        {
          "output_type": "execute_result",
          "data": {
            "text/plain": [
              "                         Age at Injury  Average Weekly Wage  Closed Count  \\\n",
              "Age at Injury                 1.000000             0.015436      0.091919   \n",
              "Average Weekly Wage           0.015436             1.000000     -0.001648   \n",
              "Closed Count                  0.091919            -0.001648      1.000000   \n",
              "Hearing Count                 0.073428            -0.007269      0.808770   \n",
              "Claim Assembly Time Lag       0.008992            -0.002076      0.026756   \n",
              "\n",
              "                         Hearing Count  Claim Assembly Time Lag  \n",
              "Age at Injury                 0.073428                 0.008992  \n",
              "Average Weekly Wage          -0.007269                -0.002076  \n",
              "Closed Count                  0.808770                 0.026756  \n",
              "Hearing Count                 1.000000                 0.043917  \n",
              "Claim Assembly Time Lag       0.043917                 1.000000  "
            ],
            "text/html": [
              "\n",
              "  <div id=\"df-a5095e4a-1679-4e97-bcaf-843c2873e096\">\n",
              "    <div class=\"colab-df-container\">\n",
              "      <div>\n",
              "<style scoped>\n",
              "    .dataframe tbody tr th:only-of-type {\n",
              "        vertical-align: middle;\n",
              "    }\n",
              "\n",
              "    .dataframe tbody tr th {\n",
              "        vertical-align: top;\n",
              "    }\n",
              "\n",
              "    .dataframe thead th {\n",
              "        text-align: right;\n",
              "    }\n",
              "</style>\n",
              "<table border=\"1\" class=\"dataframe\">\n",
              "  <thead>\n",
              "    <tr style=\"text-align: right;\">\n",
              "      <th></th>\n",
              "      <th>Age at Injury</th>\n",
              "      <th>Average Weekly Wage</th>\n",
              "      <th>Closed Count</th>\n",
              "      <th>Hearing Count</th>\n",
              "      <th>Claim Assembly Time Lag</th>\n",
              "    </tr>\n",
              "  </thead>\n",
              "  <tbody>\n",
              "    <tr>\n",
              "      <th>Age at Injury</th>\n",
              "      <td>1.000000</td>\n",
              "      <td>0.015436</td>\n",
              "      <td>0.091919</td>\n",
              "      <td>0.073428</td>\n",
              "      <td>0.008992</td>\n",
              "    </tr>\n",
              "    <tr>\n",
              "      <th>Average Weekly Wage</th>\n",
              "      <td>0.015436</td>\n",
              "      <td>1.000000</td>\n",
              "      <td>-0.001648</td>\n",
              "      <td>-0.007269</td>\n",
              "      <td>-0.002076</td>\n",
              "    </tr>\n",
              "    <tr>\n",
              "      <th>Closed Count</th>\n",
              "      <td>0.091919</td>\n",
              "      <td>-0.001648</td>\n",
              "      <td>1.000000</td>\n",
              "      <td>0.808770</td>\n",
              "      <td>0.026756</td>\n",
              "    </tr>\n",
              "    <tr>\n",
              "      <th>Hearing Count</th>\n",
              "      <td>0.073428</td>\n",
              "      <td>-0.007269</td>\n",
              "      <td>0.808770</td>\n",
              "      <td>1.000000</td>\n",
              "      <td>0.043917</td>\n",
              "    </tr>\n",
              "    <tr>\n",
              "      <th>Claim Assembly Time Lag</th>\n",
              "      <td>0.008992</td>\n",
              "      <td>-0.002076</td>\n",
              "      <td>0.026756</td>\n",
              "      <td>0.043917</td>\n",
              "      <td>1.000000</td>\n",
              "    </tr>\n",
              "  </tbody>\n",
              "</table>\n",
              "</div>\n",
              "      <button class=\"colab-df-convert\" onclick=\"convertToInteractive('df-a5095e4a-1679-4e97-bcaf-843c2873e096')\"\n",
              "              title=\"Convert this dataframe to an interactive table.\"\n",
              "              style=\"display:none;\">\n",
              "        \n",
              "  <svg xmlns=\"http://www.w3.org/2000/svg\" height=\"24px\"viewBox=\"0 0 24 24\"\n",
              "       width=\"24px\">\n",
              "    <path d=\"M0 0h24v24H0V0z\" fill=\"none\"/>\n",
              "    <path d=\"M18.56 5.44l.94 2.06.94-2.06 2.06-.94-2.06-.94-.94-2.06-.94 2.06-2.06.94zm-11 1L8.5 8.5l.94-2.06 2.06-.94-2.06-.94L8.5 2.5l-.94 2.06-2.06.94zm10 10l.94 2.06.94-2.06 2.06-.94-2.06-.94-.94-2.06-.94 2.06-2.06.94z\"/><path d=\"M17.41 7.96l-1.37-1.37c-.4-.4-.92-.59-1.43-.59-.52 0-1.04.2-1.43.59L10.3 9.45l-7.72 7.72c-.78.78-.78 2.05 0 2.83L4 21.41c.39.39.9.59 1.41.59.51 0 1.02-.2 1.41-.59l7.78-7.78 2.81-2.81c.8-.78.8-2.07 0-2.86zM5.41 20L4 18.59l7.72-7.72 1.47 1.35L5.41 20z\"/>\n",
              "  </svg>\n",
              "      </button>\n",
              "      \n",
              "  <style>\n",
              "    .colab-df-container {\n",
              "      display:flex;\n",
              "      flex-wrap:wrap;\n",
              "      gap: 12px;\n",
              "    }\n",
              "\n",
              "    .colab-df-convert {\n",
              "      background-color: #E8F0FE;\n",
              "      border: none;\n",
              "      border-radius: 50%;\n",
              "      cursor: pointer;\n",
              "      display: none;\n",
              "      fill: #1967D2;\n",
              "      height: 32px;\n",
              "      padding: 0 0 0 0;\n",
              "      width: 32px;\n",
              "    }\n",
              "\n",
              "    .colab-df-convert:hover {\n",
              "      background-color: #E2EBFA;\n",
              "      box-shadow: 0px 1px 2px rgba(60, 64, 67, 0.3), 0px 1px 3px 1px rgba(60, 64, 67, 0.15);\n",
              "      fill: #174EA6;\n",
              "    }\n",
              "\n",
              "    [theme=dark] .colab-df-convert {\n",
              "      background-color: #3B4455;\n",
              "      fill: #D2E3FC;\n",
              "    }\n",
              "\n",
              "    [theme=dark] .colab-df-convert:hover {\n",
              "      background-color: #434B5C;\n",
              "      box-shadow: 0px 1px 3px 1px rgba(0, 0, 0, 0.15);\n",
              "      filter: drop-shadow(0px 1px 2px rgba(0, 0, 0, 0.3));\n",
              "      fill: #FFFFFF;\n",
              "    }\n",
              "  </style>\n",
              "\n",
              "      <script>\n",
              "        const buttonEl =\n",
              "          document.querySelector('#df-a5095e4a-1679-4e97-bcaf-843c2873e096 button.colab-df-convert');\n",
              "        buttonEl.style.display =\n",
              "          google.colab.kernel.accessAllowed ? 'block' : 'none';\n",
              "\n",
              "        async function convertToInteractive(key) {\n",
              "          const element = document.querySelector('#df-a5095e4a-1679-4e97-bcaf-843c2873e096');\n",
              "          const dataTable =\n",
              "            await google.colab.kernel.invokeFunction('convertToInteractive',\n",
              "                                                     [key], {});\n",
              "          if (!dataTable) return;\n",
              "\n",
              "          const docLinkHtml = 'Like what you see? Visit the ' +\n",
              "            '<a target=\"_blank\" href=https://colab.research.google.com/notebooks/data_table.ipynb>data table notebook</a>'\n",
              "            + ' to learn more about interactive tables.';\n",
              "          element.innerHTML = '';\n",
              "          dataTable['output_type'] = 'display_data';\n",
              "          await google.colab.output.renderOutput(dataTable, element);\n",
              "          const docLink = document.createElement('div');\n",
              "          docLink.innerHTML = docLinkHtml;\n",
              "          element.appendChild(docLink);\n",
              "        }\n",
              "      </script>\n",
              "    </div>\n",
              "  </div>\n",
              "  "
            ]
          },
          "metadata": {},
          "execution_count": 65
        }
      ]
    },
    {
      "cell_type": "code",
      "source": [
        "df['Claim Assembly Time Lag'].hist(bins=5, figsize=(10,5))"
      ],
      "metadata": {
        "colab": {
          "base_uri": "https://localhost:8080/",
          "height": 348
        },
        "id": "Ltu1gF3HcmA5",
        "outputId": "72dd3508-3212-4296-fd2f-e083f43b6bdb"
      },
      "execution_count": 66,
      "outputs": [
        {
          "output_type": "execute_result",
          "data": {
            "text/plain": [
              "<matplotlib.axes._subplots.AxesSubplot at 0x7fbfbb803310>"
            ]
          },
          "metadata": {},
          "execution_count": 66
        },
        {
          "output_type": "display_data",
          "data": {
            "text/plain": [
              "<Figure size 720x360 with 1 Axes>"
            ],
            "image/png": "[encoded data removed]"
          },
          "metadata": {
            "needs_background": "light"
          }
        }
      ]
    },
    {
      "cell_type": "markdown",
      "source": [
        "Now, choosing Highest Process as our target variable:"
      ],
      "metadata": {
        "id": "z09yQOEwqqUm"
      }
    },
    {
      "cell_type": "code",
      "source": [
        "y = df['Highest Process']\n",
        "X = df.drop(columns=['Highest Process'], axis=1)\n",
        "y = pd.DataFrame(y)"
      ],
      "metadata": {
        "id": "9d8TdrAd_I_w"
      },
      "execution_count": 67,
      "outputs": []
    },
    {
      "cell_type": "code",
      "source": [
        "y.value_counts()"
      ],
      "metadata": {
        "colab": {
          "base_uri": "https://localhost:8080/"
        },
        "id": "Md6ilCUkAiC-",
        "outputId": "aa1ac501-3842-44f9-b127-a31ad3b08bfa"
      },
      "execution_count": 68,
      "outputs": [
        {
          "output_type": "execute_result",
          "data": {
            "text/plain": [
              "Highest Process                \n",
              "4A. HEARING - JUDGE                776947\n",
              "2. ADMINISTRATIVE DETERMINATION    429030\n",
              "4C. HEARING - SETTLEMENT           196709\n",
              "3B. CONCILIATION - MEETING         176097\n",
              "1.  NO RESOLUTIONS                  99864\n",
              "4B. HEARING - APPEAL                95689\n",
              "dtype: int64"
            ]
          },
          "metadata": {},
          "execution_count": 68
        }
      ]
    },
    {
      "cell_type": "markdown",
      "source": [
        "Viewing the first 5 rows of the predictor features to be used in modeling:"
      ],
      "metadata": {
        "id": "VY8lF9pLqztb"
      }
    },
    {
      "cell_type": "code",
      "source": [
        "X.head()"
      ],
      "metadata": {
        "colab": {
          "base_uri": "https://localhost:8080/",
          "height": 372
        },
        "id": "xxiszRwtAlrJ",
        "outputId": "dbffa59c-1e2d-4205-f9ff-3930a0f695aa"
      },
      "execution_count": 69,
      "outputs": [
        {
          "output_type": "execute_result",
          "data": {
            "text/plain": [
              "       Age at Injury Alternative Dispute Resolution Attorney/Representative  \\\n",
              "9909              44                              N                       Y   \n",
              "16493             34                              N                       N   \n",
              "19838             35                              N                       N   \n",
              "20487             25                              N                       Y   \n",
              "20972             48                              N                       N   \n",
              "\n",
              "       Average Weekly Wage      Carrier Type Claim Injury Type  Closed Count  \\\n",
              "9909                546.69  4A. SELF PRIVATE       3. MED ONLY             1   \n",
              "16493               656.23       1A. PRIVATE      4. TEMPORARY             1   \n",
              "19838              1261.77       1A. PRIVATE      4. TEMPORARY             0   \n",
              "20487              1000.00           2A. SIF      4. TEMPORARY             1   \n",
              "20972              1126.77   3A. SELF PUBLIC       3. MED ONLY             1   \n",
              "\n",
              "      Current Claim Status District Name Gender  Hearing Count  \\\n",
              "9909            MOTION SET           NYC      M              0   \n",
              "16493           MOTION SET     ROCHESTER      M              0   \n",
              "19838           MOTION SET        ALBANY      M              0   \n",
              "20487           MOTION SET           NYC      M              0   \n",
              "20972           MOTION SET     HAUPPAUGE      M              0   \n",
              "\n",
              "      Occupational Disease  Claim Assembly Time Lag  \n",
              "9909                     N                     68.0  \n",
              "16493                    N                      6.0  \n",
              "19838                    N                     24.0  \n",
              "20487                    N                     23.0  \n",
              "20972                    N                      4.0  "
            ],
            "text/html": [
              "\n",
              "  <div id=\"df-e01b26fa-8dda-4d6f-b35d-c9f95d6771a9\">\n",
              "    <div class=\"colab-df-container\">\n",
              "      <div>\n",
              "<style scoped>\n",
              "    .dataframe tbody tr th:only-of-type {\n",
              "        vertical-align: middle;\n",
              "    }\n",
              "\n",
              "    .dataframe tbody tr th {\n",
              "        vertical-align: top;\n",
              "    }\n",
              "\n",
              "    .dataframe thead th {\n",
              "        text-align: right;\n",
              "    }\n",
              "</style>\n",
              "<table border=\"1\" class=\"dataframe\">\n",
              "  <thead>\n",
              "    <tr style=\"text-align: right;\">\n",
              "      <th></th>\n",
              "      <th>Age at Injury</th>\n",
              "      <th>Alternative Dispute Resolution</th>\n",
              "      <th>Attorney/Representative</th>\n",
              "      <th>Average Weekly Wage</th>\n",
              "      <th>Carrier Type</th>\n",
              "      <th>Claim Injury Type</th>\n",
              "      <th>Closed Count</th>\n",
              "      <th>Current Claim Status</th>\n",
              "      <th>District Name</th>\n",
              "      <th>Gender</th>\n",
              "      <th>Hearing Count</th>\n",
              "      <th>Occupational Disease</th>\n",
              "      <th>Claim Assembly Time Lag</th>\n",
              "    </tr>\n",
              "  </thead>\n",
              "  <tbody>\n",
              "    <tr>\n",
              "      <th>9909</th>\n",
              "      <td>44</td>\n",
              "      <td>N</td>\n",
              "      <td>Y</td>\n",
              "      <td>546.69</td>\n",
              "      <td>4A. SELF PRIVATE</td>\n",
              "      <td>3. MED ONLY</td>\n",
              "      <td>1</td>\n",
              "      <td>MOTION SET</td>\n",
              "      <td>NYC</td>\n",
              "      <td>M</td>\n",
              "      <td>0</td>\n",
              "      <td>N</td>\n",
              "      <td>68.0</td>\n",
              "    </tr>\n",
              "    <tr>\n",
              "      <th>16493</th>\n",
              "      <td>34</td>\n",
              "      <td>N</td>\n",
              "      <td>N</td>\n",
              "      <td>656.23</td>\n",
              "      <td>1A. PRIVATE</td>\n",
              "      <td>4. TEMPORARY</td>\n",
              "      <td>1</td>\n",
              "      <td>MOTION SET</td>\n",
              "      <td>ROCHESTER</td>\n",
              "      <td>M</td>\n",
              "      <td>0</td>\n",
              "      <td>N</td>\n",
              "      <td>6.0</td>\n",
              "    </tr>\n",
              "    <tr>\n",
              "      <th>19838</th>\n",
              "      <td>35</td>\n",
              "      <td>N</td>\n",
              "      <td>N</td>\n",
              "      <td>1261.77</td>\n",
              "      <td>1A. PRIVATE</td>\n",
              "      <td>4. TEMPORARY</td>\n",
              "      <td>0</td>\n",
              "      <td>MOTION SET</td>\n",
              "      <td>ALBANY</td>\n",
              "      <td>M</td>\n",
              "      <td>0</td>\n",
              "      <td>N</td>\n",
              "      <td>24.0</td>\n",
              "    </tr>\n",
              "    <tr>\n",
              "      <th>20487</th>\n",
              "      <td>25</td>\n",
              "      <td>N</td>\n",
              "      <td>Y</td>\n",
              "      <td>1000.00</td>\n",
              "      <td>2A. SIF</td>\n",
              "      <td>4. TEMPORARY</td>\n",
              "      <td>1</td>\n",
              "      <td>MOTION SET</td>\n",
              "      <td>NYC</td>\n",
              "      <td>M</td>\n",
              "      <td>0</td>\n",
              "      <td>N</td>\n",
              "      <td>23.0</td>\n",
              "    </tr>\n",
              "    <tr>\n",
              "      <th>20972</th>\n",
              "      <td>48</td>\n",
              "      <td>N</td>\n",
              "      <td>N</td>\n",
              "      <td>1126.77</td>\n",
              "      <td>3A. SELF PUBLIC</td>\n",
              "      <td>3. MED ONLY</td>\n",
              "      <td>1</td>\n",
              "      <td>MOTION SET</td>\n",
              "      <td>HAUPPAUGE</td>\n",
              "      <td>M</td>\n",
              "      <td>0</td>\n",
              "      <td>N</td>\n",
              "      <td>4.0</td>\n",
              "    </tr>\n",
              "  </tbody>\n",
              "</table>\n",
              "</div>\n",
              "      <button class=\"colab-df-convert\" onclick=\"convertToInteractive('df-e01b26fa-8dda-4d6f-b35d-c9f95d6771a9')\"\n",
              "              title=\"Convert this dataframe to an interactive table.\"\n",
              "              style=\"display:none;\">\n",
              "        \n",
              "  <svg xmlns=\"http://www.w3.org/2000/svg\" height=\"24px\"viewBox=\"0 0 24 24\"\n",
              "       width=\"24px\">\n",
              "    <path d=\"M0 0h24v24H0V0z\" fill=\"none\"/>\n",
              "    <path d=\"M18.56 5.44l.94 2.06.94-2.06 2.06-.94-2.06-.94-.94-2.06-.94 2.06-2.06.94zm-11 1L8.5 8.5l.94-2.06 2.06-.94-2.06-.94L8.5 2.5l-.94 2.06-2.06.94zm10 10l.94 2.06.94-2.06 2.06-.94-2.06-.94-.94-2.06-.94 2.06-2.06.94z\"/><path d=\"M17.41 7.96l-1.37-1.37c-.4-.4-.92-.59-1.43-.59-.52 0-1.04.2-1.43.59L10.3 9.45l-7.72 7.72c-.78.78-.78 2.05 0 2.83L4 21.41c.39.39.9.59 1.41.59.51 0 1.02-.2 1.41-.59l7.78-7.78 2.81-2.81c.8-.78.8-2.07 0-2.86zM5.41 20L4 18.59l7.72-7.72 1.47 1.35L5.41 20z\"/>\n",
              "  </svg>\n",
              "      </button>\n",
              "      \n",
              "  <style>\n",
              "    .colab-df-container {\n",
              "      display:flex;\n",
              "      flex-wrap:wrap;\n",
              "      gap: 12px;\n",
              "    }\n",
              "\n",
              "    .colab-df-convert {\n",
              "      background-color: #E8F0FE;\n",
              "      border: none;\n",
              "      border-radius: 50%;\n",
              "      cursor: pointer;\n",
              "      display: none;\n",
              "      fill: #1967D2;\n",
              "      height: 32px;\n",
              "      padding: 0 0 0 0;\n",
              "      width: 32px;\n",
              "    }\n",
              "\n",
              "    .colab-df-convert:hover {\n",
              "      background-color: #E2EBFA;\n",
              "      box-shadow: 0px 1px 2px rgba(60, 64, 67, 0.3), 0px 1px 3px 1px rgba(60, 64, 67, 0.15);\n",
              "      fill: #174EA6;\n",
              "    }\n",
              "\n",
              "    [theme=dark] .colab-df-convert {\n",
              "      background-color: #3B4455;\n",
              "      fill: #D2E3FC;\n",
              "    }\n",
              "\n",
              "    [theme=dark] .colab-df-convert:hover {\n",
              "      background-color: #434B5C;\n",
              "      box-shadow: 0px 1px 3px 1px rgba(0, 0, 0, 0.15);\n",
              "      filter: drop-shadow(0px 1px 2px rgba(0, 0, 0, 0.3));\n",
              "      fill: #FFFFFF;\n",
              "    }\n",
              "  </style>\n",
              "\n",
              "      <script>\n",
              "        const buttonEl =\n",
              "          document.querySelector('#df-e01b26fa-8dda-4d6f-b35d-c9f95d6771a9 button.colab-df-convert');\n",
              "        buttonEl.style.display =\n",
              "          google.colab.kernel.accessAllowed ? 'block' : 'none';\n",
              "\n",
              "        async function convertToInteractive(key) {\n",
              "          const element = document.querySelector('#df-e01b26fa-8dda-4d6f-b35d-c9f95d6771a9');\n",
              "          const dataTable =\n",
              "            await google.colab.kernel.invokeFunction('convertToInteractive',\n",
              "                                                     [key], {});\n",
              "          if (!dataTable) return;\n",
              "\n",
              "          const docLinkHtml = 'Like what you see? Visit the ' +\n",
              "            '<a target=\"_blank\" href=https://colab.research.google.com/notebooks/data_table.ipynb>data table notebook</a>'\n",
              "            + ' to learn more about interactive tables.';\n",
              "          element.innerHTML = '';\n",
              "          dataTable['output_type'] = 'display_data';\n",
              "          await google.colab.output.renderOutput(dataTable, element);\n",
              "          const docLink = document.createElement('div');\n",
              "          docLink.innerHTML = docLinkHtml;\n",
              "          element.appendChild(docLink);\n",
              "        }\n",
              "      </script>\n",
              "    </div>\n",
              "  </div>\n",
              "  "
            ]
          },
          "metadata": {},
          "execution_count": 69
        }
      ]
    },
    {
      "cell_type": "code",
      "source": [
        "from sklearn.feature_selection import SelectKBest\n",
        "from sklearn.model_selection import train_test_split\n",
        "\n",
        "\n",
        "# separate the numerical and categorical columns\n",
        "numeric_cols = X.select_dtypes(include=['float', 'int']).columns\n",
        "categorical_cols = X.select_dtypes(include=['object']).columns\n",
        "\n",
        "\n",
        "\n"
      ],
      "metadata": {
        "id": "E6ospb5IkiBX"
      },
      "execution_count": 69,
      "outputs": []
    },
    {
      "cell_type": "code",
      "source": [
        "#X = X[numeric_cols + categorical_cols]\n",
        "X = X[list(numeric_cols) + list(categorical_cols)]\n",
        "#yf = df['Highest Process']\n",
        "\n",
        "# create dummy variables for the categorical columns\n",
        "X_dummies = pd.get_dummies(X[categorical_cols])\n",
        "\n",
        "# concatenate the dummy variables with the numerical columns\n",
        "X_processed = pd.concat([X[numeric_cols], X_dummies], axis=1)\n",
        "\n",
        "# split the data into a train and test set, stratifying on the target variable\n",
        "X_train, X_test, y_train, y_test = train_test_split(X_processed, y, stratify = y, test_size=0.2, random_state=42)\n",
        "\n"
      ],
      "metadata": {
        "id": "_Pb3sxB2nIGj"
      },
      "execution_count": 70,
      "outputs": []
    },
    {
      "cell_type": "markdown",
      "source": [
        "##### At this point, we would need to scale the dataset numerical values for better feature selection and modelling. Being a real-world dataset, the presence of outliers is inevitable. As a result, we would go with the Standard Scalar:"
      ],
      "metadata": {
        "id": "s5lFYHHFmWhI"
      }
    },
    {
      "cell_type": "code",
      "source": [
        "from sklearn.preprocessing import StandardScaler\n",
        "scaler = StandardScaler()\n",
        "X_train_scaled = scaler.fit_transform(X_train)\n",
        "X_test_scaled = scaler.transform(X_test)"
      ],
      "metadata": {
        "id": "lEUnlvvYJTqR"
      },
      "execution_count": 71,
      "outputs": []
    },
    {
      "cell_type": "markdown",
      "source": [
        "##### :We attempt to train a Decision Tree Classifier before we carry out any feature selection"
      ],
      "metadata": {
        "id": "2gZhs5SjttBa"
      }
    },
    {
      "cell_type": "code",
      "source": [
        "X_train_scaled.shape"
      ],
      "metadata": {
        "colab": {
          "base_uri": "https://localhost:8080/"
        },
        "id": "rvx3NTWvuFG7",
        "outputId": "4fa91e16-fbbb-45ef-9000-6fe86cb9aaf7"
      },
      "execution_count": 72,
      "outputs": [
        {
          "output_type": "execute_result",
          "data": {
            "text/plain": [
              "(1419468, 51)"
            ]
          },
          "metadata": {},
          "execution_count": 72
        }
      ]
    },
    {
      "cell_type": "code",
      "source": [
        "from sklearn.model_selection import cross_val_score\n",
        "from sklearn.tree import DecisionTreeClassifier\n",
        "\n",
        "# Create a decision tree classifier\n",
        "clf_dt1 = DecisionTreeClassifier()\n",
        "\n",
        "# Use stratified k-fold cross-validation to evaluate the classifier on the training data\n",
        "scores_dt1 = cross_val_score(clf_dt1, X_train_scaled, y_train, cv=10)\n",
        "\n",
        "# Calculate the mean and standard deviation of the scores\n",
        "mean_score_dt1 = np.mean(scores_dt1)\n",
        "std_dev_dt1 = np.std(scores_dt1)\n",
        "\n",
        "# Train the classifier on the entire training set and test it on the test set\n",
        "clf_dt1.fit(X_train_scaled, y_train)\n",
        "test_score_dt1 = clf_dt1.score(X_test_scaled, y_test)\n"
      ],
      "metadata": {
        "id": "6_7tJzhAuGKe"
      },
      "execution_count": 123,
      "outputs": []
    },
    {
      "cell_type": "code",
      "source": [
        "print(f\"Accuracy of DecisionTreeClassifier before feature selection: {test_score_dt1: .4f}\")"
      ],
      "metadata": {
        "colab": {
          "base_uri": "https://localhost:8080/"
        },
        "id": "bqcSoTfXuhH4",
        "outputId": "a3064bd2-2c03-442e-a76f-6b90e72860b0"
      },
      "execution_count": 150,
      "outputs": [
        {
          "output_type": "stream",
          "name": "stdout",
          "text": [
            "Accuracy of DecisionTreeClassifier before feature selection:  0.6352\n"
          ]
        }
      ]
    },
    {
      "cell_type": "code",
      "source": [
        "for i in range(len(scores_dt1)):\n",
        "  print(f'Accuracy of Fold {i+1}: {scores_dt1[i]: .4f}')"
      ],
      "metadata": {
        "colab": {
          "base_uri": "https://localhost:8080/"
        },
        "id": "amj73W1sxqqW",
        "outputId": "317799e8-917b-4748-fd69-9bbf95b0e5ce"
      },
      "execution_count": 155,
      "outputs": [
        {
          "output_type": "stream",
          "name": "stdout",
          "text": [
            "Accuracy of Fold 1:  0.6338\n",
            "Accuracy of Fold 2:  0.6363\n",
            "Accuracy of Fold 3:  0.6353\n",
            "Accuracy of Fold 4:  0.6358\n",
            "Accuracy of Fold 5:  0.6350\n",
            "Accuracy of Fold 6:  0.6350\n",
            "Accuracy of Fold 7:  0.6353\n",
            "Accuracy of Fold 8:  0.6345\n",
            "Accuracy of Fold 9:  0.6352\n",
            "Accuracy of Fold 10:  0.6344\n"
          ]
        }
      ]
    },
    {
      "cell_type": "markdown",
      "source": [
        "The accuracy is about 63%. This Decision Tree Classifier might be overfitting the training data, as it is generalizing poorly on the test set. It will not be concluded just yet, that is not a good model for our data. Accuracy is low. Going forward, we will attempt to improve this by:\n",
        "\n",
        "- Using feature selection, to make sure that the features used by the model are ideal. We will achieve this using SelectKBest from Scikit-Learn and the univariate feature selection method, since we are dealing with categorical and numeric variables.\n",
        "\n",
        "- Attempting to use other models, just in case the Decision Tree Classifier is not ideal for this dataset. We will use the Random Forest classifier and the Stochastic Gradient Descent.\n",
        "\n",
        "- Thereafter, we will do some hyperparameter tuning using GridSearchCV, to estimate the best parameters to fit the above models.\n",
        "\n",
        "- Finally, we will incorportate other performance metrics in assessing our results (making sure the majority class is not in favor)"
      ],
      "metadata": {
        "id": "uig3R7npx-Qd"
      }
    },
    {
      "cell_type": "markdown",
      "source": [
        "#### Proceeding with feature selection, we will stick to the best 8  significant features, as depicted in the visualization that follows:"
      ],
      "metadata": {
        "id": "gq7O6T09177z"
      }
    },
    {
      "cell_type": "markdown",
      "source": [
        "For the feature scoring, we will use the univariate feature selection with F-test, subsequently selecting the 15 most significant features."
      ],
      "metadata": {
        "id": "uPUmVhYM4Gs2"
      }
    },
    {
      "cell_type": "code",
      "source": [
        "from sklearn.feature_selection import SelectKBest, f_classif\n",
        "# Flatten the y_train array into a 1d array\n",
        "\n",
        "y_train = y_train.values\n",
        "y_train = y_train.ravel()\n",
        "\n",
        "# set K to equal the desired 15 features\n",
        "selector = SelectKBest(f_classif, k=8)\n",
        "selector.fit(X_train_scaled, y_train)\n",
        "\n",
        "# Replace zeros in the pvalues_ array with a small non-zero value\n",
        "selector.pvalues_[selector.pvalues_ == 0] = 1e-10\n",
        "\n",
        "scores = -np.log10(selector.pvalues_)\n",
        "scores /= scores.max()"
      ],
      "metadata": {
        "id": "4k5TvzMoMq66"
      },
      "execution_count": 73,
      "outputs": []
    },
    {
      "cell_type": "code",
      "source": [
        "import matplotlib.pyplot as plt\n",
        "\n",
        "# Create the X_indices array using the shape of the scores array\n",
        "X_indices = np.arange(scores.shape[0])\n",
        "\n",
        "# Create a new figure\n",
        "plt.figure(1)\n",
        "plt.clf()\n",
        "\n",
        "# Plot the scores as a bar chart\n",
        "plt.bar(X_indices, scores)\n",
        "\n",
        "# Add a title, x-label, and y-label\n",
        "plt.title(\"Feature univariate score\")\n",
        "plt.xlabel(\"Feature number\")\n",
        "plt.ylabel(r\"Univariate score ($-Log(p_{value})$)\")\n",
        "\n",
        "# Show the plot\n",
        "plt.show()\n"
      ],
      "metadata": {
        "colab": {
          "base_uri": "https://localhost:8080/",
          "height": 295
        },
        "id": "PKoLchkBQg7Y",
        "outputId": "495c5ca7-c40f-443a-fb49-752fb7acf9ed"
      },
      "execution_count": 74,
      "outputs": [
        {
          "output_type": "display_data",
          "data": {
            "text/plain": [
              "<Figure size 432x288 with 1 Axes>"
            ],
            "image/png": "[encoded data removed]"
          },
          "metadata": {
            "needs_background": "light"
          }
        }
      ]
    },
    {
      "cell_type": "code",
      "source": [
        "print(scores)"
      ],
      "metadata": {
        "colab": {
          "base_uri": "https://localhost:8080/"
        },
        "id": "vxZun-b8RQ75",
        "outputId": "4b868c2a-a504-4c99-ae91-d24cf791203d"
      },
      "execution_count": 140,
      "outputs": [
        {
          "output_type": "stream",
          "name": "stdout",
          "text": [
            "[0.03306401 0.15330747 0.03306401 0.03306401 0.03306401 0.00287671\n",
            " 0.00287671 0.03306401 0.03306401 0.03306401 1.         0.00594127\n",
            " 0.03306401 0.03306401 0.03306401 0.00361644 0.02832264 0.03306401\n",
            " 0.03306401 0.24092297 0.03306401 0.03306401 0.03306401 0.03306401\n",
            " 0.03306401 0.03306401 0.03306401 0.03306401 0.00808887 0.00808887\n",
            " 0.24092297 0.03306401 0.03306401 0.03306401 0.00339697 0.03306401\n",
            " 0.95274798 0.04006895 0.76381784 0.03306401 0.03306401 0.03306401\n",
            " 0.03306401 0.03306401 0.03306401 0.03306401 0.03306401 0.8387029\n",
            " 0.8387029  0.03306401 0.03306401]\n"
          ]
        }
      ]
    },
    {
      "cell_type": "code",
      "source": [
        "# Get the boolean array indicating which features were selected\n",
        "selected = selector.get_support()\n",
        "\n",
        "# Convert the X_train_scaled array into a DataFrame\n",
        "X_train_scaled_df = pd.DataFrame(X_train)\n",
        "\n",
        "# Get the column names of the X_train_scaled_df DataFrame\n",
        "feature_names = X_train_scaled_df.columns.tolist()\n",
        "\n",
        "# Print the names of the selected features\n",
        "print(\"Selected features:\")\n",
        "for i, feature in enumerate(selected):\n",
        "    if feature:\n",
        "        print(f\"{i}: {feature_names[i]}\")\n"
      ],
      "metadata": {
        "colab": {
          "base_uri": "https://localhost:8080/"
        },
        "id": "XDtR9lVnT6sp",
        "outputId": "ccd1f0b5-2caf-4673-cbd3-f2828e15efcb"
      },
      "execution_count": 74,
      "outputs": [
        {
          "output_type": "stream",
          "name": "stdout",
          "text": [
            "Selected features:\n",
            "2: Closed Count\n",
            "3: Hearing Count\n",
            "7: Attorney/Representative_N\n",
            "8: Attorney/Representative_Y\n",
            "21: Claim Injury Type_3. MED ONLY\n",
            "22: Claim Injury Type_4. TEMPORARY\n",
            "23: Claim Injury Type_5. PPD SCH LOSS\n",
            "24: Claim Injury Type_6. PPD NSL\n"
          ]
        }
      ]
    },
    {
      "cell_type": "code",
      "source": [
        "selected"
      ],
      "metadata": {
        "colab": {
          "base_uri": "https://localhost:8080/"
        },
        "id": "yEspCcbIgGBe",
        "outputId": "0ac0b0d2-ee6b-4abf-c583-bd3d1a45e8dc"
      },
      "execution_count": 143,
      "outputs": [
        {
          "output_type": "execute_result",
          "data": {
            "text/plain": [
              "array([False, False,  True,  True, False, False, False,  True,  True,\n",
              "       False, False, False, False, False, False, False, False, False,\n",
              "       False, False, False,  True,  True,  True,  True, False, False,\n",
              "       False, False, False, False, False, False, False, False, False,\n",
              "       False, False, False, False, False, False, False, False, False,\n",
              "       False, False, False, False, False, False])"
            ]
          },
          "metadata": {},
          "execution_count": 143
        }
      ]
    },
    {
      "cell_type": "markdown",
      "source": [
        "Selecting the top 8 features from the dataset:"
      ],
      "metadata": {
        "id": "VuYjN3bH6uDj"
      }
    },
    {
      "cell_type": "code",
      "source": [
        "# Select the top k features from the training and test datasets using the selector object\n",
        "X_train_selected = selector.transform(X_train_scaled)\n",
        "X_test_selected = selector.transform(X_test_scaled)"
      ],
      "metadata": {
        "id": "wpSK_DzV64Mk"
      },
      "execution_count": 75,
      "outputs": []
    },
    {
      "cell_type": "markdown",
      "source": [
        "Now, we will re-train our Decision tree classifier using the selected features"
      ],
      "metadata": {
        "id": "tmuRPvKY6Zv5"
      }
    },
    {
      "cell_type": "code",
      "source": [
        "from sklearn.model_selection import cross_val_score\n",
        "from sklearn.tree import DecisionTreeClassifier\n",
        "\n",
        "# Create a decision tree classifier\n",
        "clf_dt2 = DecisionTreeClassifier()\n",
        "\n",
        "# Use stratified k-fold cross-validation to evaluate the classifier on the training data\n",
        "scores_dt2 = cross_val_score(clf_dt2, X_train_selected, y_train, cv=10)\n",
        "\n",
        "# Calculate the mean and standard deviation of the scores\n",
        "mean_score_dt2 = np.mean(scores_dt2)\n",
        "std_dev_dt2 = np.std(scores_dt2)\n",
        "\n",
        "# Train the classifier on the entire training set and test it on the test set\n",
        "clf_dt2.fit(X_train_selected, y_train)\n",
        "test_score_dt2 = clf_dt2.score(X_test_selected, y_test)\n"
      ],
      "metadata": {
        "id": "t94-frmTw4W2"
      },
      "execution_count": 145,
      "outputs": []
    },
    {
      "cell_type": "code",
      "source": [
        "test_score_dt2"
      ],
      "metadata": {
        "colab": {
          "base_uri": "https://localhost:8080/"
        },
        "id": "-_nhdVmJ3egz",
        "outputId": "b80a8cfa-c2d3-4c2f-8a55-391963443eb0"
      },
      "execution_count": 146,
      "outputs": [
        {
          "output_type": "execute_result",
          "data": {
            "text/plain": [
              "0.7085648748266962"
            ]
          },
          "metadata": {},
          "execution_count": 146
        }
      ]
    },
    {
      "cell_type": "markdown",
      "source": [
        "We observe that the accuracy has increased by about 7%, which is significant. However, we will continue to explore other ways to see if our model could do better on our test set."
      ],
      "metadata": {
        "id": "Hy_EC6JG7pVz"
      }
    },
    {
      "cell_type": "code",
      "source": [
        "mean_score_dt2"
      ],
      "metadata": {
        "colab": {
          "base_uri": "https://localhost:8080/"
        },
        "id": "LDqk9wyL5Npz",
        "outputId": "93b61c49-b7d8-4dd5-8834-98f7a2230538"
      },
      "execution_count": 147,
      "outputs": [
        {
          "output_type": "execute_result",
          "data": {
            "text/plain": [
              "0.7087282005802173"
            ]
          },
          "metadata": {},
          "execution_count": 147
        }
      ]
    },
    {
      "cell_type": "markdown",
      "source": [
        "We will move on to the Logistic Regression model. Trying out the Stochastic Gradient Descent:"
      ],
      "metadata": {
        "id": "tiyzk23w8Sa6"
      }
    },
    {
      "cell_type": "code",
      "source": [
        "from sklearn.linear_model import SGDClassifier\n",
        "\n",
        "# Create an SGD logistic regression model\n",
        "clf_sgd1 = SGDClassifier()\n",
        "\n",
        "# Train the model on the training data\n",
        "clf_sgd1.fit(X_train_selected, y_train)\n",
        "\n",
        "# Test the model on the test data\n",
        "y_pred_sgd1 = clf_sgd1.predict(X_test_selected)\n",
        "\n",
        "# Evaluate the model \n",
        "accuracy_sgd1 = clf_sgd1.score(X_test_selected, y_test)\n",
        "print(f\"SGD  Classifier Accuracy of our model: {accuracy_sgd1:.4f}\")"
      ],
      "metadata": {
        "colab": {
          "base_uri": "https://localhost:8080/"
        },
        "id": "uqJTRPEq9VkZ",
        "outputId": "eb103083-91cc-420f-8538-0ae61e03ba3e"
      },
      "execution_count": 154,
      "outputs": [
        {
          "output_type": "stream",
          "name": "stdout",
          "text": [
            "SGD  Classifier Accuracy of our model: 0.6505\n"
          ]
        }
      ]
    },
    {
      "cell_type": "code",
      "source": [
        "# Calculate the training error\n",
        "training_error_sgd = 1 - clf_sgd1.score(X_train_selected, y_train)\n",
        "\n",
        "# Calculate the test error\n",
        "test_error_sgd = 1 - clf_sgd1.score(X_test_selected, y_test)\n",
        "\n",
        "print(f\"SGD Classifier Training error: {training_error_sgd:.4f}\")\n",
        "print(f\"SGD Classifier Test error: {test_error_sgd:.4f}\")"
      ],
      "metadata": {
        "colab": {
          "base_uri": "https://localhost:8080/"
        },
        "id": "bUl9e1rk_lJb",
        "outputId": "dd6d0f9e-c5a4-4ebe-bd24-bedbff874e9d"
      },
      "execution_count": 153,
      "outputs": [
        {
          "output_type": "stream",
          "name": "stdout",
          "text": [
            "SGD Classifier Training error: 0.3493\n",
            "SGD Classifier Test error: 0.3495\n"
          ]
        }
      ]
    },
    {
      "cell_type": "markdown",
      "source": [
        "We will attempt to improve this SGD Classifier by training using cross-validation:"
      ],
      "metadata": {
        "id": "0cSWgA_0-3un"
      }
    },
    {
      "cell_type": "code",
      "source": [
        "# Create Model\n",
        "clf_sgd2 = SGDClassifier()\n",
        "\n",
        "# Train the model on the training data\n",
        "clf_sgd2.fit(X_train_selected, y_train)\n",
        "\n",
        "#Using cross validation:\n",
        "scores_sgd2 = cross_val_score(clf_sgd2, X_train_selected, y_train, cv=10, scoring=\"accuracy\")\n"
      ],
      "metadata": {
        "id": "ONpQDfd7C1i1"
      },
      "execution_count": 157,
      "outputs": []
    },
    {
      "cell_type": "code",
      "source": [
        "#Printing the accuracies for each fold during cross-validation\n",
        "for i in range(len(scores_sgd2)):\n",
        "  print(\"Accuracy of Fold {}: {:.4f}\".format(i+1, scores_sgd2[i]))"
      ],
      "metadata": {
        "colab": {
          "base_uri": "https://localhost:8080/"
        },
        "id": "h6aBDWwrJQ6D",
        "outputId": "2f040732-7d48-49d2-dc74-28cd819ffdb3"
      },
      "execution_count": 158,
      "outputs": [
        {
          "output_type": "stream",
          "name": "stdout",
          "text": [
            "Accuracy of Fold 1: 0.6598\n",
            "Accuracy of Fold 2: 0.6436\n",
            "Accuracy of Fold 3: 0.6530\n",
            "Accuracy of Fold 4: 0.6578\n",
            "Accuracy of Fold 5: 0.6402\n",
            "Accuracy of Fold 6: 0.6471\n",
            "Accuracy of Fold 7: 0.6628\n",
            "Accuracy of Fold 8: 0.6405\n",
            "Accuracy of Fold 9: 0.6637\n",
            "Accuracy of Fold 10: 0.6262\n"
          ]
        }
      ]
    },
    {
      "cell_type": "code",
      "source": [
        "# Evaluate the model \n",
        "accuracy_sgd2 = clf_sgd2.score(X_test_selected, y_test)\n",
        "print(f\"SGD Classifier Accuracy of our model: {accuracy_sgd2:.4f}\")\n",
        "\n",
        "# Calculate the training error\n",
        "training_error_sgd2 = 1 - clf_sgd1.score(X_train_selected, y_train)\n",
        "\n",
        "# Calculate the test error\n",
        "test_error_sgd2 = 1 - clf_sgd1.score(X_test_selected, y_test)\n",
        "\n",
        "print(f\"SGD Classifier Training error: {training_error_sgd2:.4f}\")\n",
        "print(f\"SGD Classifier Test error: {test_error_sgd2:.4f}\")"
      ],
      "metadata": {
        "colab": {
          "base_uri": "https://localhost:8080/"
        },
        "id": "nGfqYjdMBMKU",
        "outputId": "095d6d39-da53-49fb-84ca-55db279d2dbb"
      },
      "execution_count": 162,
      "outputs": [
        {
          "output_type": "stream",
          "name": "stdout",
          "text": [
            "SGD Classifier Accuracy of our model: 0.6578\n",
            "SGD Classifier Training error: 0.3493\n",
            "SGD Classifier Test error: 0.3495\n"
          ]
        }
      ]
    },
    {
      "cell_type": "markdown",
      "source": [
        "##### Accuracy not too good. We will attempt to use GridSearchCV to fine-tune the hyperparameters of the Decision tree model and the logistic regression model using the SGDClassifier class"
      ],
      "metadata": {
        "id": "jAdqZ_3gLrTW"
      }
    },
    {
      "cell_type": "markdown",
      "source": [
        "### For the Decision Tree Model tuning:"
      ],
      "metadata": {
        "id": "8izxX2ndDTFc"
      }
    },
    {
      "cell_type": "code",
      "source": [
        "from sklearn.model_selection import GridSearchCV\n",
        "\n",
        "# Set up the grid search parameters\n",
        "param_grid_dt2 = {\n",
        "    \"max_depth\": [5, 7, 9, 11],  # try different values for max_depth\n",
        "    \"min_samples_split\": [2, 4, 6, 8],  # try different values for min_samples_split\n",
        "    \"criterion\": [\"gini\", \"entropy\"]  # try different values for criterion\n",
        "}\n",
        "\n",
        "# Set up the grid search. We will use cross validation also\n",
        "grid_search_dt = GridSearchCV(clf_dt2, param_grid_dt2, cv=5, scoring=\"accuracy\", n_jobs=-1)\n",
        "\n",
        "# Fit the grid search to the training data we have scaled and selected\n",
        "grid_search_dt.fit(X_train_selected, y_train)"
      ],
      "metadata": {
        "colab": {
          "base_uri": "https://localhost:8080/"
        },
        "id": "GSUftawEDYst",
        "outputId": "429d6725-6574-41ad-8229-da7bfdecaeff"
      },
      "execution_count": 164,
      "outputs": [
        {
          "output_type": "execute_result",
          "data": {
            "text/plain": [
              "GridSearchCV(cv=5, estimator=DecisionTreeClassifier(), n_jobs=-1,\n",
              "             param_grid={'criterion': ['gini', 'entropy'],\n",
              "                         'max_depth': [5, 7, 9, 11],\n",
              "                         'min_samples_split': [2, 4, 6, 8]},\n",
              "             scoring='accuracy')"
            ]
          },
          "metadata": {},
          "execution_count": 164
        }
      ]
    },
    {
      "cell_type": "markdown",
      "source": [
        "Best parameters, as selected by the Grid Search"
      ],
      "metadata": {
        "id": "vpIs3poSF0mP"
      }
    },
    {
      "cell_type": "code",
      "source": [
        "# Use the best_params_ attribute of the GridSearchCV instance to get the best combination of hyperparameters\n",
        "best_params_dt = grid_search_dt.best_params_\n",
        "print(f\"Best hyperparameters: {best_params_dt}\")"
      ],
      "metadata": {
        "colab": {
          "base_uri": "https://localhost:8080/"
        },
        "id": "dJ6-iW8PE1Fb",
        "outputId": "739611db-17bd-4513-ac7a-a86d709512f1"
      },
      "execution_count": 165,
      "outputs": [
        {
          "output_type": "stream",
          "name": "stdout",
          "text": [
            "Best hyperparameters: {'criterion': 'gini', 'max_depth': 9, 'min_samples_split': 2}\n"
          ]
        }
      ]
    },
    {
      "cell_type": "code",
      "source": [
        "grid_search_dt.best_estimator_"
      ],
      "metadata": {
        "colab": {
          "base_uri": "https://localhost:8080/"
        },
        "id": "xf7p_1d2Gd5x",
        "outputId": "89d1cedd-0600-4883-cf3b-6451b346605f"
      },
      "execution_count": 166,
      "outputs": [
        {
          "output_type": "execute_result",
          "data": {
            "text/plain": [
              "DecisionTreeClassifier(max_depth=9)"
            ]
          },
          "metadata": {},
          "execution_count": 166
        }
      ]
    },
    {
      "cell_type": "markdown",
      "source": [
        "#### Using these hyperparameters to train a new Decision Tree Model:"
      ],
      "metadata": {
        "id": "4OU62kSFHNTq"
      }
    },
    {
      "cell_type": "code",
      "source": [
        "from sklearn.metrics import accuracy_score\n",
        "\n",
        "# Create a new DT model with the best hyperparameters\n",
        "clf_dt_bp = DecisionTreeClassifier(**best_params_dt)\n",
        "\n",
        "# Train the model on the training data\n",
        "clf_dt_bp.fit(X_train_selected, y_train)\n",
        "\n",
        "# Test the model on the test data\n",
        "y_pred_dt_bp = clf_dt_bp.predict(X_test_selected)\n",
        "\n",
        "# Evaluate the model's accuracy on the test data\n",
        "accuracy_dt_bp = accuracy_score(y_test, y_pred_dt_bp)\n",
        "print(f\"Decision Tree Accuracy (after tuning): {accuracy_dt_bp:.4f}\")"
      ],
      "metadata": {
        "colab": {
          "base_uri": "https://localhost:8080/"
        },
        "id": "sIQr4RVEHdkt",
        "outputId": "d43497b7-33c9-4aab-cafa-410707d5779d"
      },
      "execution_count": 174,
      "outputs": [
        {
          "output_type": "stream",
          "name": "stdout",
          "text": [
            "Decision Tree Accuracy (after tuning): 0.7089\n"
          ]
        }
      ]
    },
    {
      "cell_type": "markdown",
      "source": [
        "#### Using these hyperparameters to train a new Stochastic Gradient Descent Model:"
      ],
      "metadata": {
        "id": "qoobYbnVLbzr"
      }
    },
    {
      "cell_type": "code",
      "source": [
        "# Define the parameter grid for the hyperparameters to tune\n",
        "param_grid_sgd = {\n",
        "    \"loss\": [\"log\"],\n",
        "    \"penalty\": [\"l2\", \"l1\"],\n",
        "    \"alpha\": [0.0001, 0.001, 0.01],\n",
        "}\n",
        "\n",
        "# Create an instance of the GridSearchCV class\n",
        "grid_search_sgd = GridSearchCV(clf_sgd2, param_grid_sgd, scoring=\"accuracy\")\n",
        "\n",
        "# Use the fit method of the GridSearchCV instance to fit the model to the training data\n",
        "grid_search_sgd.fit(X_train_selected, y_train)\n",
        "\n",
        "# Use the best_params_ attribute of the GridSearchCV instance to get the best combination of hyperparameters\n",
        "best_params_sgd = grid_search_sgd.best_params_\n",
        "print(f\"Best hyperparameters: {best_params_sgd}\")"
      ],
      "metadata": {
        "colab": {
          "base_uri": "https://localhost:8080/"
        },
        "id": "oqhDWc6VNMuj",
        "outputId": "e0110809-1a33-4b2d-8c81-29c8bc20cef4"
      },
      "execution_count": 175,
      "outputs": [
        {
          "output_type": "stream",
          "name": "stdout",
          "text": [
            "Best hyperparameters: {'alpha': 0.0001, 'loss': 'log', 'penalty': 'l1'}\n"
          ]
        }
      ]
    },
    {
      "cell_type": "code",
      "source": [
        "grid_search_sgd.best_estimator_"
      ],
      "metadata": {
        "colab": {
          "base_uri": "https://localhost:8080/"
        },
        "id": "QNWl6CBnM6uE",
        "outputId": "2f81545a-d166-44ec-c333-12bb538920b2"
      },
      "execution_count": 180,
      "outputs": [
        {
          "output_type": "execute_result",
          "data": {
            "text/plain": [
              "SGDClassifier(loss='log', penalty='l1')"
            ]
          },
          "metadata": {},
          "execution_count": 180
        }
      ]
    },
    {
      "cell_type": "markdown",
      "source": [
        "##### Using this best parameters to train a new model, we then evaluate the new model's performance metrics"
      ],
      "metadata": {
        "id": "ZwjvUbijSW-6"
      }
    },
    {
      "cell_type": "code",
      "source": [
        "# Create a new SGD logistic regression model with the best hyperparameters\n",
        "clf_sgd_bp = SGDClassifier(**best_params_sgd)\n",
        "\n",
        "# Train the model on the training data\n",
        "clf_sgd_bp.fit(X_train_selected, y_train)\n",
        "\n",
        "# Test the model on the test data\n",
        "y_pred_sgd_bp = clf_sgd_bp.predict(X_test_selected)\n",
        "\n",
        "# Evaluate the model's accuracy on the test data\n",
        "accuracy_sgd_bp = accuracy_score(y_test, y_pred_sgd_bp)\n",
        "print(f\"SGD Accuracy (after tuning): {accuracy_sgd_bp:.4f}\")\n"
      ],
      "metadata": {
        "colab": {
          "base_uri": "https://localhost:8080/"
        },
        "id": "vk_wSF88Sz6H",
        "outputId": "b525bba1-248c-4d36-b853-ee5c16cb1eb3"
      },
      "execution_count": 177,
      "outputs": [
        {
          "output_type": "stream",
          "name": "stdout",
          "text": [
            "SGD Accuracy (after tuning): 0.6725\n"
          ]
        }
      ]
    },
    {
      "cell_type": "code",
      "source": [
        "from sklearn.metrics import f1_score\n",
        "\n",
        "# Compute the F1 score on the test data\n",
        "f1 = f1_score(y_test, y_pred_sgd_bp, average = \"micro\")\n",
        "f1_ = f1_score(y_test, y_pred_sgd_bp, average = None)\n",
        "print(f\"SGD F1 score (After tuning): {f1:.3f}\")\n",
        "#print(f\"SGD F1 score for each class (After tuning): {f1_:.3f}\")\n",
        "f1_list = list(map(\"{:.3f}%\".format,f1_)) #considering our multiclass prediction"
      ],
      "metadata": {
        "colab": {
          "base_uri": "https://localhost:8080/"
        },
        "id": "-xZrAHIjUXBf",
        "outputId": "8b479b04-0deb-4193-abd9-1879f6221fa1"
      },
      "execution_count": 181,
      "outputs": [
        {
          "output_type": "stream",
          "name": "stdout",
          "text": [
            "SGD F1 score (After tuning): 0.673\n"
          ]
        }
      ]
    },
    {
      "cell_type": "code",
      "source": [
        "for i in range(len(f1_list)):\n",
        "  print(f'{y_train[i]} - {f1_list[i]}')"
      ],
      "metadata": {
        "id": "L4hYAsxCU4Nh"
      },
      "execution_count": null,
      "outputs": []
    },
    {
      "cell_type": "markdown",
      "source": [
        "### Considering other Performance Metrics (for DeisionTree Classifier)"
      ],
      "metadata": {
        "id": "TWmna3n0NrCR"
      }
    },
    {
      "cell_type": "code",
      "source": [
        "from sklearn.metrics import classification_report\n",
        "\n",
        "# Predict the labels for the test data\n",
        "y_pred_dt_bp = clf_dt_bp.predict(X_test_selected)\n",
        "\n",
        "# Generate the classification report\n",
        "report = classification_report(y_test, y_pred_dt_bp, target_names=target_names)\n",
        "print(report)"
      ],
      "metadata": {
        "id": "bE0uxyvfl57Y"
      },
      "execution_count": null,
      "outputs": []
    },
    {
      "cell_type": "markdown",
      "source": [
        "### Considering other Performance Metrics (for SGD Classifier)"
      ],
      "metadata": {
        "id": "5FC3vX16N8Ku"
      }
    },
    {
      "cell_type": "code",
      "source": [
        "# Predict the labels for the test data\n",
        "y_pred_sgd_bp = clf_sgd_bp.predict(X_test_selected)\n",
        "\n",
        "# Generate the classification report\n",
        "report = classification_report(y_test, y_pred_dt_bp, target_names=target_names)\n",
        "print(report)"
      ],
      "metadata": {
        "id": "10YZRNgrOANV"
      },
      "execution_count": null,
      "outputs": []
    },
    {
      "cell_type": "code",
      "source": [
        "from sklearn.tree import export_graphviz\n",
        "import pydotplus\n",
        "\n",
        "class_names = [\"4C. HEARING - SETTLEMENT\", \"3B. CONCILIATION - MEETING\", \"4A. HEARING - JUDGE\", \"2. ADMINISTRATIVE DETERMINATION\", \"4B. HEARING - APPEAL\" ]\n",
        "feature_names = [\"Closed Count\", \"Hearing Count\", \"Attorney/Representative_N\", \"Attorney/Representative_Y\", \"Carrier Type_3A. SELF PUBLIC\", \"Claim Injury Type_3. MED ONLY\", \"Claim Injury Type_4. TEMPORARY\", \"Claim Injury Type_5. PPD SCH LOSS\", \"Claim Injury Type_6. PPD NSL\", \"District Name_NYC\" ]\n",
        "\n",
        "# feature_names = [initial_list[i] for i, feature in enumerate(selected) if feature]\n",
        "\n",
        "# Get the names of the selected features\n",
        "selected_feature_names = [initial_list[i] for i, feature in enumerate(selected) if feature]\n",
        "\n",
        "# Convert the decision tree object into a graph object\n",
        "dot_data = export_graphviz(clf, out_file=None, feature_names=selected_feature_names, class_names=class_names)\n",
        "\n",
        "# Create a graph object\n",
        "graph = pydotplus.graph_from_dot_data(dot_data)\n",
        "\n",
        "# Display the graph\n",
        "graph.write_png(\"decision_tree.png\")\n",
        "\n",
        "# Convert the decision tree object into a graph object\n",
        "dot_data = export_graphviz(clf, out_file=None, feature_names=feature_names, class_names=class_names)\n",
        "\n",
        "# Create a graph object\n",
        "graph = pydotplus.graph_from_dot_data(dot_data)\n",
        "\n",
        "# Display the graph\n",
        "graph.write_png(\"decision_tree.png\")\n"
      ],
      "metadata": {
        "id": "wuTtM_5OraTg"
      },
      "execution_count": null,
      "outputs": []
    },
    {
      "cell_type": "code",
      "source": [
        "from sklearn.tree import export_graphviz\n",
        "export_graphviz(\n",
        "  tree_clf,\n",
        "  out_file=image_path(\"insurance_decsn.dot\"),\n",
        "  feature_names=iris.feature_names[2:],\n",
        "  class_names=iris.target_names,\n",
        "  rounded=True,\n",
        "  filled=True\n",
        "  )"
      ],
      "metadata": {
        "id": "7OnHw5IUnu_w"
      },
      "execution_count": null,
      "outputs": []
    },
    {
      "cell_type": "code",
      "source": [
        "from sklearn.metrics import roc_auc_score, roc_curve\n",
        "\n",
        "# Calculate the AUC score\n",
        "auc = roc_auc_score(y_test, predictions)\n",
        "\n",
        "# Get the false positive rate and true positive rate for each threshold\n",
        "fpr, tpr, thresholds = roc_curve(y_test, predictions)\n",
        "\n",
        "# Plot the AUROC curve\n",
        "plt.plot(fpr, tpr, 'b', label = 'AUC = %0.2f' % auc)\n",
        "plt.legend(loc = 'lower right')\n",
        "plt.plot([0, 1], [0, 1],'r--')\n",
        "plt.xlim([0, 1])\n",
        "plt.ylim([0, 1])\n",
        "plt.ylabel('True Positive Rate')\n",
        "plt.xlabel('False Positive Rate')\n",
        "plt.title('Receiver Operating Characteristic (ROC) Curve')\n",
        "plt.show()"
      ],
      "metadata": {
        "id": "Aj9LzliwYZeK"
      },
      "execution_count": null,
      "outputs": []
    },
    {
      "cell_type": "code",
      "source": [
        "from sklearn.metrics import confusion_matrix\n",
        "\n",
        "# Calculate the confusion matrix\n",
        "confusion_matrix = confusion_matrix(y_test, predictions)\n",
        "\n",
        "# Print the confusion matrix\n",
        "print(confusion_matrix)\n"
      ],
      "metadata": {
        "colab": {
          "base_uri": "https://localhost:8080/"
        },
        "id": "r86hUIbNYvk8",
        "outputId": "ead21b4e-d697-4970-9e18-51127a830fcb"
      },
      "execution_count": null,
      "outputs": [
        {
          "output_type": "stream",
          "name": "stdout",
          "text": [
            "[[  4118  13552   2122      0      0      0]\n",
            " [  2484  80975   2267      0      0      0]\n",
            " [  1867  27773   5872      0      0      0]\n",
            " [     0      0      0 139473   1318  14665]\n",
            " [     0      0      0  12528   1458   5248]\n",
            " [     0      0      0  16115    803  22232]]\n"
          ]
        }
      ]
    },
    {
      "cell_type": "code",
      "source": [
        "from sklearn.naive_bayes import BernoulliNB\n",
        "\n",
        "# Create the model\n",
        "modelBNB = BernoulliNB()\n",
        "\n",
        "# Train the model on the training data\n",
        "modelBNB.fit(X_train_selected, y_train)\n",
        "\n",
        "# Make predictions on the test data\n",
        "predictions = modelBNB.predict(X_test_selected)\n",
        "\n",
        "# Evaluate the model's performance\n",
        "accuracy = modelBNB.score(X_test_selected, y_test)\n",
        "print(\"Accuracy:\", accuracy)\n"
      ],
      "metadata": {
        "colab": {
          "base_uri": "https://localhost:8080/"
        },
        "id": "37bOPN77ssan",
        "outputId": "df81a2ab-bd21-4880-eda8-f28ece72c3ab"
      },
      "execution_count": null,
      "outputs": [
        {
          "output_type": "stream",
          "name": "stdout",
          "text": [
            "Accuracy: 0.5772705497787922\n"
          ]
        }
      ]
    },
    {
      "cell_type": "markdown",
      "source": [
        "##### We will model using the Random Forest Classifier, before its fine tuning"
      ],
      "metadata": {
        "id": "3qGYgO8Vn2JL"
      }
    },
    {
      "cell_type": "code",
      "source": [
        "from sklearn.ensemble import RandomForestClassifier\n",
        "\n",
        "clf_rf1 = RandomForestClassifier(n_estimators=100)\n",
        "\n",
        "clf_rf1.fit(X_train_selected, y_train)\n",
        "\n",
        "y_pred_rf = clf_rf1.predict(X_test_selected)\n",
        "\n",
        "# Evaluate the model's performance\n",
        "accuracy = clf_rf1.score(X_test_selected, y_test)\n",
        "print(\"Accuracy:\", accuracy)\n"
      ],
      "metadata": {
        "colab": {
          "base_uri": "https://localhost:8080/"
        },
        "id": "MTutVSD0tUCn",
        "outputId": "e5fe4de5-ead5-4329-aa24-115d7468a95e"
      },
      "execution_count": 76,
      "outputs": [
        {
          "output_type": "stream",
          "name": "stdout",
          "text": [
            "Accuracy: 0.7085000619948826\n"
          ]
        }
      ]
    },
    {
      "cell_type": "markdown",
      "source": [
        "##### Evaluating the Classifier's performance:"
      ],
      "metadata": {
        "id": "EyVp1T3utf3n"
      }
    },
    {
      "cell_type": "code",
      "source": [
        "print(classification_report(y_test, y_pred_rf))\n",
        "print(confusion_matrix(y_test, y_pred_rf))"
      ],
      "metadata": {
        "colab": {
          "base_uri": "https://localhost:8080/"
        },
        "id": "8LSPC5entpri",
        "outputId": "dd5f9eb5-5308-4946-cad3-8255aff8de8b"
      },
      "execution_count": 78,
      "outputs": [
        {
          "output_type": "stream",
          "name": "stdout",
          "text": [
            "                                 precision    recall  f1-score   support\n",
            "\n",
            "             1.  NO RESOLUTIONS       0.43      0.20      0.28     19973\n",
            "2. ADMINISTRATIVE DETERMINATION       0.67      0.93      0.78     85806\n",
            "     3B. CONCILIATION - MEETING       0.53      0.17      0.26     35219\n",
            "            4A. HEARING - JUDGE       0.81      0.92      0.86    155390\n",
            "           4B. HEARING - APPEAL       0.42      0.08      0.13     19138\n",
            "       4C. HEARING - SETTLEMENT       0.51      0.44      0.47     39342\n",
            "\n",
            "                       accuracy                           0.71    354868\n",
            "                      macro avg       0.56      0.46      0.46    354868\n",
            "                   weighted avg       0.67      0.71      0.67    354868\n",
            "\n",
            "[[  4055  12965   2953      0      0      0]\n",
            " [  3352  79995   2459      0      0      0]\n",
            " [  1945  27172   6102      0      0      0]\n",
            " [     0      0      0 142389   1139  11862]\n",
            " [     0      0      0  12854   1505   4779]\n",
            " [     0      0      0  20994    921  17427]]\n"
          ]
        }
      ]
    },
    {
      "cell_type": "markdown",
      "source": [
        "Visualizing the confusion matrix: "
      ],
      "metadata": {
        "id": "0-9RfLMZv_TP"
      }
    },
    {
      "cell_type": "code",
      "source": [
        "def plot_confusion_matrix(y_true, y_pred, target_names):\n",
        "    \"\"\"\n",
        "    This function plots the confusion matrix.\n",
        "    \"\"\"\n",
        "    from sklearn.metrics import confusion_matrix\n",
        "\n",
        "    # Compute confusion matrix\n",
        "    cm = confusion_matrix(y_true, y_pred)\n",
        "\n",
        "    # Plot the confusion matrix\n",
        "    fig, ax = plt.subplots(figsize=(15,8))\n",
        "    im = ax.imshow(cm, interpolation='nearest', cmap=plt.cm.Blues)\n",
        "    ax.figure.colorbar(im, ax=ax)\n",
        "    ax.set(xticks=np.arange(cm.shape[1]),\n",
        "           yticks=np.arange(cm.shape[0]),\n",
        "           # ... and label them with the respective list entries\n",
        "           xticklabels=target_names, yticklabels=target_names,\n",
        "           title='Confusion matrix',\n",
        "           ylabel='True label',\n",
        "           xlabel='Predicted label')\n",
        "\n",
        "    # Rotate the tick labels and set their alignment.\n",
        "    plt.setp(ax.get_xticklabels(), rotation=45, ha=\"right\",\n",
        "             rotation_mode=\"anchor\")\n",
        "\n",
        "    # Loop over data dimensions and create text annotations.\n",
        "    fmt = 'd'\n",
        "    thresh = cm.max() / 2.\n",
        "    for i in range(cm.shape[0]):\n",
        "        for j in range(cm.shape[1]):\n",
        "            ax.text(j, i, format(cm[i, j], fmt),\n",
        "                    ha=\"center\", va=\"center\",\n",
        "                    color=\"white\" if cm[i, j] > thresh else \"black\")\n",
        "    fig.tight_layout()\n",
        "    return ax\n"
      ],
      "metadata": {
        "id": "bTpODKDIwRq4"
      },
      "execution_count": 99,
      "outputs": []
    },
    {
      "cell_type": "markdown",
      "source": [
        "#### ...for the Random Forest Classifier"
      ],
      "metadata": {
        "id": "b6I00t4ywtqj"
      }
    },
    {
      "cell_type": "code",
      "source": [
        "target_names = [\"NO RESOLUTIONS\", \"2. ADMINISTRATIVE DETERMINATION\", \"3B. CONCILIATION - MEETING\", \"4A. HEARING - JUDGE\", \"4B. HEARING - APPEAL\", \"4C. HEARING - SETTLEMENT\"]\n",
        "\n",
        "# Plot non-normalized confusion matrix\n",
        "plot_confusion_matrix(y_test, y_pred_rf, target_names)\n",
        "\n",
        "plt.show()"
      ],
      "metadata": {
        "colab": {
          "base_uri": "https://localhost:8080/",
          "height": 585
        },
        "id": "x24AzORrwk9S",
        "outputId": "54fbe6b7-f4db-48e1-e201-cac533d27648"
      },
      "execution_count": 100,
      "outputs": [
        {
          "output_type": "display_data",
          "data": {
            "text/plain": [
              "<Figure size 1080x576 with 2 Axes>"
            ],
            "image/png": "[encoded data removed]"
          },
          "metadata": {
            "needs_background": "light"
          }
        }
      ]
    },
    {
      "cell_type": "code",
      "source": [
        "from sklearn.preprocessing import LabelEncoder\n",
        "\n",
        "# Encode the categorical labels\n",
        "le = LabelEncoder()\n",
        "y_true = le.fit_transform(y_test)\n",
        "y_score = le.transform(y_pred_rf)\n",
        "\n",
        "# Convert y_score to a multi-dimensional array\n",
        "y_score = np.repeat(y_score, len(y_true)).reshape(-1, len(y_true))\n",
        "\n",
        "\n",
        "from sklearn.metrics import roc_auc_score\n",
        "\n",
        "# Compute the AUC for each class\n",
        "aucs = []\n",
        "for i, class_ in enumerate(classes):\n",
        "    auc = roc_auc_score(y_true == i, y_score[:, i])\n",
        "    aucs.append(auc)\n",
        "\n",
        "# Plot the ROC curves\n",
        "for i, class_ in enumerate(classes):\n",
        "    fpr, tpr, _ = roc_curve(y_true == i, y_score[i])\n",
        "    plt.plot(fpr, tpr, label='{}, AUC={:.2f}'.format(class_, aucs[:, i]))\n",
        "\n",
        "plt.title('ROC curve')\n",
        "plt.xlabel('False positive rate')\n",
        "plt.ylabel('True positive rate')\n",
        "plt.legend()\n",
        "plt.show()\n"
      ],
      "metadata": {
        "colab": {
          "base_uri": "https://localhost:8080/"
        },
        "id": "cVYPo-U54BKm",
        "outputId": "4a071185-013e-4d7f-cbf1-4b75e1f6395d"
      },
      "execution_count": null,
      "outputs": [
        {
          "output_type": "stream",
          "name": "stderr",
          "text": [
            "/usr/local/lib/python3.8/dist-packages/sklearn/preprocessing/_label.py:115: DataConversionWarning: A column-vector y was passed when a 1d array was expected. Please change the shape of y to (n_samples, ), for example using ravel().\n",
            "  y = column_or_1d(y, warn=True)\n"
          ]
        }
      ]
    },
    {
      "cell_type": "markdown",
      "source": [
        "## PRELIMINARY REPORTS"
      ],
      "metadata": {
        "id": "qfnQFtxXomp7"
      }
    },
    {
      "cell_type": "markdown",
      "source": [
        "##### SGD"
      ],
      "metadata": {
        "id": "BrKfSf_io5CM"
      }
    },
    {
      "cell_type": "code",
      "source": [
        "from sklearn.metrics import classification_report\n",
        "\n",
        "# evaluate the model\n",
        "report = classification_report(y_test, y_pred_sgd)\n",
        "print(report)"
      ],
      "metadata": {
        "colab": {
          "base_uri": "https://localhost:8080/"
        },
        "id": "khsFl8aeqQiO",
        "outputId": "1bae7ee7-5a6a-4ac8-dd4d-1ca8a7e80958"
      },
      "execution_count": 132,
      "outputs": [
        {
          "output_type": "stream",
          "name": "stdout",
          "text": [
            "                                 precision    recall  f1-score   support\n",
            "\n",
            "             1.  NO RESOLUTIONS       0.40      0.00      0.01     19916\n",
            "2. ADMINISTRATIVE DETERMINATION       0.67      0.91      0.77     85565\n",
            "     3B. CONCILIATION - MEETING       0.76      0.03      0.06     35381\n",
            "            4A. HEARING - JUDGE       0.71      0.94      0.81    155673\n",
            "           4B. HEARING - APPEAL       0.46      0.04      0.07     19145\n",
            "       4C. HEARING - SETTLEMENT       0.58      0.42      0.49     39188\n",
            "\n",
            "                       accuracy                           0.68    354868\n",
            "                      macro avg       0.60      0.39      0.37    354868\n",
            "                   weighted avg       0.66      0.68      0.60    354868\n",
            "\n"
          ]
        }
      ]
    },
    {
      "cell_type": "markdown",
      "source": [
        "#### We will proceed to analysing the Classification report for Random Forest (without regularization)"
      ],
      "metadata": {
        "id": "hDjd9EXDrP86"
      }
    },
    {
      "cell_type": "code",
      "source": [
        "from sklearn.metrics import classification_report\n",
        "\n",
        "# evaluate the model\n",
        "report = classification_report(y_test, y_pred_rf)\n",
        "print(report)"
      ],
      "metadata": {
        "colab": {
          "base_uri": "https://localhost:8080/"
        },
        "id": "ZoX5evxrq1xI",
        "outputId": "6b0d1eb9-1033-49ba-9037-2ed63021d20f"
      },
      "execution_count": 135,
      "outputs": [
        {
          "output_type": "stream",
          "name": "stdout",
          "text": [
            "                                 precision    recall  f1-score   support\n",
            "\n",
            "             1.  NO RESOLUTIONS       0.47      0.21      0.29     19916\n",
            "2. ADMINISTRATIVE DETERMINATION       0.67      0.92      0.77     85565\n",
            "     3B. CONCILIATION - MEETING       0.52      0.21      0.30     35381\n",
            "            4A. HEARING - JUDGE       0.83      0.89      0.86    155673\n",
            "           4B. HEARING - APPEAL       0.31      0.16      0.21     19145\n",
            "       4C. HEARING - SETTLEMENT       0.55      0.52      0.53     39188\n",
            "\n",
            "                       accuracy                           0.71    354868\n",
            "                      macro avg       0.56      0.48      0.49    354868\n",
            "                   weighted avg       0.68      0.71      0.68    354868\n",
            "\n"
          ]
        }
      ]
    },
    {
      "cell_type": "markdown",
      "source": [
        "Visualizing the above:"
      ],
      "metadata": {
        "id": "LjCshPAjrjFc"
      }
    },
    {
      "cell_type": "code",
      "source": [
        "# Extract the precision, recall, and F1 score values from the classification report\n",
        "#report = classification_report(y_test, y_pred_rf, output_dict=True)\n",
        "precision = report['weighted avg']['precision']\n",
        "recall = report['weighted avg']['recall']\n",
        "f1_score = report['weighted avg']['f1-score']\n",
        "\n",
        "target_names = [\"NO RESOLUTIONS\", \"2. ADMINISTRATIVE DETERMINATION\", \"3B. CONCILIATION - MEETING\", \"4A. HEARING - JUDGE\", \"4B. HEARING - APPEAL\", \"4C. HEARING - SETTLEMENT\"]\n",
        "\n",
        "# Set up the bar chart\n",
        "x = np.arange(len(target_names))  # the x-axis will have one tick for each class\n",
        "width = 0.25  \n",
        "\n",
        "fig, ax = plt.subplots(figsize=(20,8))\n",
        "\n",
        "# Plot the precision values\n",
        "precision_bar = ax.bar(x - width, precision, width, label=\"Precision\")\n",
        "# Plot the recall values\n",
        "recall_bar = ax.bar(x, recall, width, label=\"Recall\")\n",
        "# Plot the F1 score values\n",
        "f1_bar = ax.bar(x + width, f1_score, width, label=\"F1 Score\")\n",
        "\n",
        "# Add the class labels to the x-axis\n",
        "ax.set_xticks(x)\n",
        "ax.set_xticklabels(target_names)\n",
        "\n",
        "# Add a legend\n",
        "ax.legend()\n",
        "\n",
        "# Show the plot\n",
        "plt.show()\n"
      ],
      "metadata": {
        "colab": {
          "base_uri": "https://localhost:8080/",
          "height": 483
        },
        "id": "Wqjb5YkguUv4",
        "outputId": "89bc40e5-d964-4b90-f458-89f0a819128e"
      },
      "execution_count": 143,
      "outputs": [
        {
          "output_type": "display_data",
          "data": {
            "text/plain": [
              "<Figure size 1440x576 with 1 Axes>"
            ],
            "image/png": "[encoded data removed]"
          },
          "metadata": {
            "needs_background": "light"
          }
        }
      ]
    },
    {
      "cell_type": "code",
      "source": [
        "from sklearn.metrics import confusion_matrix\n",
        "\n",
        "\n",
        "# Calculate the confusion matrix\n",
        "confusion_matrix = confusion_matrix(y_test, y_pred_rf)\n",
        "\n",
        "# Normalize the confusion matrix\n",
        "confusion_matrix = confusion_matrix.astype('float') / confusion_matrix.sum(axis=1)[:, np.newaxis]\n",
        "\n",
        "# Set up the heatmap\n",
        "sns.heatmap(confusion_matrix, annot=True, xticklabels=target_names, yticklabels=target_names)\n",
        "\n",
        "# Add the x-axis and y-axis labels\n",
        "plt.xlabel(\"Predicted Label\")\n",
        "plt.ylabel(\"True Label\")\n",
        "\n",
        "# Show the plot\n",
        "plt.show()\n"
      ],
      "metadata": {
        "colab": {
          "base_uri": "https://localhost:8080/",
          "height": 451
        },
        "id": "lJgkSHBaxLwt",
        "outputId": "e698a7e8-aae2-46dd-92b2-b44aa004f3f3"
      },
      "execution_count": 145,
      "outputs": [
        {
          "output_type": "display_data",
          "data": {
            "text/plain": [
              "<Figure size 432x288 with 2 Axes>"
            ],
            "image/png": "[encoded data removed]"
          },
          "metadata": {
            "needs_background": "light"
          }
        }
      ]
    }
  ],
  "metadata": {
    "kernelspec": {
      "display_name": "Python 3.9.13 64-bit",
      "language": "python",
      "name": "python3"
    },
    "language_info": {
      "codemirror_mode": {
        "name": "ipython",
        "version": 3
      },
      "file_extension": ".py",
      "mimetype": "text/x-python",
      "name": "python",
      "nbconvert_exporter": "python",
      "pygments_lexer": "ipython3",
      "version": "3.9.13"
    },
    "orig_nbformat": 4,
    "vscode": {
      "interpreter": {
        "hash": "aee8b7b246df8f9039afb4144a1f6fd8d2ca17a180786b69acc140d282b71a49"
      }
    },
    "colab": {
      "provenance": []
    }
  },
  "nbformat": 4,
  "nbformat_minor": 0
}